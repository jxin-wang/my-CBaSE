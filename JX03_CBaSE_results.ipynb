{
 "cells": [
  {
   "cell_type": "code",
   "execution_count": 11,
   "metadata": {},
   "outputs": [],
   "source": [
    "import pandas as pd\n",
    "import numpy as np\n",
    "import time\n",
    "import matplotlib.pyplot as plt\n",
    "import matplotlib"
   ]
  },
  {
   "cell_type": "code",
   "execution_count": 13,
   "metadata": {},
   "outputs": [],
   "source": [
    "df = pd.read_csv('Output/q_values_BCCfullset_source_code.txt', delimiter='\\t', engine='c', low_memory=False, skiprows=[0])"
   ]
  },
  {
   "cell_type": "code",
   "execution_count": 45,
   "metadata": {},
   "outputs": [
    {
     "data": {
      "text/html": [
       "<div>\n",
       "<style scoped>\n",
       "    .dataframe tbody tr th:only-of-type {\n",
       "        vertical-align: middle;\n",
       "    }\n",
       "\n",
       "    .dataframe tbody tr th {\n",
       "        vertical-align: top;\n",
       "    }\n",
       "\n",
       "    .dataframe thead th {\n",
       "        text-align: right;\n",
       "    }\n",
       "</style>\n",
       "<table border=\"1\" class=\"dataframe\">\n",
       "  <thead>\n",
       "    <tr style=\"text-align: right;\">\n",
       "      <th></th>\n",
       "      <th>gene</th>\n",
       "      <th>p_phi_neg</th>\n",
       "      <th>q_phi_neg</th>\n",
       "      <th>phi_neg</th>\n",
       "      <th>p_phi_pos</th>\n",
       "      <th>q_phi_pos</th>\n",
       "      <th>phi_pos_or_p(m=0|s)*p(k=0|s)</th>\n",
       "      <th>m_obs</th>\n",
       "      <th>k_obs</th>\n",
       "      <th>s_obs</th>\n",
       "    </tr>\n",
       "  </thead>\n",
       "  <tbody>\n",
       "    <tr>\n",
       "      <th>0</th>\n",
       "      <td>A1BG</td>\n",
       "      <td>0.561319</td>\n",
       "      <td>0.855803</td>\n",
       "      <td>0.920712</td>\n",
       "      <td>0.578853</td>\n",
       "      <td>1.000000</td>\n",
       "      <td>0.984521</td>\n",
       "      <td>10</td>\n",
       "      <td>0</td>\n",
       "      <td>5</td>\n",
       "    </tr>\n",
       "    <tr>\n",
       "      <th>1</th>\n",
       "      <td>A1CF</td>\n",
       "      <td>0.805210</td>\n",
       "      <td>0.947551</td>\n",
       "      <td>0.513796</td>\n",
       "      <td>0.056315</td>\n",
       "      <td>1.000000</td>\n",
       "      <td>4.004821</td>\n",
       "      <td>64</td>\n",
       "      <td>3</td>\n",
       "      <td>18</td>\n",
       "    </tr>\n",
       "    <tr>\n",
       "      <th>2</th>\n",
       "      <td>A2M</td>\n",
       "      <td>1.000000</td>\n",
       "      <td>1.000000</td>\n",
       "      <td>0.010210</td>\n",
       "      <td>0.000050</td>\n",
       "      <td>0.030323</td>\n",
       "      <td>11.514248</td>\n",
       "      <td>88</td>\n",
       "      <td>7</td>\n",
       "      <td>28</td>\n",
       "    </tr>\n",
       "    <tr>\n",
       "      <th>3</th>\n",
       "      <td>A2ML1</td>\n",
       "      <td>0.816204</td>\n",
       "      <td>0.952442</td>\n",
       "      <td>0.487447</td>\n",
       "      <td>0.041183</td>\n",
       "      <td>0.950218</td>\n",
       "      <td>4.365427</td>\n",
       "      <td>93</td>\n",
       "      <td>5</td>\n",
       "      <td>37</td>\n",
       "    </tr>\n",
       "    <tr>\n",
       "      <th>4</th>\n",
       "      <td>A3GALT2</td>\n",
       "      <td>0.982113</td>\n",
       "      <td>1.000000</td>\n",
       "      <td>0.134371</td>\n",
       "      <td>0.122953</td>\n",
       "      <td>1.000000</td>\n",
       "      <td>3.079383</td>\n",
       "      <td>6</td>\n",
       "      <td>0</td>\n",
       "      <td>0</td>\n",
       "    </tr>\n",
       "  </tbody>\n",
       "</table>\n",
       "</div>"
      ],
      "text/plain": [
       "      gene  p_phi_neg  q_phi_neg   phi_neg  p_phi_pos  q_phi_pos  \\\n",
       "0     A1BG   0.561319   0.855803  0.920712   0.578853   1.000000   \n",
       "1     A1CF   0.805210   0.947551  0.513796   0.056315   1.000000   \n",
       "2      A2M   1.000000   1.000000  0.010210   0.000050   0.030323   \n",
       "3    A2ML1   0.816204   0.952442  0.487447   0.041183   0.950218   \n",
       "4  A3GALT2   0.982113   1.000000  0.134371   0.122953   1.000000   \n",
       "\n",
       "   phi_pos_or_p(m=0|s)*p(k=0|s)  m_obs  k_obs  s_obs  \n",
       "0                      0.984521     10      0      5  \n",
       "1                      4.004821     64      3     18  \n",
       "2                     11.514248     88      7     28  \n",
       "3                      4.365427     93      5     37  \n",
       "4                      3.079383      6      0      0  "
      ]
     },
     "execution_count": 45,
     "metadata": {},
     "output_type": "execute_result"
    }
   ],
   "source": [
    "df.head()"
   ]
  },
  {
   "cell_type": "code",
   "execution_count": 14,
   "metadata": {},
   "outputs": [],
   "source": [
    "ordered_phipos_df = df.sort_values('phi_pos_or_p(m=0|s)*p(k=0|s)', ascending=False)\n",
    "ordered_phineg_df = df.sort_values('phi_neg', ascending=False)"
   ]
  },
  {
   "cell_type": "markdown",
   "metadata": {},
   "source": [
    "Here are the first 20 genes listed in decreasing order of positive selection"
   ]
  },
  {
   "cell_type": "code",
   "execution_count": 15,
   "metadata": {},
   "outputs": [
    {
     "data": {
      "text/html": [
       "<div>\n",
       "<style scoped>\n",
       "    .dataframe tbody tr th:only-of-type {\n",
       "        vertical-align: middle;\n",
       "    }\n",
       "\n",
       "    .dataframe tbody tr th {\n",
       "        vertical-align: top;\n",
       "    }\n",
       "\n",
       "    .dataframe thead th {\n",
       "        text-align: right;\n",
       "    }\n",
       "</style>\n",
       "<table border=\"1\" class=\"dataframe\">\n",
       "  <thead>\n",
       "    <tr style=\"text-align: right;\">\n",
       "      <th></th>\n",
       "      <th>gene</th>\n",
       "      <th>p_phi_neg</th>\n",
       "      <th>q_phi_neg</th>\n",
       "      <th>phi_neg</th>\n",
       "      <th>p_phi_pos</th>\n",
       "      <th>q_phi_pos</th>\n",
       "      <th>phi_pos_or_p(m=0|s)*p(k=0|s)</th>\n",
       "      <th>m_obs</th>\n",
       "      <th>k_obs</th>\n",
       "      <th>s_obs</th>\n",
       "    </tr>\n",
       "  </thead>\n",
       "  <tbody>\n",
       "    <tr>\n",
       "      <th>12802</th>\n",
       "      <td>PTPN14</td>\n",
       "      <td>0.772873</td>\n",
       "      <td>0.933026</td>\n",
       "      <td>0.567455</td>\n",
       "      <td>0.000000</td>\n",
       "      <td>0.000000</td>\n",
       "      <td>100000.000000</td>\n",
       "      <td>29</td>\n",
       "      <td>37</td>\n",
       "      <td>18</td>\n",
       "    </tr>\n",
       "    <tr>\n",
       "      <th>16654</th>\n",
       "      <td>TP53</td>\n",
       "      <td>1.000000</td>\n",
       "      <td>1.000000</td>\n",
       "      <td>0.000000</td>\n",
       "      <td>0.000000</td>\n",
       "      <td>0.000000</td>\n",
       "      <td>68.044256</td>\n",
       "      <td>178</td>\n",
       "      <td>64</td>\n",
       "      <td>14</td>\n",
       "    </tr>\n",
       "    <tr>\n",
       "      <th>16212</th>\n",
       "      <td>TLR9</td>\n",
       "      <td>1.000000</td>\n",
       "      <td>1.000000</td>\n",
       "      <td>0.000008</td>\n",
       "      <td>0.000000</td>\n",
       "      <td>0.000000</td>\n",
       "      <td>40.549978</td>\n",
       "      <td>64</td>\n",
       "      <td>5</td>\n",
       "      <td>3</td>\n",
       "    </tr>\n",
       "    <tr>\n",
       "      <th>12743</th>\n",
       "      <td>PTCH1</td>\n",
       "      <td>1.000000</td>\n",
       "      <td>1.000000</td>\n",
       "      <td>0.002438</td>\n",
       "      <td>0.000000</td>\n",
       "      <td>0.000000</td>\n",
       "      <td>39.160062</td>\n",
       "      <td>68</td>\n",
       "      <td>100</td>\n",
       "      <td>24</td>\n",
       "    </tr>\n",
       "    <tr>\n",
       "      <th>968</th>\n",
       "      <td>ARHGAP35</td>\n",
       "      <td>1.000000</td>\n",
       "      <td>1.000000</td>\n",
       "      <td>0.009404</td>\n",
       "      <td>0.000000</td>\n",
       "      <td>0.000000</td>\n",
       "      <td>34.523909</td>\n",
       "      <td>44</td>\n",
       "      <td>20</td>\n",
       "      <td>12</td>\n",
       "    </tr>\n",
       "    <tr>\n",
       "      <th>5702</th>\n",
       "      <td>FAT1</td>\n",
       "      <td>0.258563</td>\n",
       "      <td>0.634460</td>\n",
       "      <td>1.772043</td>\n",
       "      <td>0.000000</td>\n",
       "      <td>0.000000</td>\n",
       "      <td>34.074596</td>\n",
       "      <td>122</td>\n",
       "      <td>40</td>\n",
       "      <td>69</td>\n",
       "    </tr>\n",
       "    <tr>\n",
       "      <th>7992</th>\n",
       "      <td>ITGB3</td>\n",
       "      <td>1.000000</td>\n",
       "      <td>1.000000</td>\n",
       "      <td>0.000100</td>\n",
       "      <td>0.000000</td>\n",
       "      <td>0.000000</td>\n",
       "      <td>27.473602</td>\n",
       "      <td>70</td>\n",
       "      <td>6</td>\n",
       "      <td>7</td>\n",
       "    </tr>\n",
       "    <tr>\n",
       "      <th>1007</th>\n",
       "      <td>ARID1A</td>\n",
       "      <td>0.702490</td>\n",
       "      <td>0.905071</td>\n",
       "      <td>0.695581</td>\n",
       "      <td>0.000000</td>\n",
       "      <td>0.000000</td>\n",
       "      <td>25.061746</td>\n",
       "      <td>57</td>\n",
       "      <td>23</td>\n",
       "      <td>28</td>\n",
       "    </tr>\n",
       "    <tr>\n",
       "      <th>12332</th>\n",
       "      <td>PPM1D</td>\n",
       "      <td>0.469709</td>\n",
       "      <td>0.801206</td>\n",
       "      <td>1.129463</td>\n",
       "      <td>0.000000</td>\n",
       "      <td>0.000000</td>\n",
       "      <td>23.388702</td>\n",
       "      <td>11</td>\n",
       "      <td>19</td>\n",
       "      <td>6</td>\n",
       "    </tr>\n",
       "    <tr>\n",
       "      <th>10878</th>\n",
       "      <td>NOTCH2</td>\n",
       "      <td>0.999444</td>\n",
       "      <td>1.000000</td>\n",
       "      <td>0.022880</td>\n",
       "      <td>0.000000</td>\n",
       "      <td>0.000000</td>\n",
       "      <td>21.594744</td>\n",
       "      <td>99</td>\n",
       "      <td>23</td>\n",
       "      <td>33</td>\n",
       "    </tr>\n",
       "    <tr>\n",
       "      <th>5391</th>\n",
       "      <td>FAM109A</td>\n",
       "      <td>1.000000</td>\n",
       "      <td>1.000000</td>\n",
       "      <td>0.002268</td>\n",
       "      <td>0.000000</td>\n",
       "      <td>0.000000</td>\n",
       "      <td>21.300559</td>\n",
       "      <td>16</td>\n",
       "      <td>7</td>\n",
       "      <td>2</td>\n",
       "    </tr>\n",
       "    <tr>\n",
       "      <th>6797</th>\n",
       "      <td>GPX6</td>\n",
       "      <td>1.000000</td>\n",
       "      <td>1.000000</td>\n",
       "      <td>0.006730</td>\n",
       "      <td>0.000000</td>\n",
       "      <td>0.000000</td>\n",
       "      <td>17.024257</td>\n",
       "      <td>25</td>\n",
       "      <td>10</td>\n",
       "      <td>14</td>\n",
       "    </tr>\n",
       "    <tr>\n",
       "      <th>16707</th>\n",
       "      <td>TPTE</td>\n",
       "      <td>0.975993</td>\n",
       "      <td>1.000000</td>\n",
       "      <td>0.151598</td>\n",
       "      <td>0.000000</td>\n",
       "      <td>0.000000</td>\n",
       "      <td>16.974408</td>\n",
       "      <td>162</td>\n",
       "      <td>7</td>\n",
       "      <td>28</td>\n",
       "    </tr>\n",
       "    <tr>\n",
       "      <th>16666</th>\n",
       "      <td>TP63</td>\n",
       "      <td>1.000000</td>\n",
       "      <td>1.000000</td>\n",
       "      <td>0.003948</td>\n",
       "      <td>0.000000</td>\n",
       "      <td>0.000000</td>\n",
       "      <td>16.838776</td>\n",
       "      <td>30</td>\n",
       "      <td>9</td>\n",
       "      <td>6</td>\n",
       "    </tr>\n",
       "    <tr>\n",
       "      <th>10877</th>\n",
       "      <td>NOTCH1</td>\n",
       "      <td>1.000000</td>\n",
       "      <td>1.000000</td>\n",
       "      <td>0.018881</td>\n",
       "      <td>0.000000</td>\n",
       "      <td>0.000000</td>\n",
       "      <td>16.572229</td>\n",
       "      <td>92</td>\n",
       "      <td>14</td>\n",
       "      <td>37</td>\n",
       "    </tr>\n",
       "    <tr>\n",
       "      <th>3031</th>\n",
       "      <td>CDKN2A</td>\n",
       "      <td>1.000000</td>\n",
       "      <td>1.000000</td>\n",
       "      <td>0.015415</td>\n",
       "      <td>0.000000</td>\n",
       "      <td>0.000000</td>\n",
       "      <td>16.558754</td>\n",
       "      <td>18</td>\n",
       "      <td>6</td>\n",
       "      <td>2</td>\n",
       "    </tr>\n",
       "    <tr>\n",
       "      <th>1173</th>\n",
       "      <td>ASXL3</td>\n",
       "      <td>1.000000</td>\n",
       "      <td>1.000000</td>\n",
       "      <td>0.001470</td>\n",
       "      <td>0.000000</td>\n",
       "      <td>0.000000</td>\n",
       "      <td>16.549837</td>\n",
       "      <td>257</td>\n",
       "      <td>16</td>\n",
       "      <td>56</td>\n",
       "    </tr>\n",
       "    <tr>\n",
       "      <th>17046</th>\n",
       "      <td>TTN</td>\n",
       "      <td>0.702490</td>\n",
       "      <td>0.905071</td>\n",
       "      <td>0.682840</td>\n",
       "      <td>0.000001</td>\n",
       "      <td>0.001053</td>\n",
       "      <td>16.146017</td>\n",
       "      <td>3412</td>\n",
       "      <td>201</td>\n",
       "      <td>1127</td>\n",
       "    </tr>\n",
       "    <tr>\n",
       "      <th>8513</th>\n",
       "      <td>KMT2D</td>\n",
       "      <td>0.114690</td>\n",
       "      <td>0.452313</td>\n",
       "      <td>2.569032</td>\n",
       "      <td>0.000001</td>\n",
       "      <td>0.001053</td>\n",
       "      <td>15.817785</td>\n",
       "      <td>221</td>\n",
       "      <td>35</td>\n",
       "      <td>120</td>\n",
       "    </tr>\n",
       "    <tr>\n",
       "      <th>10706</th>\n",
       "      <td>NFKBIE</td>\n",
       "      <td>0.937275</td>\n",
       "      <td>0.999096</td>\n",
       "      <td>0.256289</td>\n",
       "      <td>0.000005</td>\n",
       "      <td>0.004762</td>\n",
       "      <td>14.493694</td>\n",
       "      <td>43</td>\n",
       "      <td>0</td>\n",
       "      <td>2</td>\n",
       "    </tr>\n",
       "  </tbody>\n",
       "</table>\n",
       "</div>"
      ],
      "text/plain": [
       "           gene  p_phi_neg  q_phi_neg   phi_neg  p_phi_pos  q_phi_pos  \\\n",
       "12802    PTPN14   0.772873   0.933026  0.567455   0.000000   0.000000   \n",
       "16654      TP53   1.000000   1.000000  0.000000   0.000000   0.000000   \n",
       "16212      TLR9   1.000000   1.000000  0.000008   0.000000   0.000000   \n",
       "12743     PTCH1   1.000000   1.000000  0.002438   0.000000   0.000000   \n",
       "968    ARHGAP35   1.000000   1.000000  0.009404   0.000000   0.000000   \n",
       "5702       FAT1   0.258563   0.634460  1.772043   0.000000   0.000000   \n",
       "7992      ITGB3   1.000000   1.000000  0.000100   0.000000   0.000000   \n",
       "1007     ARID1A   0.702490   0.905071  0.695581   0.000000   0.000000   \n",
       "12332     PPM1D   0.469709   0.801206  1.129463   0.000000   0.000000   \n",
       "10878    NOTCH2   0.999444   1.000000  0.022880   0.000000   0.000000   \n",
       "5391    FAM109A   1.000000   1.000000  0.002268   0.000000   0.000000   \n",
       "6797       GPX6   1.000000   1.000000  0.006730   0.000000   0.000000   \n",
       "16707      TPTE   0.975993   1.000000  0.151598   0.000000   0.000000   \n",
       "16666      TP63   1.000000   1.000000  0.003948   0.000000   0.000000   \n",
       "10877    NOTCH1   1.000000   1.000000  0.018881   0.000000   0.000000   \n",
       "3031     CDKN2A   1.000000   1.000000  0.015415   0.000000   0.000000   \n",
       "1173      ASXL3   1.000000   1.000000  0.001470   0.000000   0.000000   \n",
       "17046       TTN   0.702490   0.905071  0.682840   0.000001   0.001053   \n",
       "8513      KMT2D   0.114690   0.452313  2.569032   0.000001   0.001053   \n",
       "10706    NFKBIE   0.937275   0.999096  0.256289   0.000005   0.004762   \n",
       "\n",
       "       phi_pos_or_p(m=0|s)*p(k=0|s)  m_obs  k_obs  s_obs  \n",
       "12802                 100000.000000     29     37     18  \n",
       "16654                     68.044256    178     64     14  \n",
       "16212                     40.549978     64      5      3  \n",
       "12743                     39.160062     68    100     24  \n",
       "968                       34.523909     44     20     12  \n",
       "5702                      34.074596    122     40     69  \n",
       "7992                      27.473602     70      6      7  \n",
       "1007                      25.061746     57     23     28  \n",
       "12332                     23.388702     11     19      6  \n",
       "10878                     21.594744     99     23     33  \n",
       "5391                      21.300559     16      7      2  \n",
       "6797                      17.024257     25     10     14  \n",
       "16707                     16.974408    162      7     28  \n",
       "16666                     16.838776     30      9      6  \n",
       "10877                     16.572229     92     14     37  \n",
       "3031                      16.558754     18      6      2  \n",
       "1173                      16.549837    257     16     56  \n",
       "17046                     16.146017   3412    201   1127  \n",
       "8513                      15.817785    221     35    120  \n",
       "10706                     14.493694     43      0      2  "
      ]
     },
     "execution_count": 15,
     "metadata": {},
     "output_type": "execute_result"
    }
   ],
   "source": [
    "ordered_phipos_df.iloc[:20]"
   ]
  },
  {
   "cell_type": "markdown",
   "metadata": {},
   "source": [
    "Take only the genes with q_pos-values lower than 0.1"
   ]
  },
  {
   "cell_type": "code",
   "execution_count": 16,
   "metadata": {},
   "outputs": [],
   "source": [
    "q_phi_pos_bygene = []\n",
    "q_phi_pos = []\n",
    "for i in range(len(ordered_phipos_df)):\n",
    "    if ordered_phipos_df['q_phi_pos'].iloc[i] < 0.1:\n",
    "        q_phi_pos_bygene.append([ordered_phipos_df['gene'].iloc[i],ordered_phipos_df['q_phi_pos'].iloc[i]])\n",
    "        q_phi_pos.append(ordered_phipos_df['q_phi_pos'].iloc[i])"
   ]
  },
  {
   "cell_type": "code",
   "execution_count": 17,
   "metadata": {},
   "outputs": [
    {
     "data": {
      "text/plain": [
       "[['PTPN14', 0.0],\n",
       " ['TP53', 0.0],\n",
       " ['TLR9', 0.0],\n",
       " ['PTCH1', 0.0],\n",
       " ['ARHGAP35', 0.0],\n",
       " ['FAT1', 0.0],\n",
       " ['ITGB3', 0.0],\n",
       " ['ARID1A', 0.0],\n",
       " ['PPM1D', 0.0],\n",
       " ['NOTCH2', 0.0],\n",
       " ['FAM109A', 0.0],\n",
       " ['GPX6', 0.0],\n",
       " ['TPTE', 0.0],\n",
       " ['TP63', 0.0],\n",
       " ['NOTCH1', 0.0],\n",
       " ['CDKN2A', 0.0],\n",
       " ['ASXL3', 0.0],\n",
       " ['TTN', 0.001052641],\n",
       " ['KMT2D', 0.001052641],\n",
       " ['NFKBIE', 0.004761946]]"
      ]
     },
     "execution_count": 17,
     "metadata": {},
     "output_type": "execute_result"
    }
   ],
   "source": [
    "q_phi_pos_bygene[:20]"
   ]
  },
  {
   "cell_type": "code",
   "execution_count": 18,
   "metadata": {},
   "outputs": [
    {
     "data": {
      "image/png": "[encoded data removed]",
      "text/plain": [
       "<Figure size 640x480 with 1 Axes>"
      ]
     },
     "metadata": {},
     "output_type": "display_data"
    }
   ],
   "source": [
    "plt.hist(q_phi_pos, bins = 15)\n",
    "plt.title(r'Genes under positive selection $(q_{pos} < 0.1)$')\n",
    "plt.xlabel(r'$q_{pos}$', fontsize = 12)\n",
    "plt.ylabel('number of genes', fontsize = 12)\n",
    "y = np.arange(0,22, 4)\n",
    "plt.yticks(y)\n",
    "plt.savefig('q_graph_pos.png', dpi = 300)\n",
    "plt.show()"
   ]
  },
  {
   "cell_type": "code",
   "execution_count": 19,
   "metadata": {},
   "outputs": [
    {
     "data": {
      "text/plain": [
       "44"
      ]
     },
     "execution_count": 19,
     "metadata": {},
     "output_type": "execute_result"
    }
   ],
   "source": [
    "len(q_phi_pos)"
   ]
  },
  {
   "cell_type": "markdown",
   "metadata": {},
   "source": [
    "There are 44 genes with q_pos-values < 0.1 as calculated by CBaSE\n",
    "\n",
    "From the histogram, most of these have q-values between 0 and 0.005\n",
    "\n",
    "Need to check to see how many of these match with the known COSMIC cancer genes, then check if those that don't have been investigated by other studies"
   ]
  },
  {
   "cell_type": "markdown",
   "metadata": {},
   "source": [
    "Below are the first 20 genes in decreasing order of negative selection"
   ]
  },
  {
   "cell_type": "code",
   "execution_count": 20,
   "metadata": {},
   "outputs": [
    {
     "data": {
      "text/html": [
       "<div>\n",
       "<style scoped>\n",
       "    .dataframe tbody tr th:only-of-type {\n",
       "        vertical-align: middle;\n",
       "    }\n",
       "\n",
       "    .dataframe tbody tr th {\n",
       "        vertical-align: top;\n",
       "    }\n",
       "\n",
       "    .dataframe thead th {\n",
       "        text-align: right;\n",
       "    }\n",
       "</style>\n",
       "<table border=\"1\" class=\"dataframe\">\n",
       "  <thead>\n",
       "    <tr style=\"text-align: right;\">\n",
       "      <th></th>\n",
       "      <th>gene</th>\n",
       "      <th>p_phi_neg</th>\n",
       "      <th>q_phi_neg</th>\n",
       "      <th>phi_neg</th>\n",
       "      <th>p_phi_pos</th>\n",
       "      <th>q_phi_pos</th>\n",
       "      <th>phi_pos_or_p(m=0|s)*p(k=0|s)</th>\n",
       "      <th>m_obs</th>\n",
       "      <th>k_obs</th>\n",
       "      <th>s_obs</th>\n",
       "    </tr>\n",
       "  </thead>\n",
       "  <tbody>\n",
       "    <tr>\n",
       "      <th>16851</th>\n",
       "      <td>TRIO</td>\n",
       "      <td>0.000000</td>\n",
       "      <td>0.000000</td>\n",
       "      <td>19.668690</td>\n",
       "      <td>1.000000</td>\n",
       "      <td>1.0</td>\n",
       "      <td>0.008283</td>\n",
       "      <td>72</td>\n",
       "      <td>4</td>\n",
       "      <td>100</td>\n",
       "    </tr>\n",
       "    <tr>\n",
       "      <th>1539</th>\n",
       "      <td>BCL2L12</td>\n",
       "      <td>0.000000</td>\n",
       "      <td>0.000000</td>\n",
       "      <td>17.614019</td>\n",
       "      <td>1.000000</td>\n",
       "      <td>1.0</td>\n",
       "      <td>0.006512</td>\n",
       "      <td>27</td>\n",
       "      <td>2</td>\n",
       "      <td>45</td>\n",
       "    </tr>\n",
       "    <tr>\n",
       "      <th>15193</th>\n",
       "      <td>SPG7</td>\n",
       "      <td>0.000000</td>\n",
       "      <td>0.000000</td>\n",
       "      <td>17.482285</td>\n",
       "      <td>1.000000</td>\n",
       "      <td>1.0</td>\n",
       "      <td>0.000012</td>\n",
       "      <td>16</td>\n",
       "      <td>0</td>\n",
       "      <td>27</td>\n",
       "    </tr>\n",
       "    <tr>\n",
       "      <th>17712</th>\n",
       "      <td>WFS1</td>\n",
       "      <td>0.000000</td>\n",
       "      <td>0.000000</td>\n",
       "      <td>16.591272</td>\n",
       "      <td>1.000000</td>\n",
       "      <td>1.0</td>\n",
       "      <td>0.006586</td>\n",
       "      <td>34</td>\n",
       "      <td>1</td>\n",
       "      <td>75</td>\n",
       "    </tr>\n",
       "    <tr>\n",
       "      <th>18655</th>\n",
       "      <td>ZZEF1</td>\n",
       "      <td>0.000000</td>\n",
       "      <td>0.000000</td>\n",
       "      <td>15.972964</td>\n",
       "      <td>0.927637</td>\n",
       "      <td>1.0</td>\n",
       "      <td>0.071340</td>\n",
       "      <td>66</td>\n",
       "      <td>7</td>\n",
       "      <td>87</td>\n",
       "    </tr>\n",
       "    <tr>\n",
       "      <th>14773</th>\n",
       "      <td>SLC6A4</td>\n",
       "      <td>0.000000</td>\n",
       "      <td>0.000000</td>\n",
       "      <td>15.706287</td>\n",
       "      <td>1.000000</td>\n",
       "      <td>1.0</td>\n",
       "      <td>0.000006</td>\n",
       "      <td>10</td>\n",
       "      <td>0</td>\n",
       "      <td>33</td>\n",
       "    </tr>\n",
       "    <tr>\n",
       "      <th>7912</th>\n",
       "      <td>IQGAP3</td>\n",
       "      <td>0.000000</td>\n",
       "      <td>0.000000</td>\n",
       "      <td>14.883235</td>\n",
       "      <td>0.934891</td>\n",
       "      <td>1.0</td>\n",
       "      <td>0.042070</td>\n",
       "      <td>21</td>\n",
       "      <td>2</td>\n",
       "      <td>53</td>\n",
       "    </tr>\n",
       "    <tr>\n",
       "      <th>4632</th>\n",
       "      <td>DOCK1</td>\n",
       "      <td>0.000001</td>\n",
       "      <td>0.001667</td>\n",
       "      <td>14.447927</td>\n",
       "      <td>1.000000</td>\n",
       "      <td>1.0</td>\n",
       "      <td>0.000058</td>\n",
       "      <td>42</td>\n",
       "      <td>0</td>\n",
       "      <td>54</td>\n",
       "    </tr>\n",
       "    <tr>\n",
       "      <th>17068</th>\n",
       "      <td>TUBB3</td>\n",
       "      <td>0.000001</td>\n",
       "      <td>0.001667</td>\n",
       "      <td>14.377740</td>\n",
       "      <td>1.000000</td>\n",
       "      <td>1.0</td>\n",
       "      <td>0.003693</td>\n",
       "      <td>35</td>\n",
       "      <td>1</td>\n",
       "      <td>34</td>\n",
       "    </tr>\n",
       "    <tr>\n",
       "      <th>16607</th>\n",
       "      <td>TNRC6A</td>\n",
       "      <td>0.000001</td>\n",
       "      <td>0.001667</td>\n",
       "      <td>14.182743</td>\n",
       "      <td>1.000000</td>\n",
       "      <td>1.0</td>\n",
       "      <td>0.006521</td>\n",
       "      <td>53</td>\n",
       "      <td>0</td>\n",
       "      <td>30</td>\n",
       "    </tr>\n",
       "    <tr>\n",
       "      <th>8471</th>\n",
       "      <td>KLHL36</td>\n",
       "      <td>0.000001</td>\n",
       "      <td>0.001667</td>\n",
       "      <td>14.021076</td>\n",
       "      <td>1.000000</td>\n",
       "      <td>1.0</td>\n",
       "      <td>0.000007</td>\n",
       "      <td>12</td>\n",
       "      <td>0</td>\n",
       "      <td>32</td>\n",
       "    </tr>\n",
       "    <tr>\n",
       "      <th>1609</th>\n",
       "      <td>BIRC6</td>\n",
       "      <td>0.000001</td>\n",
       "      <td>0.001667</td>\n",
       "      <td>13.869388</td>\n",
       "      <td>1.000000</td>\n",
       "      <td>1.0</td>\n",
       "      <td>0.003136</td>\n",
       "      <td>81</td>\n",
       "      <td>3</td>\n",
       "      <td>59</td>\n",
       "    </tr>\n",
       "    <tr>\n",
       "      <th>18250</th>\n",
       "      <td>ZNF385B</td>\n",
       "      <td>0.000002</td>\n",
       "      <td>0.001905</td>\n",
       "      <td>13.548345</td>\n",
       "      <td>1.000000</td>\n",
       "      <td>1.0</td>\n",
       "      <td>0.000016</td>\n",
       "      <td>25</td>\n",
       "      <td>0</td>\n",
       "      <td>35</td>\n",
       "    </tr>\n",
       "    <tr>\n",
       "      <th>4463</th>\n",
       "      <td>DIP2C</td>\n",
       "      <td>0.000002</td>\n",
       "      <td>0.001905</td>\n",
       "      <td>13.134542</td>\n",
       "      <td>1.000000</td>\n",
       "      <td>1.0</td>\n",
       "      <td>0.013622</td>\n",
       "      <td>46</td>\n",
       "      <td>5</td>\n",
       "      <td>51</td>\n",
       "    </tr>\n",
       "    <tr>\n",
       "      <th>9862</th>\n",
       "      <td>MIP</td>\n",
       "      <td>0.000002</td>\n",
       "      <td>0.001905</td>\n",
       "      <td>12.882569</td>\n",
       "      <td>1.000000</td>\n",
       "      <td>1.0</td>\n",
       "      <td>0.011261</td>\n",
       "      <td>19</td>\n",
       "      <td>1</td>\n",
       "      <td>23</td>\n",
       "    </tr>\n",
       "    <tr>\n",
       "      <th>7113</th>\n",
       "      <td>HELZ2</td>\n",
       "      <td>0.000002</td>\n",
       "      <td>0.001905</td>\n",
       "      <td>12.872262</td>\n",
       "      <td>1.000000</td>\n",
       "      <td>1.0</td>\n",
       "      <td>0.001055</td>\n",
       "      <td>105</td>\n",
       "      <td>1</td>\n",
       "      <td>118</td>\n",
       "    </tr>\n",
       "    <tr>\n",
       "      <th>1430</th>\n",
       "      <td>BAD</td>\n",
       "      <td>0.000002</td>\n",
       "      <td>0.001905</td>\n",
       "      <td>12.871743</td>\n",
       "      <td>1.000000</td>\n",
       "      <td>1.0</td>\n",
       "      <td>0.005226</td>\n",
       "      <td>34</td>\n",
       "      <td>1</td>\n",
       "      <td>41</td>\n",
       "    </tr>\n",
       "    <tr>\n",
       "      <th>18559</th>\n",
       "      <td>ZNF823</td>\n",
       "      <td>0.000002</td>\n",
       "      <td>0.001905</td>\n",
       "      <td>12.869534</td>\n",
       "      <td>0.934891</td>\n",
       "      <td>1.0</td>\n",
       "      <td>0.040052</td>\n",
       "      <td>12</td>\n",
       "      <td>2</td>\n",
       "      <td>22</td>\n",
       "    </tr>\n",
       "    <tr>\n",
       "      <th>16088</th>\n",
       "      <td>THAP10</td>\n",
       "      <td>0.000002</td>\n",
       "      <td>0.001905</td>\n",
       "      <td>12.759462</td>\n",
       "      <td>1.000000</td>\n",
       "      <td>1.0</td>\n",
       "      <td>0.000001</td>\n",
       "      <td>1</td>\n",
       "      <td>0</td>\n",
       "      <td>12</td>\n",
       "    </tr>\n",
       "    <tr>\n",
       "      <th>9985</th>\n",
       "      <td>MORF4L1</td>\n",
       "      <td>0.000002</td>\n",
       "      <td>0.001905</td>\n",
       "      <td>12.727439</td>\n",
       "      <td>1.000000</td>\n",
       "      <td>1.0</td>\n",
       "      <td>0.000003</td>\n",
       "      <td>0</td>\n",
       "      <td>0</td>\n",
       "      <td>9</td>\n",
       "    </tr>\n",
       "  </tbody>\n",
       "</table>\n",
       "</div>"
      ],
      "text/plain": [
       "          gene  p_phi_neg  q_phi_neg    phi_neg  p_phi_pos  q_phi_pos  \\\n",
       "16851     TRIO   0.000000   0.000000  19.668690   1.000000        1.0   \n",
       "1539   BCL2L12   0.000000   0.000000  17.614019   1.000000        1.0   \n",
       "15193     SPG7   0.000000   0.000000  17.482285   1.000000        1.0   \n",
       "17712     WFS1   0.000000   0.000000  16.591272   1.000000        1.0   \n",
       "18655    ZZEF1   0.000000   0.000000  15.972964   0.927637        1.0   \n",
       "14773   SLC6A4   0.000000   0.000000  15.706287   1.000000        1.0   \n",
       "7912    IQGAP3   0.000000   0.000000  14.883235   0.934891        1.0   \n",
       "4632     DOCK1   0.000001   0.001667  14.447927   1.000000        1.0   \n",
       "17068    TUBB3   0.000001   0.001667  14.377740   1.000000        1.0   \n",
       "16607   TNRC6A   0.000001   0.001667  14.182743   1.000000        1.0   \n",
       "8471    KLHL36   0.000001   0.001667  14.021076   1.000000        1.0   \n",
       "1609     BIRC6   0.000001   0.001667  13.869388   1.000000        1.0   \n",
       "18250  ZNF385B   0.000002   0.001905  13.548345   1.000000        1.0   \n",
       "4463     DIP2C   0.000002   0.001905  13.134542   1.000000        1.0   \n",
       "9862       MIP   0.000002   0.001905  12.882569   1.000000        1.0   \n",
       "7113     HELZ2   0.000002   0.001905  12.872262   1.000000        1.0   \n",
       "1430       BAD   0.000002   0.001905  12.871743   1.000000        1.0   \n",
       "18559   ZNF823   0.000002   0.001905  12.869534   0.934891        1.0   \n",
       "16088   THAP10   0.000002   0.001905  12.759462   1.000000        1.0   \n",
       "9985   MORF4L1   0.000002   0.001905  12.727439   1.000000        1.0   \n",
       "\n",
       "       phi_pos_or_p(m=0|s)*p(k=0|s)  m_obs  k_obs  s_obs  \n",
       "16851                      0.008283     72      4    100  \n",
       "1539                       0.006512     27      2     45  \n",
       "15193                      0.000012     16      0     27  \n",
       "17712                      0.006586     34      1     75  \n",
       "18655                      0.071340     66      7     87  \n",
       "14773                      0.000006     10      0     33  \n",
       "7912                       0.042070     21      2     53  \n",
       "4632                       0.000058     42      0     54  \n",
       "17068                      0.003693     35      1     34  \n",
       "16607                      0.006521     53      0     30  \n",
       "8471                       0.000007     12      0     32  \n",
       "1609                       0.003136     81      3     59  \n",
       "18250                      0.000016     25      0     35  \n",
       "4463                       0.013622     46      5     51  \n",
       "9862                       0.011261     19      1     23  \n",
       "7113                       0.001055    105      1    118  \n",
       "1430                       0.005226     34      1     41  \n",
       "18559                      0.040052     12      2     22  \n",
       "16088                      0.000001      1      0     12  \n",
       "9985                       0.000003      0      0      9  "
      ]
     },
     "execution_count": 20,
     "metadata": {},
     "output_type": "execute_result"
    }
   ],
   "source": [
    "ordered_phineg_df.iloc[:20]"
   ]
  },
  {
   "cell_type": "markdown",
   "metadata": {},
   "source": [
    "Take only the genes with q-neg values lower than 0.1"
   ]
  },
  {
   "cell_type": "code",
   "execution_count": 21,
   "metadata": {},
   "outputs": [],
   "source": [
    "q_phi_neg_bygene = []\n",
    "q_phi_neg = []\n",
    "for i in range(len(ordered_phineg_df)):\n",
    "    if ordered_phineg_df['q_phi_neg'].iloc[i] < 0.1:\n",
    "        q_phi_neg_bygene.append([ordered_phineg_df['gene'].iloc[i], ordered_phineg_df['q_phi_neg'].iloc[i]])\n",
    "        q_phi_neg.append(ordered_phineg_df['q_phi_neg'].iloc[i])"
   ]
  },
  {
   "cell_type": "code",
   "execution_count": 22,
   "metadata": {},
   "outputs": [
    {
     "data": {
      "text/plain": [
       "[['TRIO', 0.0],\n",
       " ['BCL2L12', 0.0],\n",
       " ['SPG7', 0.0],\n",
       " ['WFS1', 0.0],\n",
       " ['ZZEF1', 0.0],\n",
       " ['SLC6A4', 0.0],\n",
       " ['IQGAP3', 0.0],\n",
       " ['DOCK1', 0.001666681],\n",
       " ['TUBB3', 0.001666681],\n",
       " ['TNRC6A', 0.001666681],\n",
       " ['KLHL36', 0.001666681],\n",
       " ['BIRC6', 0.001666681],\n",
       " ['ZNF385B', 0.001904778],\n",
       " ['DIP2C', 0.001904778],\n",
       " ['MIP', 0.001904778],\n",
       " ['HELZ2', 0.001904778],\n",
       " ['BAD', 0.001904778],\n",
       " ['ZNF823', 0.001904778],\n",
       " ['THAP10', 0.001904778],\n",
       " ['MORF4L1', 0.001904778]]"
      ]
     },
     "execution_count": 22,
     "metadata": {},
     "output_type": "execute_result"
    }
   ],
   "source": [
    "q_phi_neg_bygene[:20]"
   ]
  },
  {
   "cell_type": "code",
   "execution_count": 23,
   "metadata": {},
   "outputs": [
    {
     "data": {
      "image/png": "[encoded data removed]",
      "text/plain": [
       "<Figure size 640x480 with 1 Axes>"
      ]
     },
     "metadata": {},
     "output_type": "display_data"
    }
   ],
   "source": [
    "plt.hist(q_phi_neg, bins = 20)\n",
    "plt.title(r'Genes under negative selection $(q_{neg} < 0.1)$')\n",
    "plt.xlabel(r'$q_{neg}$', fontsize = 12)\n",
    "plt.ylabel('number of genes', fontsize = 12)\n",
    "y = np.arange(0,100, 20)\n",
    "plt.yticks(y)\n",
    "plt.savefig('q_graph_neg.png', dpi = 300)\n",
    "plt.show()"
   ]
  },
  {
   "cell_type": "code",
   "execution_count": 24,
   "metadata": {},
   "outputs": [
    {
     "data": {
      "text/plain": [
       "625"
      ]
     },
     "execution_count": 24,
     "metadata": {},
     "output_type": "execute_result"
    }
   ],
   "source": [
    "len(q_phi_neg)"
   ]
  },
  {
   "cell_type": "markdown",
   "metadata": {},
   "source": [
    "Can see from the histogram that there are far more genes with q-neg < 0.1 than there are genes with q-pos < 0.1\n",
    "\n",
    "Must count how many genes with q-pos < 0.1 and q-neg < 0.1 are in the COSMIC known cancer gene list and WANG cell essential gene list\n",
    "\n",
    "If there are many genes with q-neg/q-pos < 0.1 in those lists, then CBaSE has done a good job of detecting known cancer and cell essential genes.\n",
    "\n",
    "Then see how many of those genes are leftover and search previous studies to see if they confirm the new genes found as cancer genes"
   ]
  },
  {
   "cell_type": "code",
   "execution_count": 47,
   "metadata": {},
   "outputs": [],
   "source": [
    "cell_essG = pd.read_csv('Auxiliary/Wang_cell_essential_genes.txt', header=None)\n",
    "known_cancer_genes = pd.read_csv('Auxiliary/COSMIC_genes_v80.txt', header=None)\n",
    "cellEG = []\n",
    "for i in range(len(cell_essG[0])):\n",
    "    cellEG.append(cell_essG[0][i])\n",
    "known_CG = []\n",
    "for i in range(len(known_cancer_genes[0])):\n",
    "    known_CG.append(known_cancer_genes[0][i])"
   ]
  },
  {
   "cell_type": "code",
   "execution_count": 48,
   "metadata": {},
   "outputs": [
    {
     "data": {
      "text/plain": [
       "['ANAPC4',\n",
       " 'BCR',\n",
       " 'C21orf59',\n",
       " 'CCT7',\n",
       " 'CDC40',\n",
       " 'CDK1',\n",
       " 'CINP',\n",
       " 'COPS3',\n",
       " 'DDOST',\n",
       " 'DDX27']"
      ]
     },
     "execution_count": 48,
     "metadata": {},
     "output_type": "execute_result"
    }
   ],
   "source": [
    "cellEG[:10]"
   ]
  },
  {
   "cell_type": "code",
   "execution_count": 49,
   "metadata": {},
   "outputs": [
    {
     "data": {
      "text/plain": [
       "['ABI1', 'ABL1', 'ABL2', 'ACKR3', 'ACSL3']"
      ]
     },
     "execution_count": 49,
     "metadata": {},
     "output_type": "execute_result"
    }
   ],
   "source": [
    "known_CG[:5]"
   ]
  },
  {
   "cell_type": "markdown",
   "metadata": {},
   "source": [
    "Check if the genes from q_phi_pos_bygene are in the COSMIC human cancer gene list:\n",
    "\n",
    "If the gene is in the list, it is appended to matched_CG\n",
    "\n",
    "If the gene is not in the list, it is appended to new_CG"
   ]
  },
  {
   "cell_type": "code",
   "execution_count": 50,
   "metadata": {},
   "outputs": [],
   "source": [
    "matched_CG = []\n",
    "new_CG = []\n",
    "for i in range(len(q_phi_pos_bygene)):\n",
    "    for j in range(len(known_CG)):\n",
    "        if q_phi_pos_bygene[i][0] == known_CG[j]:\n",
    "            matched_CG.append(q_phi_pos_bygene[i])\n",
    "            break\n",
    "        if j == (len(known_CG)-1):\n",
    "            new_CG.append(q_phi_pos_bygene[i])"
   ]
  },
  {
   "cell_type": "code",
   "execution_count": 51,
   "metadata": {},
   "outputs": [
    {
     "data": {
      "text/plain": [
       "12"
      ]
     },
     "execution_count": 51,
     "metadata": {},
     "output_type": "execute_result"
    }
   ],
   "source": [
    "len(matched_CG)"
   ]
  },
  {
   "cell_type": "code",
   "execution_count": 52,
   "metadata": {},
   "outputs": [
    {
     "data": {
      "text/plain": [
       "[['TP53', 0.0],\n",
       " ['PTCH1', 0.0],\n",
       " ['FAT1', 0.0],\n",
       " ['ARID1A', 0.0],\n",
       " ['PPM1D', 0.0],\n",
       " ['NOTCH2', 0.0],\n",
       " ['TP63', 0.0],\n",
       " ['NOTCH1', 0.0],\n",
       " ['CDKN2A', 0.0],\n",
       " ['KMT2D', 0.001052641],\n",
       " ['NFKBIE', 0.004761946],\n",
       " ['RANBP17', 0.04914328]]"
      ]
     },
     "execution_count": 52,
     "metadata": {},
     "output_type": "execute_result"
    }
   ],
   "source": [
    "matched_CG"
   ]
  },
  {
   "cell_type": "markdown",
   "metadata": {},
   "source": [
    "12/44 of the genes with q-pos < 0.1, as calculated by CBaSE, are already associated with cancer by previous studies.\n",
    "\n",
    "Of these 12 genes, 9 of them have q-values of 0\n",
    "\n",
    "This means CBaSE has most likely detected the correct cancer genes in the BCC data set."
   ]
  },
  {
   "cell_type": "code",
   "execution_count": 53,
   "metadata": {},
   "outputs": [
    {
     "data": {
      "text/plain": [
       "32"
      ]
     },
     "execution_count": 53,
     "metadata": {},
     "output_type": "execute_result"
    }
   ],
   "source": [
    "len(new_CG)"
   ]
  },
  {
   "cell_type": "code",
   "execution_count": 54,
   "metadata": {},
   "outputs": [
    {
     "data": {
      "text/plain": [
       "[['PTPN14', 0.0],\n",
       " ['TLR9', 0.0],\n",
       " ['ARHGAP35', 0.0],\n",
       " ['ITGB3', 0.0],\n",
       " ['FAM109A', 0.0],\n",
       " ['GPX6', 0.0],\n",
       " ['TPTE', 0.0],\n",
       " ['ASXL3', 0.0],\n",
       " ['TTN', 0.001052641],\n",
       " ['PTGER3', 0.004761946],\n",
       " ['SGSH', 0.008695727],\n",
       " ['CARD8', 0.008695727],\n",
       " ['SLC5A11', 0.01166677],\n",
       " ['ABCC12', 0.02080018],\n",
       " ['MIIP', 0.0246156],\n",
       " ['SCG3', 0.0264288],\n",
       " ['ASXL2', 0.0264288],\n",
       " ['USP29', 0.03032284],\n",
       " ['MUC19', 0.03032284],\n",
       " ['A2M', 0.03032284],\n",
       " ['TMEM35', 0.03687532],\n",
       " ['TMEM222', 0.03705914],\n",
       " ['GRIA4', 0.03705914],\n",
       " ['SEMA3E', 0.05500047],\n",
       " ['VNN3', 0.06789532],\n",
       " ['AGTRAP', 0.06789532],\n",
       " ['PON1', 0.06800058],\n",
       " ['USP44', 0.06800058],\n",
       " ['GNAL', 0.07122012],\n",
       " ['TOR1AIP1', 0.09209381],\n",
       " ['EYS', 0.09209381],\n",
       " ['BIVM-ERCC5', 0.09590991]]"
      ]
     },
     "execution_count": 54,
     "metadata": {},
     "output_type": "execute_result"
    }
   ],
   "source": [
    "new_CG"
   ]
  },
  {
   "cell_type": "markdown",
   "metadata": {},
   "source": [
    "32/44 of the genes with q-pos < 0.1, as calculated by CBaSE, are not in the COSMIC known cancer gene list.\n",
    "\n",
    "Of these 32 genes, 9 of them have q-pos values of 0.\n",
    "\n",
    "These genes must be checked against previous cancer stydies to see if they are already associated withh cancer. If not, further studies should be done to investigate the mechanisms which could associate cancer with these genes."
   ]
  },
  {
   "cell_type": "code",
   "execution_count": 55,
   "metadata": {},
   "outputs": [],
   "source": [
    "matched_EG = []\n",
    "new_EG = []\n",
    "for i in range(len(q_phi_neg_bygene)):\n",
    "    for j in range(len(cellEG)):\n",
    "        if q_phi_neg_bygene[i][0] == cellEG[j]:\n",
    "            matched_EG.append(q_phi_neg_bygene[i])\n",
    "            break\n",
    "        if j == (len(cellEG)-1):\n",
    "            new_EG.append(q_phi_neg_bygene[i])"
   ]
  },
  {
   "cell_type": "code",
   "execution_count": 56,
   "metadata": {},
   "outputs": [
    {
     "data": {
      "text/plain": [
       "[['BCR', 0.01740015]]"
      ]
     },
     "execution_count": 56,
     "metadata": {},
     "output_type": "execute_result"
    }
   ],
   "source": [
    "matched_EG"
   ]
  },
  {
   "cell_type": "code",
   "execution_count": 57,
   "metadata": {},
   "outputs": [
    {
     "data": {
      "text/plain": [
       "[['TRIO', 0.0],\n",
       " ['BCL2L12', 0.0],\n",
       " ['SPG7', 0.0],\n",
       " ['WFS1', 0.0],\n",
       " ['ZZEF1', 0.0],\n",
       " ['SLC6A4', 0.0],\n",
       " ['IQGAP3', 0.0],\n",
       " ['DOCK1', 0.001666681],\n",
       " ['TUBB3', 0.001666681],\n",
       " ['TNRC6A', 0.001666681]]"
      ]
     },
     "execution_count": 57,
     "metadata": {},
     "output_type": "execute_result"
    }
   ],
   "source": [
    "new_EG[:10]"
   ]
  },
  {
   "cell_type": "code",
   "execution_count": 58,
   "metadata": {},
   "outputs": [
    {
     "data": {
      "text/plain": [
       "77"
      ]
     },
     "execution_count": 58,
     "metadata": {},
     "output_type": "execute_result"
    }
   ],
   "source": [
    "len(cellEG)"
   ]
  },
  {
   "cell_type": "code",
   "execution_count": 59,
   "metadata": {},
   "outputs": [
    {
     "data": {
      "text/plain": [
       "624"
      ]
     },
     "execution_count": 59,
     "metadata": {},
     "output_type": "execute_result"
    }
   ],
   "source": [
    "len(new_EG)"
   ]
  },
  {
   "cell_type": "markdown",
   "metadata": {},
   "source": [
    "Can see from this: only one of the genes in output of CBaSE with q-neg < 0.1 is in the WANG cell essential gene list. This is strange... could be explained by the fact that most cell essential genes are haplosufficient (i.e. can be same phenotype even if one allele is mutated)\n",
    "\n",
    "When looking up the genes at the top of the q_neg_bygene list on the GeneCards website, find that most of these are associated with cancer and/or apoptosis.\n",
    "\n",
    "This clearly indicates that CBaSE has worked well in identifying genes whose 'wild-type' coding sequences allow tumour growth.\n",
    "\n",
    "Where in the list are the WANG cell essential genes? Atttempt to find below!"
   ]
  },
  {
   "cell_type": "code",
   "execution_count": 60,
   "metadata": {},
   "outputs": [],
   "source": [
    "q_phi_neg_bygene2 = []\n",
    "q_phi_neg2 = []\n",
    "for i in range(len(ordered_phineg_df)):\n",
    "    if ordered_phineg_df['q_phi_neg'].iloc[i] < 0.6:\n",
    "        q_phi_neg_bygene2.append([ordered_phineg_df['gene'].iloc[i], ordered_phineg_df['q_phi_neg'].iloc[i]])\n",
    "        q_phi_neg2.append(ordered_phineg_df['q_phi_neg'].iloc[i])"
   ]
  },
  {
   "cell_type": "code",
   "execution_count": 61,
   "metadata": {},
   "outputs": [],
   "source": [
    "matched_EG2 = []\n",
    "new_EG2 = []\n",
    "for i in range(len(q_phi_neg_bygene2)):\n",
    "    for j in range(len(cellEG)):\n",
    "        if q_phi_neg_bygene2[i][0] == cellEG[j]:\n",
    "            matched_EG2.append(q_phi_neg_bygene2[i])\n",
    "            break\n",
    "        if j == (len(cellEG)-1):\n",
    "            new_EG2.append(q_phi_neg_bygene2[i])"
   ]
  },
  {
   "cell_type": "code",
   "execution_count": 62,
   "metadata": {},
   "outputs": [
    {
     "data": {
      "text/plain": [
       "[['BCR', 0.01740015],\n",
       " ['SON', 0.1756462],\n",
       " ['RPL6', 0.1828123],\n",
       " ['WDR43', 0.1876057],\n",
       " ['POLR1A', 0.192216],\n",
       " ['RPL7A', 0.2029327],\n",
       " ['DYNC1H1', 0.2216201],\n",
       " ['CDC40', 0.2330616],\n",
       " ['HCFC1', 0.2560783],\n",
       " ['RPL27A', 0.2618817],\n",
       " ['MPHOSPH10', 0.2646473],\n",
       " ['RPL9', 0.2669111],\n",
       " ['RPS15A', 0.2738875],\n",
       " ['EIF3D', 0.2792382],\n",
       " ['STAT5B', 0.2823535],\n",
       " ['CINP', 0.3345088],\n",
       " ['DDOST', 0.346091],\n",
       " ['SRSF7', 0.346091],\n",
       " ['SNRNP27', 0.3705277],\n",
       " ['RPS7', 0.3818249],\n",
       " ['DDX27', 0.4357771],\n",
       " ['RPL32', 0.4396979],\n",
       " ['GLTSCR2', 0.460917],\n",
       " ['SAP30BP', 0.460917],\n",
       " ['RSL24D1', 0.5011881],\n",
       " ['CDK1', 0.5144473],\n",
       " ['PES1', 0.5195038],\n",
       " ['GON4L', 0.5195038],\n",
       " ['MIS12', 0.5284034],\n",
       " ['EEF1A1', 0.5359906],\n",
       " ['NR2C2AP', 0.5503632],\n",
       " ['RPS3A', 0.5549698],\n",
       " ['UTP15', 0.5682032]]"
      ]
     },
     "execution_count": 62,
     "metadata": {},
     "output_type": "execute_result"
    }
   ],
   "source": [
    "matched_EG2"
   ]
  },
  {
   "cell_type": "code",
   "execution_count": 63,
   "metadata": {},
   "outputs": [
    {
     "data": {
      "text/plain": [
       "33"
      ]
     },
     "execution_count": 63,
     "metadata": {},
     "output_type": "execute_result"
    }
   ],
   "source": [
    "len(matched_EG2)"
   ]
  },
  {
   "cell_type": "markdown",
   "metadata": {},
   "source": [
    "By increasing the search of Wang cell-essential genes to those with q-neg < 0.6, we then find that there are 34 matches. The first match is of course 'BCR' which was found when q-neg < 0.1 but the rest have q-values ranging from 0.17 to 0.59"
   ]
  },
  {
   "cell_type": "markdown",
   "metadata": {},
   "source": [
    "Attempt to plot a histogram with phi values for the genes with lowest q-pos values"
   ]
  },
  {
   "cell_type": "code",
   "execution_count": 64,
   "metadata": {},
   "outputs": [],
   "source": [
    "phi_pos_bygene = []\n",
    "phi_pos = []\n",
    "for i in range(len(ordered_phipos_df)):\n",
    "    if ordered_phipos_df['q_phi_pos'].iloc[i] < 0.1:\n",
    "        phi_pos_bygene.append([ordered_phipos_df['gene'].iloc[i],ordered_phipos_df['phi_pos_or_p(m=0|s)*p(k=0|s)'].iloc[i]])\n",
    "        phi_pos.append(ordered_phipos_df['phi_pos_or_p(m=0|s)*p(k=0|s)'].iloc[i])"
   ]
  },
  {
   "cell_type": "code",
   "execution_count": 65,
   "metadata": {},
   "outputs": [
    {
     "data": {
      "text/plain": [
       "[['PTPN14', 100000.0],\n",
       " ['TP53', 68.044256],\n",
       " ['TLR9', 40.549978],\n",
       " ['PTCH1', 39.160062],\n",
       " ['ARHGAP35', 34.523909],\n",
       " ['FAT1', 34.074596],\n",
       " ['ITGB3', 27.473602],\n",
       " ['ARID1A', 25.061746],\n",
       " ['PPM1D', 23.388702],\n",
       " ['NOTCH2', 21.594744],\n",
       " ['FAM109A', 21.300559],\n",
       " ['GPX6', 17.024257],\n",
       " ['TPTE', 16.974408],\n",
       " ['TP63', 16.838776],\n",
       " ['NOTCH1', 16.572229],\n",
       " ['CDKN2A', 16.558754],\n",
       " ['ASXL3', 16.549837],\n",
       " ['TTN', 16.146017],\n",
       " ['KMT2D', 15.817785],\n",
       " ['NFKBIE', 14.493694]]"
      ]
     },
     "execution_count": 65,
     "metadata": {},
     "output_type": "execute_result"
    }
   ],
   "source": [
    "phi_pos_bygene[:20]"
   ]
  },
  {
   "cell_type": "code",
   "execution_count": 66,
   "metadata": {},
   "outputs": [
    {
     "data": {
      "image/png": "[encoded data removed]",
      "text/plain": [
       "<Figure size 640x480 with 1 Axes>"
      ]
     },
     "metadata": {},
     "output_type": "display_data"
    }
   ],
   "source": [
    "plt.hist(np.log10(phi_pos), bins = 30)\n",
    "plt.title(r'Genes under positive selection $(q_{pos} < 0.1)$')\n",
    "plt.xlabel(r'$\\log_{10}$($\\phi_{pos}$)', fontsize = 12)\n",
    "plt.ylabel('number of genes', fontsize = 12)\n",
    "y = np.arange(0,25, 4)\n",
    "plt.yticks(y)\n",
    "plt.savefig('phi_graph_pos.png', dpi = 300)\n",
    "plt.show()"
   ]
  },
  {
   "cell_type": "markdown",
   "metadata": {},
   "source": [
    "Now to plot a histogram of phi-neg values for the genes under negative selection"
   ]
  },
  {
   "cell_type": "code",
   "execution_count": 67,
   "metadata": {},
   "outputs": [],
   "source": [
    "phi_neg_bygene = []\n",
    "phi_neg = []\n",
    "for i in range(len(ordered_phineg_df)):\n",
    "    if ordered_phineg_df['q_phi_neg'].iloc[i] < 0.1:\n",
    "        phi_neg_bygene.append([ordered_phineg_df['gene'].iloc[i], ordered_phineg_df['phi_neg'].iloc[i]])\n",
    "        phi_neg.append(ordered_phineg_df['phi_neg'].iloc[i])"
   ]
  },
  {
   "cell_type": "code",
   "execution_count": 68,
   "metadata": {},
   "outputs": [
    {
     "data": {
      "text/plain": [
       "[['TRIO', 19.66869],\n",
       " ['BCL2L12', 17.614019],\n",
       " ['SPG7', 17.482285],\n",
       " ['WFS1', 16.591272],\n",
       " ['ZZEF1', 15.972964],\n",
       " ['SLC6A4', 15.706287],\n",
       " ['IQGAP3', 14.883235],\n",
       " ['DOCK1', 14.447927],\n",
       " ['TUBB3', 14.37774],\n",
       " ['TNRC6A', 14.182743],\n",
       " ['KLHL36', 14.021076],\n",
       " ['BIRC6', 13.869388],\n",
       " ['ZNF385B', 13.548345],\n",
       " ['DIP2C', 13.134542],\n",
       " ['MIP', 12.882569],\n",
       " ['HELZ2', 12.872262],\n",
       " ['BAD', 12.871743],\n",
       " ['ZNF823', 12.869534],\n",
       " ['THAP10', 12.759462],\n",
       " ['MORF4L1', 12.727439]]"
      ]
     },
     "execution_count": 68,
     "metadata": {},
     "output_type": "execute_result"
    }
   ],
   "source": [
    "phi_neg_bygene[:20]"
   ]
  },
  {
   "cell_type": "code",
   "execution_count": 69,
   "metadata": {},
   "outputs": [
    {
     "data": {
      "image/png": "[encoded data removed]",
      "text/plain": [
       "<Figure size 640x480 with 1 Axes>"
      ]
     },
     "metadata": {},
     "output_type": "display_data"
    }
   ],
   "source": [
    "plt.hist(np.log10(phi_neg), bins = 25)\n",
    "plt.title(r'Genes under negative selection ($q_{neg} < 0.1$)')\n",
    "plt.xlabel(r'$\\log_{10}$($\\phi_{neg}$)', fontsize = 12)\n",
    "plt.ylabel('number of genes', fontsize = 12)\n",
    "#y = np.arange(0,28, 4)\n",
    "#plt.yticks(y)\n",
    "plt.savefig('phi_graph_neg.png', dpi = 300)\n",
    "plt.show()"
   ]
  },
  {
   "cell_type": "markdown",
   "metadata": {},
   "source": [
    "Can now see that despite the fact that there are far more genes with q-neg < 0.1 than there are genes with q-pos < 0.1, the genes with q-pos < 0.1 have larger values of phi and are thus more strongly selected\n",
    "\n",
    "This shows that the results are more or less as expected"
   ]
  }
 ],
 "metadata": {
  "kernelspec": {
   "display_name": "Python 3 (ipykernel)",
   "language": "python",
   "name": "python3"
  },
  "language_info": {
   "codemirror_mode": {
    "name": "ipython",
    "version": 3
   },
   "file_extension": ".py",
   "mimetype": "text/x-python",
   "name": "python",
   "nbconvert_exporter": "python",
   "pygments_lexer": "ipython3",
   "version": "3.10.12"
  }
 },
 "nbformat": 4,
 "nbformat_minor": 4
}
