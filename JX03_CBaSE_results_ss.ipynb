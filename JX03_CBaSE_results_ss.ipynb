{
 "cells": [
  {
   "cell_type": "code",
   "execution_count": 1,
   "metadata": {},
   "outputs": [],
   "source": [
    "import pandas as pd\n",
    "import numpy as np\n",
    "import time\n",
    "import matplotlib.pyplot as plt\n",
    "import matplotlib"
   ]
  },
  {
   "cell_type": "code",
   "execution_count": 2,
   "metadata": {},
   "outputs": [],
   "source": [
    "df = pd.read_csv('Output/q_values_BCCfullset_jx.txt', delimiter='\\t', engine='c', low_memory=False, skiprows=[0])"
   ]
  },
  {
   "cell_type": "code",
   "execution_count": 3,
   "metadata": {},
   "outputs": [],
   "source": [
    "ordered_phipos_df = df.sort_values('phi_pos_or_p(m=0|s)*p(k=0|s)', ascending=False)\n",
    "ordered_phineg_df = df.sort_values('phi_neg', ascending=False)"
   ]
  },
  {
   "cell_type": "markdown",
   "metadata": {},
   "source": [
    "Here are the first 20 genes listed in decreasing order of positive selection"
   ]
  },
  {
   "cell_type": "code",
   "execution_count": 4,
   "metadata": {},
   "outputs": [
    {
     "data": {
      "text/html": [
       "<div>\n",
       "<style scoped>\n",
       "    .dataframe tbody tr th:only-of-type {\n",
       "        vertical-align: middle;\n",
       "    }\n",
       "\n",
       "    .dataframe tbody tr th {\n",
       "        vertical-align: top;\n",
       "    }\n",
       "\n",
       "    .dataframe thead th {\n",
       "        text-align: right;\n",
       "    }\n",
       "</style>\n",
       "<table border=\"1\" class=\"dataframe\">\n",
       "  <thead>\n",
       "    <tr style=\"text-align: right;\">\n",
       "      <th></th>\n",
       "      <th>gene</th>\n",
       "      <th>p_phi_neg</th>\n",
       "      <th>q_phi_neg</th>\n",
       "      <th>phi_neg</th>\n",
       "      <th>p_phi_pos</th>\n",
       "      <th>q_phi_pos</th>\n",
       "      <th>phi_pos_or_p(m=0|s)*p(k=0|s)</th>\n",
       "      <th>m_obs</th>\n",
       "      <th>k_obs</th>\n",
       "      <th>s_obs</th>\n",
       "      <th>c_obs</th>\n",
       "    </tr>\n",
       "  </thead>\n",
       "  <tbody>\n",
       "    <tr>\n",
       "      <th>16654</th>\n",
       "      <td>TP53</td>\n",
       "      <td>1.000000</td>\n",
       "      <td>1.000000</td>\n",
       "      <td>0.000000</td>\n",
       "      <td>0.000000</td>\n",
       "      <td>0.000</td>\n",
       "      <td>100000.000000</td>\n",
       "      <td>178</td>\n",
       "      <td>64</td>\n",
       "      <td>14</td>\n",
       "      <td>28</td>\n",
       "    </tr>\n",
       "    <tr>\n",
       "      <th>12802</th>\n",
       "      <td>PTPN14</td>\n",
       "      <td>0.773056</td>\n",
       "      <td>0.935364</td>\n",
       "      <td>0.564363</td>\n",
       "      <td>0.000000</td>\n",
       "      <td>0.000</td>\n",
       "      <td>100000.000000</td>\n",
       "      <td>29</td>\n",
       "      <td>37</td>\n",
       "      <td>18</td>\n",
       "      <td>5</td>\n",
       "    </tr>\n",
       "    <tr>\n",
       "      <th>12743</th>\n",
       "      <td>PTCH1</td>\n",
       "      <td>1.000000</td>\n",
       "      <td>1.000000</td>\n",
       "      <td>0.002457</td>\n",
       "      <td>0.000000</td>\n",
       "      <td>0.000</td>\n",
       "      <td>100000.000000</td>\n",
       "      <td>68</td>\n",
       "      <td>100</td>\n",
       "      <td>24</td>\n",
       "      <td>39</td>\n",
       "    </tr>\n",
       "    <tr>\n",
       "      <th>16212</th>\n",
       "      <td>TLR9</td>\n",
       "      <td>1.000000</td>\n",
       "      <td>1.000000</td>\n",
       "      <td>0.000007</td>\n",
       "      <td>0.000000</td>\n",
       "      <td>0.000</td>\n",
       "      <td>40.748116</td>\n",
       "      <td>64</td>\n",
       "      <td>5</td>\n",
       "      <td>3</td>\n",
       "      <td>1</td>\n",
       "    </tr>\n",
       "    <tr>\n",
       "      <th>968</th>\n",
       "      <td>ARHGAP35</td>\n",
       "      <td>1.000000</td>\n",
       "      <td>1.000000</td>\n",
       "      <td>0.009127</td>\n",
       "      <td>0.000000</td>\n",
       "      <td>0.000</td>\n",
       "      <td>34.782903</td>\n",
       "      <td>44</td>\n",
       "      <td>20</td>\n",
       "      <td>12</td>\n",
       "      <td>3</td>\n",
       "    </tr>\n",
       "    <tr>\n",
       "      <th>5702</th>\n",
       "      <td>FAT1</td>\n",
       "      <td>0.258087</td>\n",
       "      <td>0.637988</td>\n",
       "      <td>1.770326</td>\n",
       "      <td>0.000000</td>\n",
       "      <td>0.000</td>\n",
       "      <td>32.631472</td>\n",
       "      <td>122</td>\n",
       "      <td>40</td>\n",
       "      <td>69</td>\n",
       "      <td>5</td>\n",
       "    </tr>\n",
       "    <tr>\n",
       "      <th>7992</th>\n",
       "      <td>ITGB3</td>\n",
       "      <td>1.000000</td>\n",
       "      <td>1.000000</td>\n",
       "      <td>0.000094</td>\n",
       "      <td>0.000000</td>\n",
       "      <td>0.000</td>\n",
       "      <td>27.612270</td>\n",
       "      <td>70</td>\n",
       "      <td>6</td>\n",
       "      <td>7</td>\n",
       "      <td>4</td>\n",
       "    </tr>\n",
       "    <tr>\n",
       "      <th>1007</th>\n",
       "      <td>ARID1A</td>\n",
       "      <td>0.702604</td>\n",
       "      <td>0.907788</td>\n",
       "      <td>0.683016</td>\n",
       "      <td>0.000000</td>\n",
       "      <td>0.000</td>\n",
       "      <td>25.333433</td>\n",
       "      <td>57</td>\n",
       "      <td>23</td>\n",
       "      <td>28</td>\n",
       "      <td>2</td>\n",
       "    </tr>\n",
       "    <tr>\n",
       "      <th>12332</th>\n",
       "      <td>PPM1D</td>\n",
       "      <td>0.469933</td>\n",
       "      <td>0.807045</td>\n",
       "      <td>1.122489</td>\n",
       "      <td>0.000000</td>\n",
       "      <td>0.000</td>\n",
       "      <td>23.562597</td>\n",
       "      <td>11</td>\n",
       "      <td>19</td>\n",
       "      <td>6</td>\n",
       "      <td>1</td>\n",
       "    </tr>\n",
       "    <tr>\n",
       "      <th>10878</th>\n",
       "      <td>NOTCH2</td>\n",
       "      <td>0.999431</td>\n",
       "      <td>1.000000</td>\n",
       "      <td>0.021513</td>\n",
       "      <td>0.000000</td>\n",
       "      <td>0.000</td>\n",
       "      <td>21.895141</td>\n",
       "      <td>99</td>\n",
       "      <td>23</td>\n",
       "      <td>33</td>\n",
       "      <td>10</td>\n",
       "    </tr>\n",
       "    <tr>\n",
       "      <th>5391</th>\n",
       "      <td>FAM109A</td>\n",
       "      <td>1.000000</td>\n",
       "      <td>1.000000</td>\n",
       "      <td>0.002195</td>\n",
       "      <td>0.000000</td>\n",
       "      <td>0.000</td>\n",
       "      <td>21.394023</td>\n",
       "      <td>16</td>\n",
       "      <td>7</td>\n",
       "      <td>2</td>\n",
       "      <td>0</td>\n",
       "    </tr>\n",
       "    <tr>\n",
       "      <th>6797</th>\n",
       "      <td>GPX6</td>\n",
       "      <td>1.000000</td>\n",
       "      <td>1.000000</td>\n",
       "      <td>0.007044</td>\n",
       "      <td>0.000000</td>\n",
       "      <td>0.000</td>\n",
       "      <td>17.118969</td>\n",
       "      <td>25</td>\n",
       "      <td>10</td>\n",
       "      <td>14</td>\n",
       "      <td>1</td>\n",
       "    </tr>\n",
       "    <tr>\n",
       "      <th>16707</th>\n",
       "      <td>TPTE</td>\n",
       "      <td>0.975784</td>\n",
       "      <td>1.000000</td>\n",
       "      <td>0.146865</td>\n",
       "      <td>0.000000</td>\n",
       "      <td>0.000</td>\n",
       "      <td>17.032976</td>\n",
       "      <td>162</td>\n",
       "      <td>7</td>\n",
       "      <td>28</td>\n",
       "      <td>15</td>\n",
       "    </tr>\n",
       "    <tr>\n",
       "      <th>16666</th>\n",
       "      <td>TP63</td>\n",
       "      <td>1.000000</td>\n",
       "      <td>1.000000</td>\n",
       "      <td>0.003911</td>\n",
       "      <td>0.000000</td>\n",
       "      <td>0.000</td>\n",
       "      <td>16.920872</td>\n",
       "      <td>30</td>\n",
       "      <td>9</td>\n",
       "      <td>6</td>\n",
       "      <td>3</td>\n",
       "    </tr>\n",
       "    <tr>\n",
       "      <th>10877</th>\n",
       "      <td>NOTCH1</td>\n",
       "      <td>1.000000</td>\n",
       "      <td>1.000000</td>\n",
       "      <td>0.017235</td>\n",
       "      <td>0.000000</td>\n",
       "      <td>0.000</td>\n",
       "      <td>16.798217</td>\n",
       "      <td>92</td>\n",
       "      <td>14</td>\n",
       "      <td>37</td>\n",
       "      <td>12</td>\n",
       "    </tr>\n",
       "    <tr>\n",
       "      <th>1173</th>\n",
       "      <td>ASXL3</td>\n",
       "      <td>1.000000</td>\n",
       "      <td>1.000000</td>\n",
       "      <td>0.001279</td>\n",
       "      <td>0.000000</td>\n",
       "      <td>0.000</td>\n",
       "      <td>16.776094</td>\n",
       "      <td>257</td>\n",
       "      <td>16</td>\n",
       "      <td>56</td>\n",
       "      <td>4</td>\n",
       "    </tr>\n",
       "    <tr>\n",
       "      <th>3031</th>\n",
       "      <td>CDKN2A</td>\n",
       "      <td>1.000000</td>\n",
       "      <td>1.000000</td>\n",
       "      <td>0.015826</td>\n",
       "      <td>0.000000</td>\n",
       "      <td>0.000</td>\n",
       "      <td>16.546589</td>\n",
       "      <td>18</td>\n",
       "      <td>6</td>\n",
       "      <td>2</td>\n",
       "      <td>2</td>\n",
       "    </tr>\n",
       "    <tr>\n",
       "      <th>17046</th>\n",
       "      <td>TTN</td>\n",
       "      <td>0.750556</td>\n",
       "      <td>0.925477</td>\n",
       "      <td>0.603288</td>\n",
       "      <td>0.000000</td>\n",
       "      <td>0.000</td>\n",
       "      <td>16.184218</td>\n",
       "      <td>3412</td>\n",
       "      <td>201</td>\n",
       "      <td>1127</td>\n",
       "      <td>77</td>\n",
       "    </tr>\n",
       "    <tr>\n",
       "      <th>8513</th>\n",
       "      <td>KMT2D</td>\n",
       "      <td>0.123970</td>\n",
       "      <td>0.472541</td>\n",
       "      <td>2.499167</td>\n",
       "      <td>0.000000</td>\n",
       "      <td>0.000</td>\n",
       "      <td>16.144955</td>\n",
       "      <td>221</td>\n",
       "      <td>35</td>\n",
       "      <td>120</td>\n",
       "      <td>6</td>\n",
       "    </tr>\n",
       "    <tr>\n",
       "      <th>10706</th>\n",
       "      <td>NFKBIE</td>\n",
       "      <td>0.936837</td>\n",
       "      <td>0.999314</td>\n",
       "      <td>0.252936</td>\n",
       "      <td>0.000004</td>\n",
       "      <td>0.004</td>\n",
       "      <td>14.585540</td>\n",
       "      <td>43</td>\n",
       "      <td>0</td>\n",
       "      <td>2</td>\n",
       "      <td>0</td>\n",
       "    </tr>\n",
       "  </tbody>\n",
       "</table>\n",
       "</div>"
      ],
      "text/plain": [
       "           gene  p_phi_neg  q_phi_neg   phi_neg  p_phi_pos  q_phi_pos  \\\n",
       "16654      TP53   1.000000   1.000000  0.000000   0.000000      0.000   \n",
       "12802    PTPN14   0.773056   0.935364  0.564363   0.000000      0.000   \n",
       "12743     PTCH1   1.000000   1.000000  0.002457   0.000000      0.000   \n",
       "16212      TLR9   1.000000   1.000000  0.000007   0.000000      0.000   \n",
       "968    ARHGAP35   1.000000   1.000000  0.009127   0.000000      0.000   \n",
       "5702       FAT1   0.258087   0.637988  1.770326   0.000000      0.000   \n",
       "7992      ITGB3   1.000000   1.000000  0.000094   0.000000      0.000   \n",
       "1007     ARID1A   0.702604   0.907788  0.683016   0.000000      0.000   \n",
       "12332     PPM1D   0.469933   0.807045  1.122489   0.000000      0.000   \n",
       "10878    NOTCH2   0.999431   1.000000  0.021513   0.000000      0.000   \n",
       "5391    FAM109A   1.000000   1.000000  0.002195   0.000000      0.000   \n",
       "6797       GPX6   1.000000   1.000000  0.007044   0.000000      0.000   \n",
       "16707      TPTE   0.975784   1.000000  0.146865   0.000000      0.000   \n",
       "16666      TP63   1.000000   1.000000  0.003911   0.000000      0.000   \n",
       "10877    NOTCH1   1.000000   1.000000  0.017235   0.000000      0.000   \n",
       "1173      ASXL3   1.000000   1.000000  0.001279   0.000000      0.000   \n",
       "3031     CDKN2A   1.000000   1.000000  0.015826   0.000000      0.000   \n",
       "17046       TTN   0.750556   0.925477  0.603288   0.000000      0.000   \n",
       "8513      KMT2D   0.123970   0.472541  2.499167   0.000000      0.000   \n",
       "10706    NFKBIE   0.936837   0.999314  0.252936   0.000004      0.004   \n",
       "\n",
       "       phi_pos_or_p(m=0|s)*p(k=0|s)  m_obs  k_obs  s_obs  c_obs  \n",
       "16654                 100000.000000    178     64     14     28  \n",
       "12802                 100000.000000     29     37     18      5  \n",
       "12743                 100000.000000     68    100     24     39  \n",
       "16212                     40.748116     64      5      3      1  \n",
       "968                       34.782903     44     20     12      3  \n",
       "5702                      32.631472    122     40     69      5  \n",
       "7992                      27.612270     70      6      7      4  \n",
       "1007                      25.333433     57     23     28      2  \n",
       "12332                     23.562597     11     19      6      1  \n",
       "10878                     21.895141     99     23     33     10  \n",
       "5391                      21.394023     16      7      2      0  \n",
       "6797                      17.118969     25     10     14      1  \n",
       "16707                     17.032976    162      7     28     15  \n",
       "16666                     16.920872     30      9      6      3  \n",
       "10877                     16.798217     92     14     37     12  \n",
       "1173                      16.776094    257     16     56      4  \n",
       "3031                      16.546589     18      6      2      2  \n",
       "17046                     16.184218   3412    201   1127     77  \n",
       "8513                      16.144955    221     35    120      6  \n",
       "10706                     14.585540     43      0      2      0  "
      ]
     },
     "execution_count": 4,
     "metadata": {},
     "output_type": "execute_result"
    }
   ],
   "source": [
    "ordered_phipos_df.iloc[:20]"
   ]
  },
  {
   "cell_type": "markdown",
   "metadata": {},
   "source": [
    "Take only the genes with q_pos-values lower than 0.1"
   ]
  },
  {
   "cell_type": "code",
   "execution_count": 5,
   "metadata": {},
   "outputs": [],
   "source": [
    "q_phi_pos_bygene = []\n",
    "q_phi_pos = []\n",
    "for i in range(len(ordered_phipos_df)):\n",
    "    if ordered_phipos_df['q_phi_pos'].iloc[i] < 0.1:\n",
    "        q_phi_pos_bygene.append([ordered_phipos_df['gene'].iloc[i],ordered_phipos_df['q_phi_pos'].iloc[i]])\n",
    "        q_phi_pos.append(ordered_phipos_df['q_phi_pos'].iloc[i])"
   ]
  },
  {
   "cell_type": "code",
   "execution_count": 6,
   "metadata": {},
   "outputs": [
    {
     "data": {
      "text/plain": [
       "[['TP53', 0.0],\n",
       " ['PTPN14', 0.0],\n",
       " ['PTCH1', 0.0],\n",
       " ['TLR9', 0.0],\n",
       " ['ARHGAP35', 0.0],\n",
       " ['FAT1', 0.0],\n",
       " ['ITGB3', 0.0],\n",
       " ['ARID1A', 0.0],\n",
       " ['PPM1D', 0.0],\n",
       " ['NOTCH2', 0.0],\n",
       " ['FAM109A', 0.0],\n",
       " ['GPX6', 0.0],\n",
       " ['TPTE', 0.0],\n",
       " ['TP63', 0.0],\n",
       " ['NOTCH1', 0.0],\n",
       " ['ASXL3', 0.0],\n",
       " ['CDKN2A', 0.0],\n",
       " ['TTN', 0.0],\n",
       " ['KMT2D', 0.0],\n",
       " ['NFKBIE', 0.004000021]]"
      ]
     },
     "execution_count": 6,
     "metadata": {},
     "output_type": "execute_result"
    }
   ],
   "source": [
    "q_phi_pos_bygene[:20]"
   ]
  },
  {
   "cell_type": "code",
   "execution_count": 7,
   "metadata": {},
   "outputs": [
    {
     "data": {
      "image/png": "[encoded data removed]",
      "text/plain": [
       "<Figure size 640x480 with 1 Axes>"
      ]
     },
     "metadata": {},
     "output_type": "display_data"
    }
   ],
   "source": [
    "plt.hist(q_phi_pos, bins = 15)\n",
    "plt.title(r'Genes under positive selection $(q_{pos} < 0.1)$')\n",
    "plt.xlabel(r'$q_{pos}$', fontsize = 12)\n",
    "plt.ylabel('number of genes', fontsize = 12)\n",
    "y = np.arange(0,22, 4)\n",
    "plt.yticks(y)\n",
    "plt.savefig('q_graph_pos.png', dpi = 300)\n",
    "plt.show()"
   ]
  },
  {
   "cell_type": "code",
   "execution_count": 8,
   "metadata": {},
   "outputs": [
    {
     "data": {
      "text/plain": [
       "44"
      ]
     },
     "execution_count": 8,
     "metadata": {},
     "output_type": "execute_result"
    }
   ],
   "source": [
    "len(q_phi_pos)"
   ]
  },
  {
   "cell_type": "markdown",
   "metadata": {},
   "source": [
    "There are 44 genes with q_pos-values < 0.1 as calculated by CBaSE\n",
    "\n",
    "Need to check to see how many of these match with the known COSMIC cancer genes, then check if those that don't have been investigated by other studies"
   ]
  },
  {
   "cell_type": "markdown",
   "metadata": {},
   "source": [
    "Below are the first 20 genes in decreasing order of negative selection"
   ]
  },
  {
   "cell_type": "code",
   "execution_count": 9,
   "metadata": {},
   "outputs": [
    {
     "data": {
      "text/html": [
       "<div>\n",
       "<style scoped>\n",
       "    .dataframe tbody tr th:only-of-type {\n",
       "        vertical-align: middle;\n",
       "    }\n",
       "\n",
       "    .dataframe tbody tr th {\n",
       "        vertical-align: top;\n",
       "    }\n",
       "\n",
       "    .dataframe thead th {\n",
       "        text-align: right;\n",
       "    }\n",
       "</style>\n",
       "<table border=\"1\" class=\"dataframe\">\n",
       "  <thead>\n",
       "    <tr style=\"text-align: right;\">\n",
       "      <th></th>\n",
       "      <th>gene</th>\n",
       "      <th>p_phi_neg</th>\n",
       "      <th>q_phi_neg</th>\n",
       "      <th>phi_neg</th>\n",
       "      <th>p_phi_pos</th>\n",
       "      <th>q_phi_pos</th>\n",
       "      <th>phi_pos_or_p(m=0|s)*p(k=0|s)</th>\n",
       "      <th>m_obs</th>\n",
       "      <th>k_obs</th>\n",
       "      <th>s_obs</th>\n",
       "      <th>c_obs</th>\n",
       "    </tr>\n",
       "  </thead>\n",
       "  <tbody>\n",
       "    <tr>\n",
       "      <th>16851</th>\n",
       "      <td>TRIO</td>\n",
       "      <td>0.000000</td>\n",
       "      <td>0.000</td>\n",
       "      <td>19.483826</td>\n",
       "      <td>1.000000</td>\n",
       "      <td>1.0</td>\n",
       "      <td>0.008970</td>\n",
       "      <td>72</td>\n",
       "      <td>4</td>\n",
       "      <td>100</td>\n",
       "      <td>11</td>\n",
       "    </tr>\n",
       "    <tr>\n",
       "      <th>1539</th>\n",
       "      <td>BCL2L12</td>\n",
       "      <td>0.000000</td>\n",
       "      <td>0.000</td>\n",
       "      <td>17.492133</td>\n",
       "      <td>1.000000</td>\n",
       "      <td>1.0</td>\n",
       "      <td>0.006921</td>\n",
       "      <td>27</td>\n",
       "      <td>2</td>\n",
       "      <td>45</td>\n",
       "      <td>0</td>\n",
       "    </tr>\n",
       "    <tr>\n",
       "      <th>15193</th>\n",
       "      <td>SPG7</td>\n",
       "      <td>0.000000</td>\n",
       "      <td>0.000</td>\n",
       "      <td>17.382595</td>\n",
       "      <td>1.000000</td>\n",
       "      <td>1.0</td>\n",
       "      <td>0.000013</td>\n",
       "      <td>16</td>\n",
       "      <td>0</td>\n",
       "      <td>27</td>\n",
       "      <td>0</td>\n",
       "    </tr>\n",
       "    <tr>\n",
       "      <th>17712</th>\n",
       "      <td>WFS1</td>\n",
       "      <td>0.000000</td>\n",
       "      <td>0.000</td>\n",
       "      <td>16.522475</td>\n",
       "      <td>1.000000</td>\n",
       "      <td>1.0</td>\n",
       "      <td>0.006801</td>\n",
       "      <td>34</td>\n",
       "      <td>1</td>\n",
       "      <td>75</td>\n",
       "      <td>0</td>\n",
       "    </tr>\n",
       "    <tr>\n",
       "      <th>18655</th>\n",
       "      <td>ZZEF1</td>\n",
       "      <td>0.000000</td>\n",
       "      <td>0.000</td>\n",
       "      <td>15.840392</td>\n",
       "      <td>0.927482</td>\n",
       "      <td>1.0</td>\n",
       "      <td>0.076028</td>\n",
       "      <td>66</td>\n",
       "      <td>7</td>\n",
       "      <td>87</td>\n",
       "      <td>0</td>\n",
       "    </tr>\n",
       "    <tr>\n",
       "      <th>14773</th>\n",
       "      <td>SLC6A4</td>\n",
       "      <td>0.000000</td>\n",
       "      <td>0.000</td>\n",
       "      <td>15.716665</td>\n",
       "      <td>1.000000</td>\n",
       "      <td>1.0</td>\n",
       "      <td>0.000006</td>\n",
       "      <td>10</td>\n",
       "      <td>0</td>\n",
       "      <td>33</td>\n",
       "      <td>2</td>\n",
       "    </tr>\n",
       "    <tr>\n",
       "      <th>7912</th>\n",
       "      <td>IQGAP3</td>\n",
       "      <td>0.000000</td>\n",
       "      <td>0.000</td>\n",
       "      <td>14.781968</td>\n",
       "      <td>0.934855</td>\n",
       "      <td>1.0</td>\n",
       "      <td>0.044242</td>\n",
       "      <td>21</td>\n",
       "      <td>2</td>\n",
       "      <td>53</td>\n",
       "      <td>6</td>\n",
       "    </tr>\n",
       "    <tr>\n",
       "      <th>4632</th>\n",
       "      <td>DOCK1</td>\n",
       "      <td>0.000000</td>\n",
       "      <td>0.000</td>\n",
       "      <td>14.390113</td>\n",
       "      <td>1.000000</td>\n",
       "      <td>1.0</td>\n",
       "      <td>0.000059</td>\n",
       "      <td>42</td>\n",
       "      <td>0</td>\n",
       "      <td>54</td>\n",
       "      <td>2</td>\n",
       "    </tr>\n",
       "    <tr>\n",
       "      <th>17068</th>\n",
       "      <td>TUBB3</td>\n",
       "      <td>0.000000</td>\n",
       "      <td>0.000</td>\n",
       "      <td>14.340770</td>\n",
       "      <td>1.000000</td>\n",
       "      <td>1.0</td>\n",
       "      <td>0.003680</td>\n",
       "      <td>35</td>\n",
       "      <td>1</td>\n",
       "      <td>34</td>\n",
       "      <td>0</td>\n",
       "    </tr>\n",
       "    <tr>\n",
       "      <th>16607</th>\n",
       "      <td>TNRC6A</td>\n",
       "      <td>0.000000</td>\n",
       "      <td>0.000</td>\n",
       "      <td>14.053334</td>\n",
       "      <td>1.000000</td>\n",
       "      <td>1.0</td>\n",
       "      <td>0.006749</td>\n",
       "      <td>53</td>\n",
       "      <td>0</td>\n",
       "      <td>30</td>\n",
       "      <td>1</td>\n",
       "    </tr>\n",
       "    <tr>\n",
       "      <th>8471</th>\n",
       "      <td>KLHL36</td>\n",
       "      <td>0.000000</td>\n",
       "      <td>0.000</td>\n",
       "      <td>13.899191</td>\n",
       "      <td>1.000000</td>\n",
       "      <td>1.0</td>\n",
       "      <td>0.000008</td>\n",
       "      <td>12</td>\n",
       "      <td>0</td>\n",
       "      <td>32</td>\n",
       "      <td>0</td>\n",
       "    </tr>\n",
       "    <tr>\n",
       "      <th>1609</th>\n",
       "      <td>BIRC6</td>\n",
       "      <td>0.000000</td>\n",
       "      <td>0.000</td>\n",
       "      <td>13.731287</td>\n",
       "      <td>1.000000</td>\n",
       "      <td>1.0</td>\n",
       "      <td>0.003434</td>\n",
       "      <td>81</td>\n",
       "      <td>3</td>\n",
       "      <td>59</td>\n",
       "      <td>7</td>\n",
       "    </tr>\n",
       "    <tr>\n",
       "      <th>18250</th>\n",
       "      <td>ZNF385B</td>\n",
       "      <td>0.000000</td>\n",
       "      <td>0.000</td>\n",
       "      <td>13.462933</td>\n",
       "      <td>1.000000</td>\n",
       "      <td>1.0</td>\n",
       "      <td>0.000016</td>\n",
       "      <td>25</td>\n",
       "      <td>0</td>\n",
       "      <td>35</td>\n",
       "      <td>0</td>\n",
       "    </tr>\n",
       "    <tr>\n",
       "      <th>4463</th>\n",
       "      <td>DIP2C</td>\n",
       "      <td>0.000001</td>\n",
       "      <td>0.001</td>\n",
       "      <td>13.150092</td>\n",
       "      <td>1.000000</td>\n",
       "      <td>1.0</td>\n",
       "      <td>0.014162</td>\n",
       "      <td>46</td>\n",
       "      <td>5</td>\n",
       "      <td>51</td>\n",
       "      <td>4</td>\n",
       "    </tr>\n",
       "    <tr>\n",
       "      <th>9862</th>\n",
       "      <td>MIP</td>\n",
       "      <td>0.000001</td>\n",
       "      <td>0.001</td>\n",
       "      <td>12.814031</td>\n",
       "      <td>1.000000</td>\n",
       "      <td>1.0</td>\n",
       "      <td>0.011537</td>\n",
       "      <td>19</td>\n",
       "      <td>1</td>\n",
       "      <td>23</td>\n",
       "      <td>1</td>\n",
       "    </tr>\n",
       "    <tr>\n",
       "      <th>18559</th>\n",
       "      <td>ZNF823</td>\n",
       "      <td>0.000001</td>\n",
       "      <td>0.001</td>\n",
       "      <td>12.759636</td>\n",
       "      <td>0.934855</td>\n",
       "      <td>1.0</td>\n",
       "      <td>0.042146</td>\n",
       "      <td>12</td>\n",
       "      <td>2</td>\n",
       "      <td>22</td>\n",
       "      <td>0</td>\n",
       "    </tr>\n",
       "    <tr>\n",
       "      <th>1430</th>\n",
       "      <td>BAD</td>\n",
       "      <td>0.000001</td>\n",
       "      <td>0.001</td>\n",
       "      <td>12.757530</td>\n",
       "      <td>1.000000</td>\n",
       "      <td>1.0</td>\n",
       "      <td>0.005425</td>\n",
       "      <td>34</td>\n",
       "      <td>1</td>\n",
       "      <td>41</td>\n",
       "      <td>0</td>\n",
       "    </tr>\n",
       "    <tr>\n",
       "      <th>7113</th>\n",
       "      <td>HELZ2</td>\n",
       "      <td>0.000001</td>\n",
       "      <td>0.001</td>\n",
       "      <td>12.726241</td>\n",
       "      <td>1.000000</td>\n",
       "      <td>1.0</td>\n",
       "      <td>0.001138</td>\n",
       "      <td>105</td>\n",
       "      <td>1</td>\n",
       "      <td>118</td>\n",
       "      <td>0</td>\n",
       "    </tr>\n",
       "    <tr>\n",
       "      <th>16088</th>\n",
       "      <td>THAP10</td>\n",
       "      <td>0.000001</td>\n",
       "      <td>0.001</td>\n",
       "      <td>12.714726</td>\n",
       "      <td>1.000000</td>\n",
       "      <td>1.0</td>\n",
       "      <td>0.000001</td>\n",
       "      <td>1</td>\n",
       "      <td>0</td>\n",
       "      <td>12</td>\n",
       "      <td>0</td>\n",
       "    </tr>\n",
       "    <tr>\n",
       "      <th>9985</th>\n",
       "      <td>MORF4L1</td>\n",
       "      <td>0.000001</td>\n",
       "      <td>0.001</td>\n",
       "      <td>12.705471</td>\n",
       "      <td>1.000000</td>\n",
       "      <td>1.0</td>\n",
       "      <td>0.000003</td>\n",
       "      <td>0</td>\n",
       "      <td>0</td>\n",
       "      <td>9</td>\n",
       "      <td>0</td>\n",
       "    </tr>\n",
       "  </tbody>\n",
       "</table>\n",
       "</div>"
      ],
      "text/plain": [
       "          gene  p_phi_neg  q_phi_neg    phi_neg  p_phi_pos  q_phi_pos  \\\n",
       "16851     TRIO   0.000000      0.000  19.483826   1.000000        1.0   \n",
       "1539   BCL2L12   0.000000      0.000  17.492133   1.000000        1.0   \n",
       "15193     SPG7   0.000000      0.000  17.382595   1.000000        1.0   \n",
       "17712     WFS1   0.000000      0.000  16.522475   1.000000        1.0   \n",
       "18655    ZZEF1   0.000000      0.000  15.840392   0.927482        1.0   \n",
       "14773   SLC6A4   0.000000      0.000  15.716665   1.000000        1.0   \n",
       "7912    IQGAP3   0.000000      0.000  14.781968   0.934855        1.0   \n",
       "4632     DOCK1   0.000000      0.000  14.390113   1.000000        1.0   \n",
       "17068    TUBB3   0.000000      0.000  14.340770   1.000000        1.0   \n",
       "16607   TNRC6A   0.000000      0.000  14.053334   1.000000        1.0   \n",
       "8471    KLHL36   0.000000      0.000  13.899191   1.000000        1.0   \n",
       "1609     BIRC6   0.000000      0.000  13.731287   1.000000        1.0   \n",
       "18250  ZNF385B   0.000000      0.000  13.462933   1.000000        1.0   \n",
       "4463     DIP2C   0.000001      0.001  13.150092   1.000000        1.0   \n",
       "9862       MIP   0.000001      0.001  12.814031   1.000000        1.0   \n",
       "18559   ZNF823   0.000001      0.001  12.759636   0.934855        1.0   \n",
       "1430       BAD   0.000001      0.001  12.757530   1.000000        1.0   \n",
       "7113     HELZ2   0.000001      0.001  12.726241   1.000000        1.0   \n",
       "16088   THAP10   0.000001      0.001  12.714726   1.000000        1.0   \n",
       "9985   MORF4L1   0.000001      0.001  12.705471   1.000000        1.0   \n",
       "\n",
       "       phi_pos_or_p(m=0|s)*p(k=0|s)  m_obs  k_obs  s_obs  c_obs  \n",
       "16851                      0.008970     72      4    100     11  \n",
       "1539                       0.006921     27      2     45      0  \n",
       "15193                      0.000013     16      0     27      0  \n",
       "17712                      0.006801     34      1     75      0  \n",
       "18655                      0.076028     66      7     87      0  \n",
       "14773                      0.000006     10      0     33      2  \n",
       "7912                       0.044242     21      2     53      6  \n",
       "4632                       0.000059     42      0     54      2  \n",
       "17068                      0.003680     35      1     34      0  \n",
       "16607                      0.006749     53      0     30      1  \n",
       "8471                       0.000008     12      0     32      0  \n",
       "1609                       0.003434     81      3     59      7  \n",
       "18250                      0.000016     25      0     35      0  \n",
       "4463                       0.014162     46      5     51      4  \n",
       "9862                       0.011537     19      1     23      1  \n",
       "18559                      0.042146     12      2     22      0  \n",
       "1430                       0.005425     34      1     41      0  \n",
       "7113                       0.001138    105      1    118      0  \n",
       "16088                      0.000001      1      0     12      0  \n",
       "9985                       0.000003      0      0      9      0  "
      ]
     },
     "execution_count": 9,
     "metadata": {},
     "output_type": "execute_result"
    }
   ],
   "source": [
    "ordered_phineg_df.iloc[:20]"
   ]
  },
  {
   "cell_type": "markdown",
   "metadata": {},
   "source": [
    "Take only the genes with q-neg values lower than 0.1"
   ]
  },
  {
   "cell_type": "code",
   "execution_count": 10,
   "metadata": {},
   "outputs": [],
   "source": [
    "q_phi_neg_bygene = []\n",
    "q_phi_neg = []\n",
    "for i in range(len(ordered_phineg_df)):\n",
    "    if ordered_phineg_df['q_phi_neg'].iloc[i] < 0.1:\n",
    "        q_phi_neg_bygene.append([ordered_phineg_df['gene'].iloc[i], ordered_phineg_df['q_phi_neg'].iloc[i]])\n",
    "        q_phi_neg.append(ordered_phineg_df['q_phi_neg'].iloc[i])"
   ]
  },
  {
   "cell_type": "code",
   "execution_count": 11,
   "metadata": {},
   "outputs": [
    {
     "data": {
      "text/plain": [
       "[['TRIO', 0.0],\n",
       " ['BCL2L12', 0.0],\n",
       " ['SPG7', 0.0],\n",
       " ['WFS1', 0.0],\n",
       " ['ZZEF1', 0.0],\n",
       " ['SLC6A4', 0.0],\n",
       " ['IQGAP3', 0.0],\n",
       " ['DOCK1', 0.0],\n",
       " ['TUBB3', 0.0],\n",
       " ['TNRC6A', 0.0],\n",
       " ['KLHL36', 0.0],\n",
       " ['BIRC6', 0.0],\n",
       " ['ZNF385B', 0.0],\n",
       " ['DIP2C', 0.001000005],\n",
       " ['MIP', 0.001000005],\n",
       " ['ZNF823', 0.001000005],\n",
       " ['BAD', 0.001000005],\n",
       " ['HELZ2', 0.001000005],\n",
       " ['THAP10', 0.001000005],\n",
       " ['MORF4L1', 0.001000005]]"
      ]
     },
     "execution_count": 11,
     "metadata": {},
     "output_type": "execute_result"
    }
   ],
   "source": [
    "q_phi_neg_bygene[:20]"
   ]
  },
  {
   "cell_type": "code",
   "execution_count": 12,
   "metadata": {},
   "outputs": [
    {
     "data": {
      "image/png": "[encoded data removed]",
      "text/plain": [
       "<Figure size 640x480 with 1 Axes>"
      ]
     },
     "metadata": {},
     "output_type": "display_data"
    }
   ],
   "source": [
    "plt.hist(q_phi_neg, bins = 20)\n",
    "plt.title(r'Genes under negative selection $(q_{neg} < 0.1)$')\n",
    "plt.xlabel(r'$q_{neg}$', fontsize = 12)\n",
    "plt.ylabel('number of genes', fontsize = 12)\n",
    "y = np.arange(0,100, 20)\n",
    "plt.yticks(y)\n",
    "plt.savefig('q_graph_neg.png', dpi = 300)\n",
    "plt.show()"
   ]
  },
  {
   "cell_type": "code",
   "execution_count": 13,
   "metadata": {},
   "outputs": [
    {
     "data": {
      "text/plain": [
       "582"
      ]
     },
     "execution_count": 13,
     "metadata": {},
     "output_type": "execute_result"
    }
   ],
   "source": [
    "len(q_phi_neg)"
   ]
  },
  {
   "cell_type": "markdown",
   "metadata": {},
   "source": [
    "Can see from the histogram that there are far more genes with q-neg < 0.1 than there are genes with q-pos < 0.1\n",
    "\n",
    "Must count how many genes with q-pos < 0.1 and q-neg < 0.1 are in the COSMIC known cancer gene list and WANG cell essential gene list\n",
    "\n",
    "If there are many genes with q-neg/q-pos < 0.1 in those lists, then CBaSE has done a good job of detecting known cancer and cell essential genes.\n",
    "\n",
    "Then see how many of those genes are leftover and search previous studies to see if they confirm the new genes found as cancer genes"
   ]
  },
  {
   "cell_type": "code",
   "execution_count": 14,
   "metadata": {},
   "outputs": [],
   "source": [
    "cell_essG = pd.read_csv('Auxiliary/Wang_cell_essential_genes.txt', header=None)\n",
    "known_cancer_genes = pd.read_csv('Auxiliary/COSMIC_genes_v80.txt', header=None)\n",
    "cellEG = []\n",
    "for i in range(len(cell_essG[0])):\n",
    "    cellEG.append(cell_essG[0][i])\n",
    "known_CG = []\n",
    "for i in range(len(known_cancer_genes[0])):\n",
    "    known_CG.append(known_cancer_genes[0][i])"
   ]
  },
  {
   "cell_type": "code",
   "execution_count": 15,
   "metadata": {},
   "outputs": [
    {
     "data": {
      "text/plain": [
       "['ANAPC4',\n",
       " 'BCR',\n",
       " 'C21orf59',\n",
       " 'CCT7',\n",
       " 'CDC40',\n",
       " 'CDK1',\n",
       " 'CINP',\n",
       " 'COPS3',\n",
       " 'DDOST',\n",
       " 'DDX27']"
      ]
     },
     "execution_count": 15,
     "metadata": {},
     "output_type": "execute_result"
    }
   ],
   "source": [
    "cellEG[:10]"
   ]
  },
  {
   "cell_type": "code",
   "execution_count": 16,
   "metadata": {},
   "outputs": [
    {
     "data": {
      "text/plain": [
       "['ABI1', 'ABL1', 'ABL2', 'ACKR3', 'ACSL3']"
      ]
     },
     "execution_count": 16,
     "metadata": {},
     "output_type": "execute_result"
    }
   ],
   "source": [
    "known_CG[:5]"
   ]
  },
  {
   "cell_type": "markdown",
   "metadata": {},
   "source": [
    "Check if the genes from q_phi_pos_bygene are in the COSMIC human cancer gene list:\n",
    "\n",
    "If the gene is in the list, it is appended to matched_CG\n",
    "\n",
    "If the gene is not in the list, it is appended to new_CG"
   ]
  },
  {
   "cell_type": "code",
   "execution_count": 17,
   "metadata": {},
   "outputs": [],
   "source": [
    "matched_CG = []\n",
    "new_CG = []\n",
    "for i in range(len(q_phi_pos_bygene)):\n",
    "    for j in range(len(known_CG)):\n",
    "        if q_phi_pos_bygene[i][0] == known_CG[j]:\n",
    "            matched_CG.append(q_phi_pos_bygene[i])\n",
    "            break\n",
    "        if j == (len(known_CG)-1):\n",
    "            new_CG.append(q_phi_pos_bygene[i])"
   ]
  },
  {
   "cell_type": "code",
   "execution_count": 18,
   "metadata": {},
   "outputs": [
    {
     "data": {
      "text/plain": [
       "12"
      ]
     },
     "execution_count": 18,
     "metadata": {},
     "output_type": "execute_result"
    }
   ],
   "source": [
    "len(matched_CG)"
   ]
  },
  {
   "cell_type": "code",
   "execution_count": 19,
   "metadata": {},
   "outputs": [
    {
     "data": {
      "text/plain": [
       "[['TP53', 0.0],\n",
       " ['PTCH1', 0.0],\n",
       " ['FAT1', 0.0],\n",
       " ['ARID1A', 0.0],\n",
       " ['PPM1D', 0.0],\n",
       " ['NOTCH2', 0.0],\n",
       " ['TP63', 0.0],\n",
       " ['NOTCH1', 0.0],\n",
       " ['CDKN2A', 0.0],\n",
       " ['KMT2D', 0.0],\n",
       " ['NFKBIE', 0.004000021],\n",
       " ['RANBP17', 0.05314314]]"
      ]
     },
     "execution_count": 19,
     "metadata": {},
     "output_type": "execute_result"
    }
   ],
   "source": [
    "matched_CG"
   ]
  },
  {
   "cell_type": "markdown",
   "metadata": {},
   "source": [
    "14/62 of the genes with q-pos < 0.1, as calculated by CBaSE, are already associated with cancer by previous studies.\n",
    "\n",
    "Of these 14 genes, 11 of them have q-values of 0\n",
    "\n",
    "This means CBaSE has most likely detected the correct cancer genes in the BCC data set."
   ]
  },
  {
   "cell_type": "code",
   "execution_count": 20,
   "metadata": {},
   "outputs": [
    {
     "data": {
      "text/plain": [
       "32"
      ]
     },
     "execution_count": 20,
     "metadata": {},
     "output_type": "execute_result"
    }
   ],
   "source": [
    "len(new_CG)"
   ]
  },
  {
   "cell_type": "code",
   "execution_count": 21,
   "metadata": {},
   "outputs": [
    {
     "data": {
      "text/plain": [
       "[['PTPN14', 0.0],\n",
       " ['TLR9', 0.0],\n",
       " ['ARHGAP35', 0.0],\n",
       " ['ITGB3', 0.0],\n",
       " ['FAM109A', 0.0],\n",
       " ['GPX6', 0.0],\n",
       " ['TPTE', 0.0],\n",
       " ['ASXL3', 0.0],\n",
       " ['TTN', 0.0],\n",
       " ['PTGER3', 0.00476193],\n",
       " ['CARD8', 0.01043484],\n",
       " ['SGSH', 0.01043484],\n",
       " ['SLC5A11', 0.01583342],\n",
       " ['ABCC12', 0.02720015],\n",
       " ['MIIP', 0.02846169],\n",
       " ['ASXL2', 0.03214303],\n",
       " ['SCG3', 0.03214303],\n",
       " ['USP29', 0.03793124],\n",
       " ['A2M', 0.03935505],\n",
       " ['MUC19', 0.03935505],\n",
       " ['TMEM35', 0.04750025],\n",
       " ['GRIA4', 0.05176498],\n",
       " ['TMEM222', 0.05176498],\n",
       " ['SEMA3E', 0.05666697],\n",
       " ['VNN3', 0.07351391],\n",
       " ['AGTRAP', 0.07365893],\n",
       " ['USP44', 0.07365893],\n",
       " ['PON1', 0.07365893],\n",
       " ['GNAL', 0.07365893],\n",
       " ['EYS', 0.08000043],\n",
       " ['TOR1AIP1', 0.08325626],\n",
       " ['BIVM-ERCC5', 0.09272777]]"
      ]
     },
     "execution_count": 21,
     "metadata": {},
     "output_type": "execute_result"
    }
   ],
   "source": [
    "new_CG"
   ]
  },
  {
   "cell_type": "markdown",
   "metadata": {},
   "source": [
    "48/48 of the genes with q-pos < 0.1, as calculated by CBaSE, are not in the COSMIC known cancer gene list.\n",
    "\n",
    "Of these 48 genes, 10 of them have q-pos values of 0.\n",
    "\n",
    "These genes must be checked against previous cancer stydies to see if they are already associated withh cancer. If not, further studies should be done to investigate the mechanisms which could associate cancer with these genes."
   ]
  },
  {
   "cell_type": "code",
   "execution_count": 22,
   "metadata": {},
   "outputs": [],
   "source": [
    "matched_EG = []\n",
    "new_EG = []\n",
    "for i in range(len(q_phi_neg_bygene)):\n",
    "    for j in range(len(cellEG)):\n",
    "        if q_phi_neg_bygene[i][0] == cellEG[j]:\n",
    "            matched_EG.append(q_phi_neg_bygene[i])\n",
    "            break\n",
    "        if j == (len(cellEG)-1):\n",
    "            new_EG.append(q_phi_neg_bygene[i])"
   ]
  },
  {
   "cell_type": "code",
   "execution_count": 23,
   "metadata": {},
   "outputs": [
    {
     "data": {
      "text/plain": [
       "[['BCR', 0.01897969]]"
      ]
     },
     "execution_count": 23,
     "metadata": {},
     "output_type": "execute_result"
    }
   ],
   "source": [
    "matched_EG"
   ]
  },
  {
   "cell_type": "code",
   "execution_count": 24,
   "metadata": {},
   "outputs": [
    {
     "data": {
      "text/plain": [
       "[['TRIO', 0.0],\n",
       " ['BCL2L12', 0.0],\n",
       " ['SPG7', 0.0],\n",
       " ['WFS1', 0.0],\n",
       " ['ZZEF1', 0.0],\n",
       " ['SLC6A4', 0.0],\n",
       " ['IQGAP3', 0.0],\n",
       " ['DOCK1', 0.0],\n",
       " ['TUBB3', 0.0],\n",
       " ['TNRC6A', 0.0]]"
      ]
     },
     "execution_count": 24,
     "metadata": {},
     "output_type": "execute_result"
    }
   ],
   "source": [
    "new_EG[:10]"
   ]
  },
  {
   "cell_type": "code",
   "execution_count": 25,
   "metadata": {},
   "outputs": [
    {
     "data": {
      "text/plain": [
       "77"
      ]
     },
     "execution_count": 25,
     "metadata": {},
     "output_type": "execute_result"
    }
   ],
   "source": [
    "len(cellEG)"
   ]
  },
  {
   "cell_type": "code",
   "execution_count": 26,
   "metadata": {},
   "outputs": [
    {
     "data": {
      "text/plain": [
       "581"
      ]
     },
     "execution_count": 26,
     "metadata": {},
     "output_type": "execute_result"
    }
   ],
   "source": [
    "len(new_EG)"
   ]
  },
  {
   "cell_type": "markdown",
   "metadata": {},
   "source": [
    "Can see from this: only one of the genes in output of CBaSE with q-neg < 0.1 is in the WANG cell essential gene list. This is strange... could be explained by the fact that most cell essential genes are haplosufficient (i.e. can be same phenotype even if one allele is mutated)\n",
    "\n",
    "When looking up the genes at the top of the q_neg_bygene list on the GeneCards website, find that most of these are associated with cancer and/or apoptosis.\n",
    "\n",
    "This clearly indicates that CBaSE has worked well in identifying genes whose 'wild-type' coding sequences allow tumour growth.\n",
    "\n",
    "Where in the list are the WANG cell essential genes? Atttempt to find below!"
   ]
  },
  {
   "cell_type": "code",
   "execution_count": 27,
   "metadata": {},
   "outputs": [],
   "source": [
    "q_phi_neg_bygene2 = []\n",
    "q_phi_neg2 = []\n",
    "for i in range(len(ordered_phineg_df)):\n",
    "    if ordered_phineg_df['q_phi_neg'].iloc[i] < 0.6:\n",
    "        q_phi_neg_bygene2.append([ordered_phineg_df['gene'].iloc[i], ordered_phineg_df['q_phi_neg'].iloc[i]])\n",
    "        q_phi_neg2.append(ordered_phineg_df['q_phi_neg'].iloc[i])"
   ]
  },
  {
   "cell_type": "code",
   "execution_count": 28,
   "metadata": {},
   "outputs": [],
   "source": [
    "matched_EG2 = []\n",
    "new_EG2 = []\n",
    "for i in range(len(q_phi_neg_bygene2)):\n",
    "    for j in range(len(cellEG)):\n",
    "        if q_phi_neg_bygene2[i][0] == cellEG[j]:\n",
    "            matched_EG2.append(q_phi_neg_bygene2[i])\n",
    "            break\n",
    "        if j == (len(cellEG)-1):\n",
    "            new_EG2.append(q_phi_neg_bygene2[i])"
   ]
  },
  {
   "cell_type": "code",
   "execution_count": 29,
   "metadata": {},
   "outputs": [
    {
     "data": {
      "text/plain": [
       "[['BCR', 0.01897969],\n",
       " ['SON', 0.1809796],\n",
       " ['RPL6', 0.1856328],\n",
       " ['WDR43', 0.1936146],\n",
       " ['POLR1A', 0.2019783],\n",
       " ['RPL7A', 0.2078176],\n",
       " ['DYNC1H1', 0.2308385],\n",
       " ['CDC40', 0.2431173],\n",
       " ['HCFC1', 0.26276],\n",
       " ['RPL27A', 0.2695075],\n",
       " ['RPL9', 0.2719433],\n",
       " ['MPHOSPH10', 0.2753861],\n",
       " ['RPS15A', 0.2783355],\n",
       " ['EIF3D', 0.2868975],\n",
       " ['STAT5B', 0.2928616],\n",
       " ['CINP', 0.3424098],\n",
       " ['DDOST', 0.3517173],\n",
       " ['SRSF7', 0.3556535],\n",
       " ['SNRNP27', 0.3794004],\n",
       " ['RPS7', 0.3861559],\n",
       " ['DDX27', 0.4431932],\n",
       " ['RPL32', 0.4431932],\n",
       " ['GLTSCR2', 0.467863],\n",
       " ['SAP30BP', 0.467863],\n",
       " ['RSL24D1', 0.5042916],\n",
       " ['CDK1', 0.516466],\n",
       " ['PES1', 0.5275952],\n",
       " ['GON4L', 0.5311516],\n",
       " ['MIS12', 0.5366069],\n",
       " ['EEF1A1', 0.5397403],\n",
       " ['NR2C2AP', 0.5540121],\n",
       " ['RPS3A', 0.5590176],\n",
       " ['UTP15', 0.577035]]"
      ]
     },
     "execution_count": 29,
     "metadata": {},
     "output_type": "execute_result"
    }
   ],
   "source": [
    "matched_EG2"
   ]
  },
  {
   "cell_type": "code",
   "execution_count": 30,
   "metadata": {},
   "outputs": [
    {
     "data": {
      "text/plain": [
       "33"
      ]
     },
     "execution_count": 30,
     "metadata": {},
     "output_type": "execute_result"
    }
   ],
   "source": [
    "len(matched_EG2)"
   ]
  },
  {
   "cell_type": "markdown",
   "metadata": {},
   "source": [
    "By increasing the search of Wang cell-essential genes to those with q-neg < 0.6, we then find that there are 34 matches. The first match is of course 'BCR' which was found when q-neg < 0.1 but the rest have q-values ranging from 0.17 to 0.59"
   ]
  },
  {
   "cell_type": "markdown",
   "metadata": {},
   "source": [
    "Attempt to plot a histogram with phi values for the genes with lowest q-pos values"
   ]
  },
  {
   "cell_type": "code",
   "execution_count": 31,
   "metadata": {},
   "outputs": [],
   "source": [
    "phi_pos_bygene = []\n",
    "phi_pos = []\n",
    "for i in range(len(ordered_phipos_df)):\n",
    "    if ordered_phipos_df['q_phi_pos'].iloc[i] < 0.1:\n",
    "        phi_pos_bygene.append([ordered_phipos_df['gene'].iloc[i],ordered_phipos_df['phi_pos_or_p(m=0|s)*p(k=0|s)'].iloc[i]])\n",
    "        phi_pos.append(ordered_phipos_df['phi_pos_or_p(m=0|s)*p(k=0|s)'].iloc[i])"
   ]
  },
  {
   "cell_type": "code",
   "execution_count": 32,
   "metadata": {},
   "outputs": [
    {
     "data": {
      "text/plain": [
       "[['TP53', 100000.0],\n",
       " ['PTPN14', 100000.0],\n",
       " ['PTCH1', 100000.0],\n",
       " ['TLR9', 40.748116],\n",
       " ['ARHGAP35', 34.782903],\n",
       " ['FAT1', 32.631472],\n",
       " ['ITGB3', 27.61227],\n",
       " ['ARID1A', 25.333433],\n",
       " ['PPM1D', 23.562597],\n",
       " ['NOTCH2', 21.895141],\n",
       " ['FAM109A', 21.394023],\n",
       " ['GPX6', 17.118969],\n",
       " ['TPTE', 17.032976],\n",
       " ['TP63', 16.920872],\n",
       " ['NOTCH1', 16.798217],\n",
       " ['ASXL3', 16.776094],\n",
       " ['CDKN2A', 16.546589],\n",
       " ['TTN', 16.184218],\n",
       " ['KMT2D', 16.144955],\n",
       " ['NFKBIE', 14.58554]]"
      ]
     },
     "execution_count": 32,
     "metadata": {},
     "output_type": "execute_result"
    }
   ],
   "source": [
    "phi_pos_bygene[:20]"
   ]
  },
  {
   "cell_type": "code",
   "execution_count": 33,
   "metadata": {},
   "outputs": [
    {
     "data": {
      "image/png": "[encoded data removed]",
      "text/plain": [
       "<Figure size 640x480 with 1 Axes>"
      ]
     },
     "metadata": {},
     "output_type": "display_data"
    }
   ],
   "source": [
    "plt.hist(np.log10(phi_pos), bins = 30)\n",
    "plt.title(r'Genes under positive selection $(q_{pos} < 0.1)$')\n",
    "plt.xlabel(r'$\\log_{10}$($\\phi_{pos}$)', fontsize = 12)\n",
    "plt.ylabel('number of genes', fontsize = 12)\n",
    "y = np.arange(0,25, 4)\n",
    "plt.yticks(y)\n",
    "plt.savefig('phi_graph_pos.png', dpi = 300)\n",
    "plt.show()"
   ]
  },
  {
   "cell_type": "markdown",
   "metadata": {},
   "source": [
    "Now to plot a histogram of phi-neg values for the genes under negative selection"
   ]
  },
  {
   "cell_type": "code",
   "execution_count": 34,
   "metadata": {},
   "outputs": [],
   "source": [
    "phi_neg_bygene = []\n",
    "phi_neg = []\n",
    "for i in range(len(ordered_phineg_df)):\n",
    "    if ordered_phineg_df['q_phi_neg'].iloc[i] < 0.1:\n",
    "        phi_neg_bygene.append([ordered_phineg_df['gene'].iloc[i], ordered_phineg_df['phi_neg'].iloc[i]])\n",
    "        phi_neg.append(ordered_phineg_df['phi_neg'].iloc[i])"
   ]
  },
  {
   "cell_type": "code",
   "execution_count": 35,
   "metadata": {},
   "outputs": [
    {
     "data": {
      "text/plain": [
       "[['TRIO', 19.483826],\n",
       " ['BCL2L12', 17.492133],\n",
       " ['SPG7', 17.382595],\n",
       " ['WFS1', 16.522475],\n",
       " ['ZZEF1', 15.840392],\n",
       " ['SLC6A4', 15.716665],\n",
       " ['IQGAP3', 14.781968],\n",
       " ['DOCK1', 14.390113],\n",
       " ['TUBB3', 14.34077],\n",
       " ['TNRC6A', 14.053334],\n",
       " ['KLHL36', 13.899191],\n",
       " ['BIRC6', 13.731287],\n",
       " ['ZNF385B', 13.462933],\n",
       " ['DIP2C', 13.150092],\n",
       " ['MIP', 12.814031],\n",
       " ['ZNF823', 12.759636],\n",
       " ['BAD', 12.75753],\n",
       " ['HELZ2', 12.726241],\n",
       " ['THAP10', 12.714726],\n",
       " ['MORF4L1', 12.705471]]"
      ]
     },
     "execution_count": 35,
     "metadata": {},
     "output_type": "execute_result"
    }
   ],
   "source": [
    "phi_neg_bygene[:20]"
   ]
  },
  {
   "cell_type": "code",
   "execution_count": 36,
   "metadata": {},
   "outputs": [
    {
     "data": {
      "image/png": "[encoded data removed]",
      "text/plain": [
       "<Figure size 640x480 with 1 Axes>"
      ]
     },
     "metadata": {},
     "output_type": "display_data"
    }
   ],
   "source": [
    "plt.hist(np.log10(phi_neg), bins = 25)\n",
    "plt.title(r'Genes under negative selection ($q_{neg} < 0.1$)')\n",
    "plt.xlabel(r'$\\log_{10}$($\\phi_{neg}$)', fontsize = 12)\n",
    "plt.ylabel('number of genes', fontsize = 12)\n",
    "#y = np.arange(0,28, 4)\n",
    "#plt.yticks(y)\n",
    "plt.savefig('phi_graph_neg.png', dpi = 300)\n",
    "plt.show()"
   ]
  },
  {
   "cell_type": "markdown",
   "metadata": {},
   "source": [
    "Can now see that despite the fact that there are far more genes with q-neg < 0.1 than there are genes with q-pos < 0.1, the genes with q-pos < 0.1 have larger values of phi and are thus more strongly selected\n",
    "\n",
    "This shows that the results are more or less as expected"
   ]
  },
  {
   "cell_type": "code",
   "execution_count": null,
   "metadata": {},
   "outputs": [],
   "source": []
  }
 ],
 "metadata": {
  "kernelspec": {
   "display_name": "Python 3 (ipykernel)",
   "language": "python",
   "name": "python3"
  },
  "language_info": {
   "codemirror_mode": {
    "name": "ipython",
    "version": 3
   },
   "file_extension": ".py",
   "mimetype": "text/x-python",
   "name": "python",
   "nbconvert_exporter": "python",
   "pygments_lexer": "ipython3",
   "version": "3.10.12"
  }
 },
 "nbformat": 4,
 "nbformat_minor": 4
}
