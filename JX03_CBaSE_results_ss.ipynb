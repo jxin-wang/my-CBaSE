{
 "cells": [
  {
   "cell_type": "code",
   "execution_count": 3,
   "metadata": {},
   "outputs": [],
   "source": [
    "import pandas as pd\n",
    "import numpy as np\n",
    "import time\n",
    "import matplotlib.pyplot as plt\n",
    "import matplotlib"
   ]
  },
  {
   "cell_type": "code",
   "execution_count": 4,
   "metadata": {},
   "outputs": [],
   "source": [
    "df = pd.read_csv('Output/q_values_BCCfullset_jx.txt', delimiter='\\t', engine='c', low_memory=False, skiprows=[0])"
   ]
  },
  {
   "cell_type": "code",
   "execution_count": 5,
   "metadata": {},
   "outputs": [
    {
     "data": {
      "text/html": [
       "<div>\n",
       "<style scoped>\n",
       "    .dataframe tbody tr th:only-of-type {\n",
       "        vertical-align: middle;\n",
       "    }\n",
       "\n",
       "    .dataframe tbody tr th {\n",
       "        vertical-align: top;\n",
       "    }\n",
       "\n",
       "    .dataframe thead th {\n",
       "        text-align: right;\n",
       "    }\n",
       "</style>\n",
       "<table border=\"1\" class=\"dataframe\">\n",
       "  <thead>\n",
       "    <tr style=\"text-align: right;\">\n",
       "      <th></th>\n",
       "      <th>gene</th>\n",
       "      <th>p_phi_neg</th>\n",
       "      <th>q_phi_neg</th>\n",
       "      <th>phi_neg</th>\n",
       "      <th>p_phi_pos</th>\n",
       "      <th>q_phi_pos</th>\n",
       "      <th>phi_pos_or_p(m=0|s)*p(k=0|s)</th>\n",
       "      <th>m_obs</th>\n",
       "      <th>k_obs</th>\n",
       "      <th>s_obs</th>\n",
       "    </tr>\n",
       "  </thead>\n",
       "  <tbody>\n",
       "    <tr>\n",
       "      <th>0</th>\n",
       "      <td>A1BG</td>\n",
       "      <td>0.569400</td>\n",
       "      <td>0.859895</td>\n",
       "      <td>0.916072</td>\n",
       "      <td>0.578279</td>\n",
       "      <td>1.000000</td>\n",
       "      <td>0.985719</td>\n",
       "      <td>10</td>\n",
       "      <td>0</td>\n",
       "      <td>5</td>\n",
       "    </tr>\n",
       "    <tr>\n",
       "      <th>1</th>\n",
       "      <td>A1CF</td>\n",
       "      <td>0.802551</td>\n",
       "      <td>0.946000</td>\n",
       "      <td>0.505210</td>\n",
       "      <td>0.055145</td>\n",
       "      <td>1.000000</td>\n",
       "      <td>4.001763</td>\n",
       "      <td>64</td>\n",
       "      <td>3</td>\n",
       "      <td>18</td>\n",
       "    </tr>\n",
       "    <tr>\n",
       "      <th>2</th>\n",
       "      <td>A2M</td>\n",
       "      <td>1.000000</td>\n",
       "      <td>1.000000</td>\n",
       "      <td>0.009601</td>\n",
       "      <td>0.000053</td>\n",
       "      <td>0.030303</td>\n",
       "      <td>11.594452</td>\n",
       "      <td>88</td>\n",
       "      <td>7</td>\n",
       "      <td>28</td>\n",
       "    </tr>\n",
       "    <tr>\n",
       "      <th>3</th>\n",
       "      <td>A2ML1</td>\n",
       "      <td>0.823144</td>\n",
       "      <td>0.953442</td>\n",
       "      <td>0.471099</td>\n",
       "      <td>0.038832</td>\n",
       "      <td>0.909774</td>\n",
       "      <td>4.417190</td>\n",
       "      <td>93</td>\n",
       "      <td>5</td>\n",
       "      <td>37</td>\n",
       "    </tr>\n",
       "    <tr>\n",
       "      <th>4</th>\n",
       "      <td>A3GALT2</td>\n",
       "      <td>0.983098</td>\n",
       "      <td>1.000000</td>\n",
       "      <td>0.133465</td>\n",
       "      <td>0.119304</td>\n",
       "      <td>1.000000</td>\n",
       "      <td>3.087416</td>\n",
       "      <td>6</td>\n",
       "      <td>0</td>\n",
       "      <td>0</td>\n",
       "    </tr>\n",
       "  </tbody>\n",
       "</table>\n",
       "</div>"
      ],
      "text/plain": [
       "      gene  p_phi_neg  q_phi_neg   phi_neg  p_phi_pos  q_phi_pos  \\\n",
       "0     A1BG   0.569400   0.859895  0.916072   0.578279   1.000000   \n",
       "1     A1CF   0.802551   0.946000  0.505210   0.055145   1.000000   \n",
       "2      A2M   1.000000   1.000000  0.009601   0.000053   0.030303   \n",
       "3    A2ML1   0.823144   0.953442  0.471099   0.038832   0.909774   \n",
       "4  A3GALT2   0.983098   1.000000  0.133465   0.119304   1.000000   \n",
       "\n",
       "   phi_pos_or_p(m=0|s)*p(k=0|s)  m_obs  k_obs  s_obs  \n",
       "0                      0.985719     10      0      5  \n",
       "1                      4.001763     64      3     18  \n",
       "2                     11.594452     88      7     28  \n",
       "3                      4.417190     93      5     37  \n",
       "4                      3.087416      6      0      0  "
      ]
     },
     "execution_count": 5,
     "metadata": {},
     "output_type": "execute_result"
    }
   ],
   "source": [
    "df.head()"
   ]
  },
  {
   "cell_type": "code",
   "execution_count": 6,
   "metadata": {},
   "outputs": [],
   "source": [
    "ordered_phipos_df = df.sort_values('phi_pos_or_p(m=0|s)*p(k=0|s)', ascending=False)\n",
    "ordered_phineg_df = df.sort_values('phi_neg', ascending=False)"
   ]
  },
  {
   "cell_type": "markdown",
   "metadata": {},
   "source": [
    "Here are the first 20 genes listed in decreasing order of positive selection"
   ]
  },
  {
   "cell_type": "code",
   "execution_count": 7,
   "metadata": {},
   "outputs": [
    {
     "data": {
      "text/html": [
       "<div>\n",
       "<style scoped>\n",
       "    .dataframe tbody tr th:only-of-type {\n",
       "        vertical-align: middle;\n",
       "    }\n",
       "\n",
       "    .dataframe tbody tr th {\n",
       "        vertical-align: top;\n",
       "    }\n",
       "\n",
       "    .dataframe thead th {\n",
       "        text-align: right;\n",
       "    }\n",
       "</style>\n",
       "<table border=\"1\" class=\"dataframe\">\n",
       "  <thead>\n",
       "    <tr style=\"text-align: right;\">\n",
       "      <th></th>\n",
       "      <th>gene</th>\n",
       "      <th>p_phi_neg</th>\n",
       "      <th>q_phi_neg</th>\n",
       "      <th>phi_neg</th>\n",
       "      <th>p_phi_pos</th>\n",
       "      <th>q_phi_pos</th>\n",
       "      <th>phi_pos_or_p(m=0|s)*p(k=0|s)</th>\n",
       "      <th>m_obs</th>\n",
       "      <th>k_obs</th>\n",
       "      <th>s_obs</th>\n",
       "    </tr>\n",
       "  </thead>\n",
       "  <tbody>\n",
       "    <tr>\n",
       "      <th>12773</th>\n",
       "      <td>PTCH1</td>\n",
       "      <td>1.000000</td>\n",
       "      <td>1.000000</td>\n",
       "      <td>0.002481</td>\n",
       "      <td>0.0</td>\n",
       "      <td>0.0</td>\n",
       "      <td>100000.000000</td>\n",
       "      <td>68</td>\n",
       "      <td>100</td>\n",
       "      <td>24</td>\n",
       "    </tr>\n",
       "    <tr>\n",
       "      <th>16684</th>\n",
       "      <td>TP53</td>\n",
       "      <td>1.000000</td>\n",
       "      <td>1.000000</td>\n",
       "      <td>0.000000</td>\n",
       "      <td>0.0</td>\n",
       "      <td>0.0</td>\n",
       "      <td>100000.000000</td>\n",
       "      <td>178</td>\n",
       "      <td>64</td>\n",
       "      <td>14</td>\n",
       "    </tr>\n",
       "    <tr>\n",
       "      <th>5702</th>\n",
       "      <td>FAT1</td>\n",
       "      <td>0.257542</td>\n",
       "      <td>0.634889</td>\n",
       "      <td>1.769746</td>\n",
       "      <td>0.0</td>\n",
       "      <td>0.0</td>\n",
       "      <td>100000.000000</td>\n",
       "      <td>122</td>\n",
       "      <td>40</td>\n",
       "      <td>69</td>\n",
       "    </tr>\n",
       "    <tr>\n",
       "      <th>16242</th>\n",
       "      <td>TLR9</td>\n",
       "      <td>1.000000</td>\n",
       "      <td>1.000000</td>\n",
       "      <td>0.000007</td>\n",
       "      <td>0.0</td>\n",
       "      <td>0.0</td>\n",
       "      <td>40.793763</td>\n",
       "      <td>64</td>\n",
       "      <td>5</td>\n",
       "      <td>3</td>\n",
       "    </tr>\n",
       "    <tr>\n",
       "      <th>12832</th>\n",
       "      <td>PTPN14</td>\n",
       "      <td>0.769630</td>\n",
       "      <td>0.930544</td>\n",
       "      <td>0.566268</td>\n",
       "      <td>0.0</td>\n",
       "      <td>0.0</td>\n",
       "      <td>35.395456</td>\n",
       "      <td>29</td>\n",
       "      <td>37</td>\n",
       "      <td>18</td>\n",
       "    </tr>\n",
       "    <tr>\n",
       "      <th>968</th>\n",
       "      <td>ARHGAP35</td>\n",
       "      <td>1.000000</td>\n",
       "      <td>1.000000</td>\n",
       "      <td>0.009184</td>\n",
       "      <td>0.0</td>\n",
       "      <td>0.0</td>\n",
       "      <td>34.735647</td>\n",
       "      <td>44</td>\n",
       "      <td>20</td>\n",
       "      <td>12</td>\n",
       "    </tr>\n",
       "    <tr>\n",
       "      <th>7992</th>\n",
       "      <td>ITGB3</td>\n",
       "      <td>1.000000</td>\n",
       "      <td>1.000000</td>\n",
       "      <td>0.000094</td>\n",
       "      <td>0.0</td>\n",
       "      <td>0.0</td>\n",
       "      <td>27.582983</td>\n",
       "      <td>70</td>\n",
       "      <td>6</td>\n",
       "      <td>7</td>\n",
       "    </tr>\n",
       "    <tr>\n",
       "      <th>1007</th>\n",
       "      <td>ARID1A</td>\n",
       "      <td>0.699508</td>\n",
       "      <td>0.902865</td>\n",
       "      <td>0.684353</td>\n",
       "      <td>0.0</td>\n",
       "      <td>0.0</td>\n",
       "      <td>25.326888</td>\n",
       "      <td>57</td>\n",
       "      <td>23</td>\n",
       "      <td>28</td>\n",
       "    </tr>\n",
       "    <tr>\n",
       "      <th>12362</th>\n",
       "      <td>PPM1D</td>\n",
       "      <td>0.466143</td>\n",
       "      <td>0.799248</td>\n",
       "      <td>1.124191</td>\n",
       "      <td>0.0</td>\n",
       "      <td>0.0</td>\n",
       "      <td>23.549981</td>\n",
       "      <td>11</td>\n",
       "      <td>19</td>\n",
       "      <td>6</td>\n",
       "    </tr>\n",
       "    <tr>\n",
       "      <th>10878</th>\n",
       "      <td>NOTCH2</td>\n",
       "      <td>0.999438</td>\n",
       "      <td>1.000000</td>\n",
       "      <td>0.021552</td>\n",
       "      <td>0.0</td>\n",
       "      <td>0.0</td>\n",
       "      <td>21.891360</td>\n",
       "      <td>99</td>\n",
       "      <td>23</td>\n",
       "      <td>33</td>\n",
       "    </tr>\n",
       "    <tr>\n",
       "      <th>5391</th>\n",
       "      <td>FAM109A</td>\n",
       "      <td>1.000000</td>\n",
       "      <td>1.000000</td>\n",
       "      <td>0.002197</td>\n",
       "      <td>0.0</td>\n",
       "      <td>0.0</td>\n",
       "      <td>21.392649</td>\n",
       "      <td>16</td>\n",
       "      <td>7</td>\n",
       "      <td>2</td>\n",
       "    </tr>\n",
       "    <tr>\n",
       "      <th>6797</th>\n",
       "      <td>GPX6</td>\n",
       "      <td>1.000000</td>\n",
       "      <td>1.000000</td>\n",
       "      <td>0.007351</td>\n",
       "      <td>0.0</td>\n",
       "      <td>0.0</td>\n",
       "      <td>17.038236</td>\n",
       "      <td>25</td>\n",
       "      <td>10</td>\n",
       "      <td>14</td>\n",
       "    </tr>\n",
       "    <tr>\n",
       "      <th>16737</th>\n",
       "      <td>TPTE</td>\n",
       "      <td>0.977161</td>\n",
       "      <td>1.000000</td>\n",
       "      <td>0.148057</td>\n",
       "      <td>0.0</td>\n",
       "      <td>0.0</td>\n",
       "      <td>16.965141</td>\n",
       "      <td>162</td>\n",
       "      <td>7</td>\n",
       "      <td>28</td>\n",
       "    </tr>\n",
       "    <tr>\n",
       "      <th>16696</th>\n",
       "      <td>TP63</td>\n",
       "      <td>1.000000</td>\n",
       "      <td>1.000000</td>\n",
       "      <td>0.003944</td>\n",
       "      <td>0.0</td>\n",
       "      <td>0.0</td>\n",
       "      <td>16.905186</td>\n",
       "      <td>30</td>\n",
       "      <td>9</td>\n",
       "      <td>6</td>\n",
       "    </tr>\n",
       "    <tr>\n",
       "      <th>10877</th>\n",
       "      <td>NOTCH1</td>\n",
       "      <td>1.000000</td>\n",
       "      <td>1.000000</td>\n",
       "      <td>0.017254</td>\n",
       "      <td>0.0</td>\n",
       "      <td>0.0</td>\n",
       "      <td>16.796239</td>\n",
       "      <td>92</td>\n",
       "      <td>14</td>\n",
       "      <td>37</td>\n",
       "    </tr>\n",
       "    <tr>\n",
       "      <th>1173</th>\n",
       "      <td>ASXL3</td>\n",
       "      <td>1.000000</td>\n",
       "      <td>1.000000</td>\n",
       "      <td>0.001283</td>\n",
       "      <td>0.0</td>\n",
       "      <td>0.0</td>\n",
       "      <td>16.766523</td>\n",
       "      <td>257</td>\n",
       "      <td>16</td>\n",
       "      <td>56</td>\n",
       "    </tr>\n",
       "    <tr>\n",
       "      <th>3031</th>\n",
       "      <td>CDKN2A</td>\n",
       "      <td>1.000000</td>\n",
       "      <td>1.000000</td>\n",
       "      <td>0.016236</td>\n",
       "      <td>0.0</td>\n",
       "      <td>0.0</td>\n",
       "      <td>16.496870</td>\n",
       "      <td>18</td>\n",
       "      <td>6</td>\n",
       "      <td>2</td>\n",
       "    </tr>\n",
       "    <tr>\n",
       "      <th>17076</th>\n",
       "      <td>TTN</td>\n",
       "      <td>0.747994</td>\n",
       "      <td>0.921792</td>\n",
       "      <td>0.603339</td>\n",
       "      <td>0.0</td>\n",
       "      <td>0.0</td>\n",
       "      <td>16.183301</td>\n",
       "      <td>3412</td>\n",
       "      <td>201</td>\n",
       "      <td>1127</td>\n",
       "    </tr>\n",
       "    <tr>\n",
       "      <th>8513</th>\n",
       "      <td>KMT2D</td>\n",
       "      <td>0.124144</td>\n",
       "      <td>0.471844</td>\n",
       "      <td>2.498937</td>\n",
       "      <td>0.0</td>\n",
       "      <td>0.0</td>\n",
       "      <td>16.144399</td>\n",
       "      <td>221</td>\n",
       "      <td>35</td>\n",
       "      <td>120</td>\n",
       "    </tr>\n",
       "    <tr>\n",
       "      <th>10706</th>\n",
       "      <td>NFKBIE</td>\n",
       "      <td>0.936724</td>\n",
       "      <td>0.998973</td>\n",
       "      <td>0.252775</td>\n",
       "      <td>0.0</td>\n",
       "      <td>0.0</td>\n",
       "      <td>14.574744</td>\n",
       "      <td>43</td>\n",
       "      <td>0</td>\n",
       "      <td>2</td>\n",
       "    </tr>\n",
       "  </tbody>\n",
       "</table>\n",
       "</div>"
      ],
      "text/plain": [
       "           gene  p_phi_neg  q_phi_neg   phi_neg  p_phi_pos  q_phi_pos  \\\n",
       "12773     PTCH1   1.000000   1.000000  0.002481        0.0        0.0   \n",
       "16684      TP53   1.000000   1.000000  0.000000        0.0        0.0   \n",
       "5702       FAT1   0.257542   0.634889  1.769746        0.0        0.0   \n",
       "16242      TLR9   1.000000   1.000000  0.000007        0.0        0.0   \n",
       "12832    PTPN14   0.769630   0.930544  0.566268        0.0        0.0   \n",
       "968    ARHGAP35   1.000000   1.000000  0.009184        0.0        0.0   \n",
       "7992      ITGB3   1.000000   1.000000  0.000094        0.0        0.0   \n",
       "1007     ARID1A   0.699508   0.902865  0.684353        0.0        0.0   \n",
       "12362     PPM1D   0.466143   0.799248  1.124191        0.0        0.0   \n",
       "10878    NOTCH2   0.999438   1.000000  0.021552        0.0        0.0   \n",
       "5391    FAM109A   1.000000   1.000000  0.002197        0.0        0.0   \n",
       "6797       GPX6   1.000000   1.000000  0.007351        0.0        0.0   \n",
       "16737      TPTE   0.977161   1.000000  0.148057        0.0        0.0   \n",
       "16696      TP63   1.000000   1.000000  0.003944        0.0        0.0   \n",
       "10877    NOTCH1   1.000000   1.000000  0.017254        0.0        0.0   \n",
       "1173      ASXL3   1.000000   1.000000  0.001283        0.0        0.0   \n",
       "3031     CDKN2A   1.000000   1.000000  0.016236        0.0        0.0   \n",
       "17076       TTN   0.747994   0.921792  0.603339        0.0        0.0   \n",
       "8513      KMT2D   0.124144   0.471844  2.498937        0.0        0.0   \n",
       "10706    NFKBIE   0.936724   0.998973  0.252775        0.0        0.0   \n",
       "\n",
       "       phi_pos_or_p(m=0|s)*p(k=0|s)  m_obs  k_obs  s_obs  \n",
       "12773                 100000.000000     68    100     24  \n",
       "16684                 100000.000000    178     64     14  \n",
       "5702                  100000.000000    122     40     69  \n",
       "16242                     40.793763     64      5      3  \n",
       "12832                     35.395456     29     37     18  \n",
       "968                       34.735647     44     20     12  \n",
       "7992                      27.582983     70      6      7  \n",
       "1007                      25.326888     57     23     28  \n",
       "12362                     23.549981     11     19      6  \n",
       "10878                     21.891360     99     23     33  \n",
       "5391                      21.392649     16      7      2  \n",
       "6797                      17.038236     25     10     14  \n",
       "16737                     16.965141    162      7     28  \n",
       "16696                     16.905186     30      9      6  \n",
       "10877                     16.796239     92     14     37  \n",
       "1173                      16.766523    257     16     56  \n",
       "3031                      16.496870     18      6      2  \n",
       "17076                     16.183301   3412    201   1127  \n",
       "8513                      16.144399    221     35    120  \n",
       "10706                     14.574744     43      0      2  "
      ]
     },
     "execution_count": 7,
     "metadata": {},
     "output_type": "execute_result"
    }
   ],
   "source": [
    "ordered_phipos_df.iloc[:20]"
   ]
  },
  {
   "cell_type": "markdown",
   "metadata": {},
   "source": [
    "Take only the genes with q_pos-values lower than 0.1"
   ]
  },
  {
   "cell_type": "code",
   "execution_count": 8,
   "metadata": {},
   "outputs": [],
   "source": [
    "q_phi_pos_bygene = []\n",
    "q_phi_pos = []\n",
    "for i in range(len(ordered_phipos_df)):\n",
    "    if ordered_phipos_df['q_phi_pos'].iloc[i] < 0.1:\n",
    "        q_phi_pos_bygene.append([ordered_phipos_df['gene'].iloc[i],ordered_phipos_df['q_phi_pos'].iloc[i]])\n",
    "        q_phi_pos.append(ordered_phipos_df['q_phi_pos'].iloc[i])"
   ]
  },
  {
   "cell_type": "code",
   "execution_count": 9,
   "metadata": {},
   "outputs": [
    {
     "data": {
      "text/plain": [
       "[['PTCH1', 0.0],\n",
       " ['TP53', 0.0],\n",
       " ['FAT1', 0.0],\n",
       " ['TLR9', 0.0],\n",
       " ['PTPN14', 0.0],\n",
       " ['ARHGAP35', 0.0],\n",
       " ['ITGB3', 0.0],\n",
       " ['ARID1A', 0.0],\n",
       " ['PPM1D', 0.0],\n",
       " ['NOTCH2', 0.0],\n",
       " ['FAM109A', 0.0],\n",
       " ['GPX6', 0.0],\n",
       " ['TPTE', 0.0],\n",
       " ['TP63', 0.0],\n",
       " ['NOTCH1', 0.0],\n",
       " ['ASXL3', 0.0],\n",
       " ['CDKN2A', 0.0],\n",
       " ['TTN', 0.0],\n",
       " ['KMT2D', 0.0],\n",
       " ['NFKBIE', 0.0]]"
      ]
     },
     "execution_count": 9,
     "metadata": {},
     "output_type": "execute_result"
    }
   ],
   "source": [
    "q_phi_pos_bygene[:20]"
   ]
  },
  {
   "cell_type": "code",
   "execution_count": 10,
   "metadata": {},
   "outputs": [
    {
     "data": {
      "image/png": "[encoded data removed]",
      "text/plain": [
       "<Figure size 640x480 with 1 Axes>"
      ]
     },
     "metadata": {},
     "output_type": "display_data"
    }
   ],
   "source": [
    "plt.hist(q_phi_pos, bins = 15)\n",
    "plt.title(r'Genes under positive selection $(q_{pos} < 0.1)$')\n",
    "plt.xlabel(r'$q_{pos}$', fontsize = 12)\n",
    "plt.ylabel('number of genes', fontsize = 12)\n",
    "y = np.arange(0,22, 4)\n",
    "plt.yticks(y)\n",
    "plt.savefig('q_graph_pos.png', dpi = 300)\n",
    "plt.show()"
   ]
  },
  {
   "cell_type": "code",
   "execution_count": 11,
   "metadata": {},
   "outputs": [
    {
     "data": {
      "text/plain": [
       "62"
      ]
     },
     "execution_count": 11,
     "metadata": {},
     "output_type": "execute_result"
    }
   ],
   "source": [
    "len(q_phi_pos)"
   ]
  },
  {
   "cell_type": "markdown",
   "metadata": {},
   "source": [
    "There are 62 genes with q_pos-values < 0.1 as calculated by CBaSE\n",
    "\n",
    "Need to check to see how many of these match with the known COSMIC cancer genes, then check if those that don't have been investigated by other studies"
   ]
  },
  {
   "cell_type": "markdown",
   "metadata": {},
   "source": [
    "Below are the first 20 genes in decreasing order of negative selection"
   ]
  },
  {
   "cell_type": "code",
   "execution_count": 12,
   "metadata": {},
   "outputs": [
    {
     "data": {
      "text/html": [
       "<div>\n",
       "<style scoped>\n",
       "    .dataframe tbody tr th:only-of-type {\n",
       "        vertical-align: middle;\n",
       "    }\n",
       "\n",
       "    .dataframe tbody tr th {\n",
       "        vertical-align: top;\n",
       "    }\n",
       "\n",
       "    .dataframe thead th {\n",
       "        text-align: right;\n",
       "    }\n",
       "</style>\n",
       "<table border=\"1\" class=\"dataframe\">\n",
       "  <thead>\n",
       "    <tr style=\"text-align: right;\">\n",
       "      <th></th>\n",
       "      <th>gene</th>\n",
       "      <th>p_phi_neg</th>\n",
       "      <th>q_phi_neg</th>\n",
       "      <th>phi_neg</th>\n",
       "      <th>p_phi_pos</th>\n",
       "      <th>q_phi_pos</th>\n",
       "      <th>phi_pos_or_p(m=0|s)*p(k=0|s)</th>\n",
       "      <th>m_obs</th>\n",
       "      <th>k_obs</th>\n",
       "      <th>s_obs</th>\n",
       "    </tr>\n",
       "  </thead>\n",
       "  <tbody>\n",
       "    <tr>\n",
       "      <th>16881</th>\n",
       "      <td>TRIO</td>\n",
       "      <td>0.000000</td>\n",
       "      <td>0.00000</td>\n",
       "      <td>19.481734</td>\n",
       "      <td>1.000000</td>\n",
       "      <td>1.0</td>\n",
       "      <td>0.008974</td>\n",
       "      <td>72</td>\n",
       "      <td>4</td>\n",
       "      <td>100</td>\n",
       "    </tr>\n",
       "    <tr>\n",
       "      <th>1539</th>\n",
       "      <td>BCL2L12</td>\n",
       "      <td>0.000000</td>\n",
       "      <td>0.00000</td>\n",
       "      <td>17.525294</td>\n",
       "      <td>1.000000</td>\n",
       "      <td>1.0</td>\n",
       "      <td>0.006872</td>\n",
       "      <td>27</td>\n",
       "      <td>2</td>\n",
       "      <td>45</td>\n",
       "    </tr>\n",
       "    <tr>\n",
       "      <th>15223</th>\n",
       "      <td>SPG7</td>\n",
       "      <td>0.000000</td>\n",
       "      <td>0.00000</td>\n",
       "      <td>17.412223</td>\n",
       "      <td>1.000000</td>\n",
       "      <td>1.0</td>\n",
       "      <td>0.000013</td>\n",
       "      <td>16</td>\n",
       "      <td>0</td>\n",
       "      <td>27</td>\n",
       "    </tr>\n",
       "    <tr>\n",
       "      <th>17742</th>\n",
       "      <td>WFS1</td>\n",
       "      <td>0.000000</td>\n",
       "      <td>0.00000</td>\n",
       "      <td>16.540224</td>\n",
       "      <td>1.000000</td>\n",
       "      <td>1.0</td>\n",
       "      <td>0.006783</td>\n",
       "      <td>34</td>\n",
       "      <td>1</td>\n",
       "      <td>75</td>\n",
       "    </tr>\n",
       "    <tr>\n",
       "      <th>18685</th>\n",
       "      <td>ZZEF1</td>\n",
       "      <td>0.000000</td>\n",
       "      <td>0.00000</td>\n",
       "      <td>15.837563</td>\n",
       "      <td>0.928862</td>\n",
       "      <td>1.0</td>\n",
       "      <td>0.076080</td>\n",
       "      <td>66</td>\n",
       "      <td>7</td>\n",
       "      <td>87</td>\n",
       "    </tr>\n",
       "    <tr>\n",
       "      <th>14803</th>\n",
       "      <td>SLC6A4</td>\n",
       "      <td>0.000000</td>\n",
       "      <td>0.00000</td>\n",
       "      <td>15.728986</td>\n",
       "      <td>1.000000</td>\n",
       "      <td>1.0</td>\n",
       "      <td>0.000006</td>\n",
       "      <td>10</td>\n",
       "      <td>0</td>\n",
       "      <td>33</td>\n",
       "    </tr>\n",
       "    <tr>\n",
       "      <th>7912</th>\n",
       "      <td>IQGAP3</td>\n",
       "      <td>0.000027</td>\n",
       "      <td>0.02027</td>\n",
       "      <td>14.785599</td>\n",
       "      <td>0.936243</td>\n",
       "      <td>1.0</td>\n",
       "      <td>0.044223</td>\n",
       "      <td>21</td>\n",
       "      <td>2</td>\n",
       "      <td>53</td>\n",
       "    </tr>\n",
       "    <tr>\n",
       "      <th>17098</th>\n",
       "      <td>TUBB3</td>\n",
       "      <td>0.000027</td>\n",
       "      <td>0.02027</td>\n",
       "      <td>14.530188</td>\n",
       "      <td>1.000000</td>\n",
       "      <td>1.0</td>\n",
       "      <td>0.003297</td>\n",
       "      <td>35</td>\n",
       "      <td>1</td>\n",
       "      <td>34</td>\n",
       "    </tr>\n",
       "    <tr>\n",
       "      <th>4632</th>\n",
       "      <td>DOCK1</td>\n",
       "      <td>0.000027</td>\n",
       "      <td>0.02027</td>\n",
       "      <td>14.398195</td>\n",
       "      <td>1.000000</td>\n",
       "      <td>1.0</td>\n",
       "      <td>0.000058</td>\n",
       "      <td>42</td>\n",
       "      <td>0</td>\n",
       "      <td>54</td>\n",
       "    </tr>\n",
       "    <tr>\n",
       "      <th>16637</th>\n",
       "      <td>TNRC6A</td>\n",
       "      <td>0.000027</td>\n",
       "      <td>0.02027</td>\n",
       "      <td>14.066786</td>\n",
       "      <td>1.000000</td>\n",
       "      <td>1.0</td>\n",
       "      <td>0.006695</td>\n",
       "      <td>53</td>\n",
       "      <td>0</td>\n",
       "      <td>30</td>\n",
       "    </tr>\n",
       "    <tr>\n",
       "      <th>8471</th>\n",
       "      <td>KLHL36</td>\n",
       "      <td>0.000027</td>\n",
       "      <td>0.02027</td>\n",
       "      <td>13.906454</td>\n",
       "      <td>1.000000</td>\n",
       "      <td>1.0</td>\n",
       "      <td>0.000007</td>\n",
       "      <td>12</td>\n",
       "      <td>0</td>\n",
       "      <td>32</td>\n",
       "    </tr>\n",
       "    <tr>\n",
       "      <th>1609</th>\n",
       "      <td>BIRC6</td>\n",
       "      <td>0.000027</td>\n",
       "      <td>0.02027</td>\n",
       "      <td>13.733699</td>\n",
       "      <td>1.000000</td>\n",
       "      <td>1.0</td>\n",
       "      <td>0.003433</td>\n",
       "      <td>81</td>\n",
       "      <td>3</td>\n",
       "      <td>59</td>\n",
       "    </tr>\n",
       "    <tr>\n",
       "      <th>18280</th>\n",
       "      <td>ZNF385B</td>\n",
       "      <td>0.000027</td>\n",
       "      <td>0.02027</td>\n",
       "      <td>13.469970</td>\n",
       "      <td>1.000000</td>\n",
       "      <td>1.0</td>\n",
       "      <td>0.000016</td>\n",
       "      <td>25</td>\n",
       "      <td>0</td>\n",
       "      <td>35</td>\n",
       "    </tr>\n",
       "    <tr>\n",
       "      <th>4463</th>\n",
       "      <td>DIP2C</td>\n",
       "      <td>0.000027</td>\n",
       "      <td>0.02027</td>\n",
       "      <td>13.258021</td>\n",
       "      <td>1.000000</td>\n",
       "      <td>1.0</td>\n",
       "      <td>0.013762</td>\n",
       "      <td>46</td>\n",
       "      <td>5</td>\n",
       "      <td>51</td>\n",
       "    </tr>\n",
       "    <tr>\n",
       "      <th>9862</th>\n",
       "      <td>MIP</td>\n",
       "      <td>0.000027</td>\n",
       "      <td>0.02027</td>\n",
       "      <td>12.845528</td>\n",
       "      <td>1.000000</td>\n",
       "      <td>1.0</td>\n",
       "      <td>0.011448</td>\n",
       "      <td>19</td>\n",
       "      <td>1</td>\n",
       "      <td>23</td>\n",
       "    </tr>\n",
       "    <tr>\n",
       "      <th>1430</th>\n",
       "      <td>BAD</td>\n",
       "      <td>0.000027</td>\n",
       "      <td>0.02027</td>\n",
       "      <td>12.831738</td>\n",
       "      <td>1.000000</td>\n",
       "      <td>1.0</td>\n",
       "      <td>0.005330</td>\n",
       "      <td>34</td>\n",
       "      <td>1</td>\n",
       "      <td>41</td>\n",
       "    </tr>\n",
       "    <tr>\n",
       "      <th>18589</th>\n",
       "      <td>ZNF823</td>\n",
       "      <td>0.000027</td>\n",
       "      <td>0.02027</td>\n",
       "      <td>12.766261</td>\n",
       "      <td>0.936243</td>\n",
       "      <td>1.0</td>\n",
       "      <td>0.042085</td>\n",
       "      <td>12</td>\n",
       "      <td>2</td>\n",
       "      <td>22</td>\n",
       "    </tr>\n",
       "    <tr>\n",
       "      <th>16118</th>\n",
       "      <td>THAP10</td>\n",
       "      <td>0.000027</td>\n",
       "      <td>0.02027</td>\n",
       "      <td>12.727374</td>\n",
       "      <td>1.000000</td>\n",
       "      <td>1.0</td>\n",
       "      <td>0.000001</td>\n",
       "      <td>1</td>\n",
       "      <td>0</td>\n",
       "      <td>12</td>\n",
       "    </tr>\n",
       "    <tr>\n",
       "      <th>7113</th>\n",
       "      <td>HELZ2</td>\n",
       "      <td>0.000027</td>\n",
       "      <td>0.02027</td>\n",
       "      <td>12.726551</td>\n",
       "      <td>1.000000</td>\n",
       "      <td>1.0</td>\n",
       "      <td>0.001138</td>\n",
       "      <td>105</td>\n",
       "      <td>1</td>\n",
       "      <td>118</td>\n",
       "    </tr>\n",
       "    <tr>\n",
       "      <th>9985</th>\n",
       "      <td>MORF4L1</td>\n",
       "      <td>0.000027</td>\n",
       "      <td>0.02027</td>\n",
       "      <td>12.719691</td>\n",
       "      <td>1.000000</td>\n",
       "      <td>1.0</td>\n",
       "      <td>0.000003</td>\n",
       "      <td>0</td>\n",
       "      <td>0</td>\n",
       "      <td>9</td>\n",
       "    </tr>\n",
       "  </tbody>\n",
       "</table>\n",
       "</div>"
      ],
      "text/plain": [
       "          gene  p_phi_neg  q_phi_neg    phi_neg  p_phi_pos  q_phi_pos  \\\n",
       "16881     TRIO   0.000000    0.00000  19.481734   1.000000        1.0   \n",
       "1539   BCL2L12   0.000000    0.00000  17.525294   1.000000        1.0   \n",
       "15223     SPG7   0.000000    0.00000  17.412223   1.000000        1.0   \n",
       "17742     WFS1   0.000000    0.00000  16.540224   1.000000        1.0   \n",
       "18685    ZZEF1   0.000000    0.00000  15.837563   0.928862        1.0   \n",
       "14803   SLC6A4   0.000000    0.00000  15.728986   1.000000        1.0   \n",
       "7912    IQGAP3   0.000027    0.02027  14.785599   0.936243        1.0   \n",
       "17098    TUBB3   0.000027    0.02027  14.530188   1.000000        1.0   \n",
       "4632     DOCK1   0.000027    0.02027  14.398195   1.000000        1.0   \n",
       "16637   TNRC6A   0.000027    0.02027  14.066786   1.000000        1.0   \n",
       "8471    KLHL36   0.000027    0.02027  13.906454   1.000000        1.0   \n",
       "1609     BIRC6   0.000027    0.02027  13.733699   1.000000        1.0   \n",
       "18280  ZNF385B   0.000027    0.02027  13.469970   1.000000        1.0   \n",
       "4463     DIP2C   0.000027    0.02027  13.258021   1.000000        1.0   \n",
       "9862       MIP   0.000027    0.02027  12.845528   1.000000        1.0   \n",
       "1430       BAD   0.000027    0.02027  12.831738   1.000000        1.0   \n",
       "18589   ZNF823   0.000027    0.02027  12.766261   0.936243        1.0   \n",
       "16118   THAP10   0.000027    0.02027  12.727374   1.000000        1.0   \n",
       "7113     HELZ2   0.000027    0.02027  12.726551   1.000000        1.0   \n",
       "9985   MORF4L1   0.000027    0.02027  12.719691   1.000000        1.0   \n",
       "\n",
       "       phi_pos_or_p(m=0|s)*p(k=0|s)  m_obs  k_obs  s_obs  \n",
       "16881                      0.008974     72      4    100  \n",
       "1539                       0.006872     27      2     45  \n",
       "15223                      0.000013     16      0     27  \n",
       "17742                      0.006783     34      1     75  \n",
       "18685                      0.076080     66      7     87  \n",
       "14803                      0.000006     10      0     33  \n",
       "7912                       0.044223     21      2     53  \n",
       "17098                      0.003297     35      1     34  \n",
       "4632                       0.000058     42      0     54  \n",
       "16637                      0.006695     53      0     30  \n",
       "8471                       0.000007     12      0     32  \n",
       "1609                       0.003433     81      3     59  \n",
       "18280                      0.000016     25      0     35  \n",
       "4463                       0.013762     46      5     51  \n",
       "9862                       0.011448     19      1     23  \n",
       "1430                       0.005330     34      1     41  \n",
       "18589                      0.042085     12      2     22  \n",
       "16118                      0.000001      1      0     12  \n",
       "7113                       0.001138    105      1    118  \n",
       "9985                       0.000003      0      0      9  "
      ]
     },
     "execution_count": 12,
     "metadata": {},
     "output_type": "execute_result"
    }
   ],
   "source": [
    "ordered_phineg_df.iloc[:20]"
   ]
  },
  {
   "cell_type": "markdown",
   "metadata": {},
   "source": [
    "Take only the genes with q-neg values lower than 0.1"
   ]
  },
  {
   "cell_type": "code",
   "execution_count": 13,
   "metadata": {},
   "outputs": [],
   "source": [
    "q_phi_neg_bygene = []\n",
    "q_phi_neg = []\n",
    "for i in range(len(ordered_phineg_df)):\n",
    "    if ordered_phineg_df['q_phi_neg'].iloc[i] < 0.1:\n",
    "        q_phi_neg_bygene.append([ordered_phineg_df['gene'].iloc[i], ordered_phineg_df['q_phi_neg'].iloc[i]])\n",
    "        q_phi_neg.append(ordered_phineg_df['q_phi_neg'].iloc[i])"
   ]
  },
  {
   "cell_type": "code",
   "execution_count": 14,
   "metadata": {},
   "outputs": [
    {
     "data": {
      "text/plain": [
       "[['TRIO', 0.0],\n",
       " ['BCL2L12', 0.0],\n",
       " ['SPG7', 0.0],\n",
       " ['WFS1', 0.0],\n",
       " ['ZZEF1', 0.0],\n",
       " ['SLC6A4', 0.0],\n",
       " ['IQGAP3', 0.02027027],\n",
       " ['TUBB3', 0.02027027],\n",
       " ['DOCK1', 0.02027027],\n",
       " ['TNRC6A', 0.02027027],\n",
       " ['KLHL36', 0.02027027],\n",
       " ['BIRC6', 0.02027027],\n",
       " ['ZNF385B', 0.02027027],\n",
       " ['DIP2C', 0.02027027],\n",
       " ['MIP', 0.02027027],\n",
       " ['BAD', 0.02027027],\n",
       " ['ZNF823', 0.02027027],\n",
       " ['THAP10', 0.02027027],\n",
       " ['HELZ2', 0.02027027],\n",
       " ['MORF4L1', 0.02027027]]"
      ]
     },
     "execution_count": 14,
     "metadata": {},
     "output_type": "execute_result"
    }
   ],
   "source": [
    "q_phi_neg_bygene[:20]"
   ]
  },
  {
   "cell_type": "code",
   "execution_count": 15,
   "metadata": {},
   "outputs": [
    {
     "data": {
      "image/png": "[encoded data removed]",
      "text/plain": [
       "<Figure size 640x480 with 1 Axes>"
      ]
     },
     "metadata": {},
     "output_type": "display_data"
    }
   ],
   "source": [
    "plt.hist(q_phi_neg, bins = 20)\n",
    "plt.title(r'Genes under negative selection $(q_{neg} < 0.1)$')\n",
    "plt.xlabel(r'$q_{neg}$', fontsize = 12)\n",
    "plt.ylabel('number of genes', fontsize = 12)\n",
    "y = np.arange(0,100, 20)\n",
    "plt.yticks(y)\n",
    "plt.savefig('q_graph_neg.png', dpi = 300)\n",
    "plt.show()"
   ]
  },
  {
   "cell_type": "code",
   "execution_count": 16,
   "metadata": {},
   "outputs": [
    {
     "data": {
      "text/plain": [
       "691"
      ]
     },
     "execution_count": 16,
     "metadata": {},
     "output_type": "execute_result"
    }
   ],
   "source": [
    "len(q_phi_neg)"
   ]
  },
  {
   "cell_type": "markdown",
   "metadata": {},
   "source": [
    "Can see from the histogram that there are far more genes with q-neg < 0.1 than there are genes with q-pos < 0.1\n",
    "\n",
    "Must count how many genes with q-pos < 0.1 and q-neg < 0.1 are in the COSMIC known cancer gene list and WANG cell essential gene list\n",
    "\n",
    "If there are many genes with q-neg/q-pos < 0.1 in those lists, then CBaSE has done a good job of detecting known cancer and cell essential genes.\n",
    "\n",
    "Then see how many of those genes are leftover and search previous studies to see if they confirm the new genes found as cancer genes"
   ]
  },
  {
   "cell_type": "code",
   "execution_count": 17,
   "metadata": {},
   "outputs": [],
   "source": [
    "cell_essG = pd.read_csv('Auxiliary/Wang_cell_essential_genes.txt', header=None)\n",
    "known_cancer_genes = pd.read_csv('Auxiliary/COSMIC_genes_v80.txt', header=None)\n",
    "cellEG = []\n",
    "for i in range(len(cell_essG[0])):\n",
    "    cellEG.append(cell_essG[0][i])\n",
    "known_CG = []\n",
    "for i in range(len(known_cancer_genes[0])):\n",
    "    known_CG.append(known_cancer_genes[0][i])"
   ]
  },
  {
   "cell_type": "code",
   "execution_count": 18,
   "metadata": {},
   "outputs": [
    {
     "data": {
      "text/plain": [
       "['ANAPC4',\n",
       " 'BCR',\n",
       " 'C21orf59',\n",
       " 'CCT7',\n",
       " 'CDC40',\n",
       " 'CDK1',\n",
       " 'CINP',\n",
       " 'COPS3',\n",
       " 'DDOST',\n",
       " 'DDX27']"
      ]
     },
     "execution_count": 18,
     "metadata": {},
     "output_type": "execute_result"
    }
   ],
   "source": [
    "cellEG[:10]"
   ]
  },
  {
   "cell_type": "code",
   "execution_count": 19,
   "metadata": {},
   "outputs": [
    {
     "data": {
      "text/plain": [
       "['ABI1', 'ABL1', 'ABL2', 'ACKR3', 'ACSL3']"
      ]
     },
     "execution_count": 19,
     "metadata": {},
     "output_type": "execute_result"
    }
   ],
   "source": [
    "known_CG[:5]"
   ]
  },
  {
   "cell_type": "markdown",
   "metadata": {},
   "source": [
    "Check if the genes from q_phi_pos_bygene are in the COSMIC human cancer gene list:\n",
    "\n",
    "If the gene is in the list, it is appended to matched_CG\n",
    "\n",
    "If the gene is not in the list, it is appended to new_CG"
   ]
  },
  {
   "cell_type": "code",
   "execution_count": 20,
   "metadata": {},
   "outputs": [],
   "source": [
    "matched_CG = []\n",
    "new_CG = []\n",
    "for i in range(len(q_phi_pos_bygene)):\n",
    "    for j in range(len(known_CG)):\n",
    "        if q_phi_pos_bygene[i][0] == known_CG[j]:\n",
    "            matched_CG.append(q_phi_pos_bygene[i])\n",
    "            break\n",
    "        if j == (len(known_CG)-1):\n",
    "            new_CG.append(q_phi_pos_bygene[i])"
   ]
  },
  {
   "cell_type": "code",
   "execution_count": 21,
   "metadata": {},
   "outputs": [
    {
     "data": {
      "text/plain": [
       "14"
      ]
     },
     "execution_count": 21,
     "metadata": {},
     "output_type": "execute_result"
    }
   ],
   "source": [
    "len(matched_CG)"
   ]
  },
  {
   "cell_type": "code",
   "execution_count": 22,
   "metadata": {},
   "outputs": [
    {
     "data": {
      "text/plain": [
       "[['PTCH1', 0.0],\n",
       " ['TP53', 0.0],\n",
       " ['FAT1', 0.0],\n",
       " ['ARID1A', 0.0],\n",
       " ['PPM1D', 0.0],\n",
       " ['NOTCH2', 0.0],\n",
       " ['TP63', 0.0],\n",
       " ['NOTCH1', 0.0],\n",
       " ['CDKN2A', 0.0],\n",
       " ['KMT2D', 0.0],\n",
       " ['NFKBIE', 0.0],\n",
       " ['RANBP17', 0.0375],\n",
       " ['CREBBP', 0.06363636],\n",
       " ['GNAS', 0.08870968]]"
      ]
     },
     "execution_count": 22,
     "metadata": {},
     "output_type": "execute_result"
    }
   ],
   "source": [
    "matched_CG"
   ]
  },
  {
   "cell_type": "markdown",
   "metadata": {},
   "source": [
    "14/62 of the genes with q-pos < 0.1, as calculated by CBaSE, are already associated with cancer by previous studies.\n",
    "\n",
    "Of these 14 genes, 11 of them have q-values of 0\n",
    "\n",
    "This means CBaSE has most likely detected the correct cancer genes in the BCC data set."
   ]
  },
  {
   "cell_type": "code",
   "execution_count": 23,
   "metadata": {},
   "outputs": [
    {
     "data": {
      "text/plain": [
       "48"
      ]
     },
     "execution_count": 23,
     "metadata": {},
     "output_type": "execute_result"
    }
   ],
   "source": [
    "len(new_CG)"
   ]
  },
  {
   "cell_type": "code",
   "execution_count": 24,
   "metadata": {},
   "outputs": [
    {
     "data": {
      "text/plain": [
       "[['TLR9', 0.0],\n",
       " ['PTPN14', 0.0],\n",
       " ['ARHGAP35', 0.0],\n",
       " ['ITGB3', 0.0],\n",
       " ['FAM109A', 0.0],\n",
       " ['GPX6', 0.0],\n",
       " ['TPTE', 0.0],\n",
       " ['ASXL3', 0.0],\n",
       " ['TTN', 0.0],\n",
       " ['PTGER3', 0.0],\n",
       " ['SGSH', 0.01923077],\n",
       " ['CARD8', 0.01923077],\n",
       " ['SLC5A11', 0.01923077],\n",
       " ['ABCC12', 0.01923077],\n",
       " ['MIIP', 0.01923077],\n",
       " ['ASXL2', 0.03030303],\n",
       " ['SCG3', 0.03030303],\n",
       " ['USP29', 0.03030303],\n",
       " ['A2M', 0.03030303],\n",
       " ['MUC19', 0.03030303],\n",
       " ['TMEM35', 0.03030303],\n",
       " ['GRIA4', 0.03030303],\n",
       " ['TMEM222', 0.0375],\n",
       " ['SEMA3E', 0.0375],\n",
       " ['VNN3', 0.0375],\n",
       " ['AGTRAP', 0.0375],\n",
       " ['USP44', 0.0375],\n",
       " ['PON1', 0.0375],\n",
       " ['GNAL', 0.04878049],\n",
       " ['EYS', 0.05681818],\n",
       " ['TOR1AIP1', 0.05681818],\n",
       " ['BIVM-ERCC5', 0.05681818],\n",
       " ['APOA1', 0.06363636],\n",
       " ['TMEM239', 0.06363636],\n",
       " ['DGKI', 0.06363636],\n",
       " ['GPX3', 0.06363636],\n",
       " ['IAPP', 0.06363636],\n",
       " ['LOXL4', 0.06363636],\n",
       " ['CAPN11', 0.06363636],\n",
       " ['CCDC102B', 0.06363636],\n",
       " ['GABRR2', 0.06363636],\n",
       " ['LRRN3', 0.06363636],\n",
       " ['SLC25A41', 0.07142857],\n",
       " ['CHD3', 0.07894737],\n",
       " ['PCDHB4', 0.08474576],\n",
       " ['UBFD1', 0.08474576],\n",
       " ['ARHGAP10', 0.08870968],\n",
       " ['C2orf70', 0.08870968]]"
      ]
     },
     "execution_count": 24,
     "metadata": {},
     "output_type": "execute_result"
    }
   ],
   "source": [
    "new_CG"
   ]
  },
  {
   "cell_type": "markdown",
   "metadata": {},
   "source": [
    "48/48 of the genes with q-pos < 0.1, as calculated by CBaSE, are not in the COSMIC known cancer gene list.\n",
    "\n",
    "Of these 48 genes, 10 of them have q-pos values of 0.\n",
    "\n",
    "These genes must be checked against previous cancer stydies to see if they are already associated withh cancer. If not, further studies should be done to investigate the mechanisms which could associate cancer with these genes."
   ]
  },
  {
   "cell_type": "code",
   "execution_count": 25,
   "metadata": {},
   "outputs": [],
   "source": [
    "matched_EG = []\n",
    "new_EG = []\n",
    "for i in range(len(q_phi_neg_bygene)):\n",
    "    for j in range(len(cellEG)):\n",
    "        if q_phi_neg_bygene[i][0] == cellEG[j]:\n",
    "            matched_EG.append(q_phi_neg_bygene[i])\n",
    "            break\n",
    "        if j == (len(cellEG)-1):\n",
    "            new_EG.append(q_phi_neg_bygene[i])"
   ]
  },
  {
   "cell_type": "code",
   "execution_count": 26,
   "metadata": {},
   "outputs": [
    {
     "data": {
      "text/plain": [
       "[['BCR', 0.03]]"
      ]
     },
     "execution_count": 26,
     "metadata": {},
     "output_type": "execute_result"
    }
   ],
   "source": [
    "matched_EG"
   ]
  },
  {
   "cell_type": "code",
   "execution_count": 27,
   "metadata": {},
   "outputs": [
    {
     "data": {
      "text/plain": [
       "[['TRIO', 0.0],\n",
       " ['BCL2L12', 0.0],\n",
       " ['SPG7', 0.0],\n",
       " ['WFS1', 0.0],\n",
       " ['ZZEF1', 0.0],\n",
       " ['SLC6A4', 0.0],\n",
       " ['IQGAP3', 0.02027027],\n",
       " ['TUBB3', 0.02027027],\n",
       " ['DOCK1', 0.02027027],\n",
       " ['TNRC6A', 0.02027027]]"
      ]
     },
     "execution_count": 27,
     "metadata": {},
     "output_type": "execute_result"
    }
   ],
   "source": [
    "new_EG[:10]"
   ]
  },
  {
   "cell_type": "code",
   "execution_count": 28,
   "metadata": {},
   "outputs": [
    {
     "data": {
      "text/plain": [
       "77"
      ]
     },
     "execution_count": 28,
     "metadata": {},
     "output_type": "execute_result"
    }
   ],
   "source": [
    "len(cellEG)"
   ]
  },
  {
   "cell_type": "code",
   "execution_count": 29,
   "metadata": {},
   "outputs": [
    {
     "data": {
      "text/plain": [
       "690"
      ]
     },
     "execution_count": 29,
     "metadata": {},
     "output_type": "execute_result"
    }
   ],
   "source": [
    "len(new_EG)"
   ]
  },
  {
   "cell_type": "markdown",
   "metadata": {},
   "source": [
    "Can see from this: only one of the genes in output of CBaSE with q-neg < 0.1 is in the WANG cell essential gene list. This is strange... could be explained by the fact that most cell essential genes are haplosufficient (i.e. can be same phenotype even if one allele is mutated)\n",
    "\n",
    "When looking up the genes at the top of the q_neg_bygene list on the GeneCards website, find that most of these are associated with cancer and/or apoptosis.\n",
    "\n",
    "This clearly indicates that CBaSE has worked well in identifying genes whose 'wild-type' coding sequences allow tumour growth.\n",
    "\n",
    "Where in the list are the WANG cell essential genes? Atttempt to find below!"
   ]
  },
  {
   "cell_type": "code",
   "execution_count": 30,
   "metadata": {},
   "outputs": [],
   "source": [
    "q_phi_neg_bygene2 = []\n",
    "q_phi_neg2 = []\n",
    "for i in range(len(ordered_phineg_df)):\n",
    "    if ordered_phineg_df['q_phi_neg'].iloc[i] < 0.6:\n",
    "        q_phi_neg_bygene2.append([ordered_phineg_df['gene'].iloc[i], ordered_phineg_df['q_phi_neg'].iloc[i]])\n",
    "        q_phi_neg2.append(ordered_phineg_df['q_phi_neg'].iloc[i])"
   ]
  },
  {
   "cell_type": "code",
   "execution_count": 31,
   "metadata": {},
   "outputs": [],
   "source": [
    "matched_EG2 = []\n",
    "new_EG2 = []\n",
    "for i in range(len(q_phi_neg_bygene2)):\n",
    "    for j in range(len(cellEG)):\n",
    "        if q_phi_neg_bygene2[i][0] == cellEG[j]:\n",
    "            matched_EG2.append(q_phi_neg_bygene2[i])\n",
    "            break\n",
    "        if j == (len(cellEG)-1):\n",
    "            new_EG2.append(q_phi_neg_bygene2[i])"
   ]
  },
  {
   "cell_type": "code",
   "execution_count": 32,
   "metadata": {},
   "outputs": [
    {
     "data": {
      "text/plain": [
       "[['BCR', 0.03],\n",
       " ['SON', 0.1711747],\n",
       " ['RPL6', 0.1788055],\n",
       " ['WDR43', 0.1895492],\n",
       " ['POLR1A', 0.2007552],\n",
       " ['RPL7A', 0.2074954],\n",
       " ['DYNC1H1', 0.2301255],\n",
       " ['CDC40', 0.2396245],\n",
       " ['HCFC1', 0.2603884],\n",
       " ['RPL27A', 0.2652057],\n",
       " ['RPL9', 0.2682765],\n",
       " ['MPHOSPH10', 0.2774235],\n",
       " ['RPS15A', 0.2774235],\n",
       " ['EIF3D', 0.286558],\n",
       " ['STAT5B', 0.2882992],\n",
       " ['CINP', 0.3433524],\n",
       " ['DDOST', 0.3520674],\n",
       " ['SRSF7', 0.3554345],\n",
       " ['SNRNP27', 0.3769448],\n",
       " ['RPS7', 0.3871276],\n",
       " ['DDX27', 0.4403219],\n",
       " ['RPL32', 0.443648],\n",
       " ['GLTSCR2', 0.4641447],\n",
       " ['SAP30BP', 0.4678645],\n",
       " ['RSL24D1', 0.505618],\n",
       " ['CDK1', 0.5184659],\n",
       " ['PES1', 0.5288277],\n",
       " ['GON4L', 0.5336373],\n",
       " ['MIS12', 0.5389257],\n",
       " ['EEF1A1', 0.5462978],\n",
       " ['NR2C2AP', 0.5544426],\n",
       " ['RPS3A', 0.5575695],\n",
       " ['UTP15', 0.5700416]]"
      ]
     },
     "execution_count": 32,
     "metadata": {},
     "output_type": "execute_result"
    }
   ],
   "source": [
    "matched_EG2"
   ]
  },
  {
   "cell_type": "code",
   "execution_count": 33,
   "metadata": {},
   "outputs": [
    {
     "data": {
      "text/plain": [
       "33"
      ]
     },
     "execution_count": 33,
     "metadata": {},
     "output_type": "execute_result"
    }
   ],
   "source": [
    "len(matched_EG2)"
   ]
  },
  {
   "cell_type": "markdown",
   "metadata": {},
   "source": [
    "By increasing the search of Wang cell-essential genes to those with q-neg < 0.6, we then find that there are 34 matches. The first match is of course 'BCR' which was found when q-neg < 0.1 but the rest have q-values ranging from 0.17 to 0.59"
   ]
  },
  {
   "cell_type": "markdown",
   "metadata": {},
   "source": [
    "Attempt to plot a histogram with phi values for the genes with lowest q-pos values"
   ]
  },
  {
   "cell_type": "code",
   "execution_count": 34,
   "metadata": {},
   "outputs": [],
   "source": [
    "phi_pos_bygene = []\n",
    "phi_pos = []\n",
    "for i in range(len(ordered_phipos_df)):\n",
    "    if ordered_phipos_df['q_phi_pos'].iloc[i] < 0.1:\n",
    "        phi_pos_bygene.append([ordered_phipos_df['gene'].iloc[i],ordered_phipos_df['phi_pos_or_p(m=0|s)*p(k=0|s)'].iloc[i]])\n",
    "        phi_pos.append(ordered_phipos_df['phi_pos_or_p(m=0|s)*p(k=0|s)'].iloc[i])"
   ]
  },
  {
   "cell_type": "code",
   "execution_count": 35,
   "metadata": {},
   "outputs": [
    {
     "data": {
      "text/plain": [
       "[['PTCH1', 100000.0],\n",
       " ['TP53', 100000.0],\n",
       " ['FAT1', 100000.0],\n",
       " ['TLR9', 40.793763],\n",
       " ['PTPN14', 35.395456],\n",
       " ['ARHGAP35', 34.735647],\n",
       " ['ITGB3', 27.582983],\n",
       " ['ARID1A', 25.326888],\n",
       " ['PPM1D', 23.549981],\n",
       " ['NOTCH2', 21.89136],\n",
       " ['FAM109A', 21.392649],\n",
       " ['GPX6', 17.038236],\n",
       " ['TPTE', 16.965141],\n",
       " ['TP63', 16.905186],\n",
       " ['NOTCH1', 16.796239],\n",
       " ['ASXL3', 16.766523],\n",
       " ['CDKN2A', 16.49687],\n",
       " ['TTN', 16.183301],\n",
       " ['KMT2D', 16.144399],\n",
       " ['NFKBIE', 14.574744]]"
      ]
     },
     "execution_count": 35,
     "metadata": {},
     "output_type": "execute_result"
    }
   ],
   "source": [
    "phi_pos_bygene[:20]"
   ]
  },
  {
   "cell_type": "code",
   "execution_count": 36,
   "metadata": {},
   "outputs": [
    {
     "data": {
      "image/png": "[encoded data removed]",
      "text/plain": [
       "<Figure size 640x480 with 1 Axes>"
      ]
     },
     "metadata": {},
     "output_type": "display_data"
    }
   ],
   "source": [
    "plt.hist(np.log10(phi_pos), bins = 30)\n",
    "plt.title(r'Genes under positive selection $(q_{pos} < 0.1)$')\n",
    "plt.xlabel(r'$\\log_{10}$($\\phi_{pos}$)', fontsize = 12)\n",
    "plt.ylabel('number of genes', fontsize = 12)\n",
    "y = np.arange(0,25, 4)\n",
    "plt.yticks(y)\n",
    "plt.savefig('phi_graph_pos.png', dpi = 300)\n",
    "plt.show()"
   ]
  },
  {
   "cell_type": "markdown",
   "metadata": {},
   "source": [
    "Now to plot a histogram of phi-neg values for the genes under negative selection"
   ]
  },
  {
   "cell_type": "code",
   "execution_count": 37,
   "metadata": {},
   "outputs": [],
   "source": [
    "phi_neg_bygene = []\n",
    "phi_neg = []\n",
    "for i in range(len(ordered_phineg_df)):\n",
    "    if ordered_phineg_df['q_phi_neg'].iloc[i] < 0.1:\n",
    "        phi_neg_bygene.append([ordered_phineg_df['gene'].iloc[i], ordered_phineg_df['phi_neg'].iloc[i]])\n",
    "        phi_neg.append(ordered_phineg_df['phi_neg'].iloc[i])"
   ]
  },
  {
   "cell_type": "code",
   "execution_count": 38,
   "metadata": {},
   "outputs": [
    {
     "data": {
      "text/plain": [
       "[['TRIO', 19.481734],\n",
       " ['BCL2L12', 17.525294],\n",
       " ['SPG7', 17.412223],\n",
       " ['WFS1', 16.540224],\n",
       " ['ZZEF1', 15.837563],\n",
       " ['SLC6A4', 15.728986],\n",
       " ['IQGAP3', 14.785599],\n",
       " ['TUBB3', 14.530188],\n",
       " ['DOCK1', 14.398195],\n",
       " ['TNRC6A', 14.066786],\n",
       " ['KLHL36', 13.906454],\n",
       " ['BIRC6', 13.733699],\n",
       " ['ZNF385B', 13.46997],\n",
       " ['DIP2C', 13.258021],\n",
       " ['MIP', 12.845528],\n",
       " ['BAD', 12.831738],\n",
       " ['ZNF823', 12.766261],\n",
       " ['THAP10', 12.727374],\n",
       " ['HELZ2', 12.726551],\n",
       " ['MORF4L1', 12.719691]]"
      ]
     },
     "execution_count": 38,
     "metadata": {},
     "output_type": "execute_result"
    }
   ],
   "source": [
    "phi_neg_bygene[:20]"
   ]
  },
  {
   "cell_type": "code",
   "execution_count": 39,
   "metadata": {},
   "outputs": [
    {
     "data": {
      "image/png": "[encoded data removed]",
      "text/plain": [
       "<Figure size 640x480 with 1 Axes>"
      ]
     },
     "metadata": {},
     "output_type": "display_data"
    }
   ],
   "source": [
    "plt.hist(np.log10(phi_neg), bins = 25)\n",
    "plt.title(r'Genes under negative selection ($q_{neg} < 0.1$)')\n",
    "plt.xlabel(r'$\\log_{10}$($\\phi_{neg}$)', fontsize = 12)\n",
    "plt.ylabel('number of genes', fontsize = 12)\n",
    "#y = np.arange(0,28, 4)\n",
    "#plt.yticks(y)\n",
    "plt.savefig('phi_graph_neg.png', dpi = 300)\n",
    "plt.show()"
   ]
  },
  {
   "cell_type": "markdown",
   "metadata": {},
   "source": [
    "Can now see that despite the fact that there are far more genes with q-neg < 0.1 than there are genes with q-pos < 0.1, the genes with q-pos < 0.1 have larger values of phi and are thus more strongly selected\n",
    "\n",
    "This shows that the results are more or less as expected"
   ]
  },
  {
   "cell_type": "code",
   "execution_count": null,
   "metadata": {},
   "outputs": [],
   "source": []
  }
 ],
 "metadata": {
  "kernelspec": {
   "display_name": "Python 3 (ipykernel)",
   "language": "python",
   "name": "python3"
  },
  "language_info": {
   "codemirror_mode": {
    "name": "ipython",
    "version": 3
   },
   "file_extension": ".py",
   "mimetype": "text/x-python",
   "name": "python",
   "nbconvert_exporter": "python",
   "pygments_lexer": "ipython3",
   "version": "3.10.12"
  }
 },
 "nbformat": 4,
 "nbformat_minor": 4
}
