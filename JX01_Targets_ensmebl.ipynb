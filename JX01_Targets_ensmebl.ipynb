{
 "cells": [
  {
   "cell_type": "code",
   "execution_count": 1,
   "metadata": {},
   "outputs": [],
   "source": [
    "import pandas as pd"
   ]
  },
  {
   "cell_type": "code",
   "execution_count": 2,
   "metadata": {},
   "outputs": [],
   "source": [
    "ens = pd.read_csv(\"ensemble5.txt\", sep=\"\\t\", header = None, \n",
    "                  names=[\"ensGene_name\",\"ensGene_name2\",\"ccdsInfo_ccds\",\"ensGtp_gene\",\n",
    "                         \"ensGtp_transcript\",\"ensGtp_protein\",\"ensemblSource_name\",\n",
    "                         \"ensemblSource_source\",\"ensemblToGeneName_name\",\"ensemblToGeneName_value\"],\n",
    "                 dtype = str, keep_default_na = False)"
   ]
  },
  {
   "cell_type": "code",
   "execution_count": 3,
   "metadata": {},
   "outputs": [
    {
     "data": {
      "text/html": [
       "<div>\n",
       "<style scoped>\n",
       "    .dataframe tbody tr th:only-of-type {\n",
       "        vertical-align: middle;\n",
       "    }\n",
       "\n",
       "    .dataframe tbody tr th {\n",
       "        vertical-align: top;\n",
       "    }\n",
       "\n",
       "    .dataframe thead th {\n",
       "        text-align: right;\n",
       "    }\n",
       "</style>\n",
       "<table border=\"1\" class=\"dataframe\">\n",
       "  <thead>\n",
       "    <tr style=\"text-align: right;\">\n",
       "      <th></th>\n",
       "      <th>ensGene_name</th>\n",
       "      <th>ensGene_name2</th>\n",
       "      <th>ccdsInfo_ccds</th>\n",
       "      <th>ensGtp_gene</th>\n",
       "      <th>ensGtp_transcript</th>\n",
       "      <th>ensGtp_protein</th>\n",
       "      <th>ensemblSource_name</th>\n",
       "      <th>ensemblSource_source</th>\n",
       "      <th>ensemblToGeneName_name</th>\n",
       "      <th>ensemblToGeneName_value</th>\n",
       "    </tr>\n",
       "  </thead>\n",
       "  <tbody>\n",
       "    <tr>\n",
       "      <th>0</th>\n",
       "      <td>ENST00000237247</td>\n",
       "      <td>ENSG00000118473</td>\n",
       "      <td>n/a</td>\n",
       "      <td>ENSG00000118473</td>\n",
       "      <td>ENST00000237247</td>\n",
       "      <td>ENSP00000237247</td>\n",
       "      <td>ENST00000237247</td>\n",
       "      <td>protein_coding</td>\n",
       "      <td>ENST00000237247</td>\n",
       "      <td>SGIP1</td>\n",
       "    </tr>\n",
       "    <tr>\n",
       "      <th>1</th>\n",
       "      <td>ENST00000371039</td>\n",
       "      <td>ENSG00000118473</td>\n",
       "      <td>n/a</td>\n",
       "      <td>ENSG00000118473</td>\n",
       "      <td>ENST00000371039</td>\n",
       "      <td>ENSP00000360078</td>\n",
       "      <td>ENST00000371039</td>\n",
       "      <td>protein_coding</td>\n",
       "      <td>ENST00000371039</td>\n",
       "      <td>SGIP1</td>\n",
       "    </tr>\n",
       "    <tr>\n",
       "      <th>2</th>\n",
       "      <td>ENST00000424320</td>\n",
       "      <td>ENSG00000118473</td>\n",
       "      <td>n/a</td>\n",
       "      <td>ENSG00000118473</td>\n",
       "      <td>ENST00000424320</td>\n",
       "      <td>ENSP00000410439</td>\n",
       "      <td>ENST00000424320</td>\n",
       "      <td>protein_coding</td>\n",
       "      <td>ENST00000424320</td>\n",
       "      <td>SGIP1</td>\n",
       "    </tr>\n",
       "    <tr>\n",
       "      <th>3</th>\n",
       "      <td>ENST00000371035</td>\n",
       "      <td>ENSG00000118473</td>\n",
       "      <td>n/a</td>\n",
       "      <td>ENSG00000118473</td>\n",
       "      <td>ENST00000371035</td>\n",
       "      <td>ENSP00000360074</td>\n",
       "      <td>ENST00000371035</td>\n",
       "      <td>protein_coding</td>\n",
       "      <td>ENST00000371035</td>\n",
       "      <td>SGIP1</td>\n",
       "    </tr>\n",
       "    <tr>\n",
       "      <th>4</th>\n",
       "      <td>ENST00000468286</td>\n",
       "      <td>ENSG00000118473</td>\n",
       "      <td>n/a</td>\n",
       "      <td>ENSG00000118473</td>\n",
       "      <td>ENST00000468286</td>\n",
       "      <td></td>\n",
       "      <td>ENST00000468286</td>\n",
       "      <td>processed_transcript</td>\n",
       "      <td>ENST00000468286</td>\n",
       "      <td>SGIP1</td>\n",
       "    </tr>\n",
       "    <tr>\n",
       "      <th>5</th>\n",
       "      <td>ENST00000371036</td>\n",
       "      <td>ENSG00000118473</td>\n",
       "      <td>n/a</td>\n",
       "      <td>ENSG00000118473</td>\n",
       "      <td>ENST00000371036</td>\n",
       "      <td>ENSP00000360075</td>\n",
       "      <td>ENST00000371036</td>\n",
       "      <td>protein_coding</td>\n",
       "      <td>ENST00000371036</td>\n",
       "      <td>SGIP1</td>\n",
       "    </tr>\n",
       "    <tr>\n",
       "      <th>6</th>\n",
       "      <td>ENST00000371037</td>\n",
       "      <td>ENSG00000118473</td>\n",
       "      <td>CCDS30744.1</td>\n",
       "      <td>ENSG00000118473</td>\n",
       "      <td>ENST00000371037</td>\n",
       "      <td>ENSP00000360076</td>\n",
       "      <td>ENST00000371037</td>\n",
       "      <td>protein_coding</td>\n",
       "      <td>ENST00000371037</td>\n",
       "      <td>SGIP1</td>\n",
       "    </tr>\n",
       "    <tr>\n",
       "      <th>7</th>\n",
       "      <td>ENST00000483060</td>\n",
       "      <td>ENSG00000118473</td>\n",
       "      <td>n/a</td>\n",
       "      <td>ENSG00000118473</td>\n",
       "      <td>ENST00000483060</td>\n",
       "      <td></td>\n",
       "      <td>ENST00000483060</td>\n",
       "      <td>processed_transcript</td>\n",
       "      <td>ENST00000483060</td>\n",
       "      <td>SGIP1</td>\n",
       "    </tr>\n",
       "    <tr>\n",
       "      <th>8</th>\n",
       "      <td>ENST00000471889</td>\n",
       "      <td>ENSG00000162426</td>\n",
       "      <td>CCDS30577.1</td>\n",
       "      <td>ENSG00000162426</td>\n",
       "      <td>ENST00000471889</td>\n",
       "      <td>ENSP00000418096</td>\n",
       "      <td>ENST00000471889</td>\n",
       "      <td>protein_coding</td>\n",
       "      <td>ENST00000471889</td>\n",
       "      <td>SLC45A1</td>\n",
       "    </tr>\n",
       "    <tr>\n",
       "      <th>9</th>\n",
       "      <td>ENST00000377479</td>\n",
       "      <td>ENSG00000162426</td>\n",
       "      <td>n/a</td>\n",
       "      <td>ENSG00000162426</td>\n",
       "      <td>ENST00000377479</td>\n",
       "      <td>ENSP00000366699</td>\n",
       "      <td>ENST00000377479</td>\n",
       "      <td>protein_coding</td>\n",
       "      <td>ENST00000377479</td>\n",
       "      <td>SLC45A1</td>\n",
       "    </tr>\n",
       "  </tbody>\n",
       "</table>\n",
       "</div>"
      ],
      "text/plain": [
       "      ensGene_name    ensGene_name2 ccdsInfo_ccds      ensGtp_gene   \n",
       "0  ENST00000237247  ENSG00000118473           n/a  ENSG00000118473  \\\n",
       "1  ENST00000371039  ENSG00000118473           n/a  ENSG00000118473   \n",
       "2  ENST00000424320  ENSG00000118473           n/a  ENSG00000118473   \n",
       "3  ENST00000371035  ENSG00000118473           n/a  ENSG00000118473   \n",
       "4  ENST00000468286  ENSG00000118473           n/a  ENSG00000118473   \n",
       "5  ENST00000371036  ENSG00000118473           n/a  ENSG00000118473   \n",
       "6  ENST00000371037  ENSG00000118473   CCDS30744.1  ENSG00000118473   \n",
       "7  ENST00000483060  ENSG00000118473           n/a  ENSG00000118473   \n",
       "8  ENST00000471889  ENSG00000162426   CCDS30577.1  ENSG00000162426   \n",
       "9  ENST00000377479  ENSG00000162426           n/a  ENSG00000162426   \n",
       "\n",
       "  ensGtp_transcript   ensGtp_protein ensemblSource_name  ensemblSource_source   \n",
       "0   ENST00000237247  ENSP00000237247    ENST00000237247        protein_coding  \\\n",
       "1   ENST00000371039  ENSP00000360078    ENST00000371039        protein_coding   \n",
       "2   ENST00000424320  ENSP00000410439    ENST00000424320        protein_coding   \n",
       "3   ENST00000371035  ENSP00000360074    ENST00000371035        protein_coding   \n",
       "4   ENST00000468286                     ENST00000468286  processed_transcript   \n",
       "5   ENST00000371036  ENSP00000360075    ENST00000371036        protein_coding   \n",
       "6   ENST00000371037  ENSP00000360076    ENST00000371037        protein_coding   \n",
       "7   ENST00000483060                     ENST00000483060  processed_transcript   \n",
       "8   ENST00000471889  ENSP00000418096    ENST00000471889        protein_coding   \n",
       "9   ENST00000377479  ENSP00000366699    ENST00000377479        protein_coding   \n",
       "\n",
       "  ensemblToGeneName_name ensemblToGeneName_value  \n",
       "0        ENST00000237247                   SGIP1  \n",
       "1        ENST00000371039                   SGIP1  \n",
       "2        ENST00000424320                   SGIP1  \n",
       "3        ENST00000371035                   SGIP1  \n",
       "4        ENST00000468286                   SGIP1  \n",
       "5        ENST00000371036                   SGIP1  \n",
       "6        ENST00000371037                   SGIP1  \n",
       "7        ENST00000483060                   SGIP1  \n",
       "8        ENST00000471889                 SLC45A1  \n",
       "9        ENST00000377479                 SLC45A1  "
      ]
     },
     "execution_count": 3,
     "metadata": {},
     "output_type": "execute_result"
    }
   ],
   "source": [
    "ens.head(10)"
   ]
  },
  {
   "cell_type": "code",
   "execution_count": 4,
   "metadata": {},
   "outputs": [],
   "source": [
    "# len(set(ens[ens.ccdsInfo_ccds != 'n/a'].ensemblToGeneName_value))"
   ]
  },
  {
   "cell_type": "code",
   "execution_count": 5,
   "metadata": {},
   "outputs": [],
   "source": [
    "gene_list = pd.read_table(\"gene_list.txt\", header=None, names=[\"xxx\", \"gene\"])"
   ]
  },
  {
   "cell_type": "code",
   "execution_count": 18,
   "metadata": {},
   "outputs": [
    {
     "name": "stdout",
     "output_type": "stream",
     "text": [
      "766 gene names used in algo cbase are not found in ensembl gene list\n"
     ]
    }
   ],
   "source": [
    "# ens_gene_set   = set(ens[ens.ccdsInfo_ccds != 'n/a'].ensemblToGeneName_value)\n",
    "ens_gene_set   = set(ens.ensemblToGeneName_value)\n",
    "cbase_gene_set = set(gene_list.gene)\n",
    "print(\"%d gene names used in algo cbase are not found in ensembl gene list\"%len(cbase_gene_set - ens_gene_set))"
   ]
  },
  {
   "cell_type": "code",
   "execution_count": 17,
   "metadata": {},
   "outputs": [
    {
     "name": "stdout",
     "output_type": "stream",
     "text": [
      "Among 204940 hg19.ensGene.name, 167892 doesn't have hg19.ccdsInfo.ccds.\n"
     ]
    }
   ],
   "source": [
    "print(\"Among %d hg19.ensGene.name, %d doesn't have hg19.ccdsInfo.ccds.\"%(len(ens),len(ens[ens.ccdsInfo_ccds == 'n/a'])))"
   ]
  },
  {
   "cell_type": "code",
   "execution_count": 21,
   "metadata": {},
   "outputs": [
    {
     "name": "stdout",
     "output_type": "stream",
     "text": [
      "Among 37048 hg19.ccdsInfo.ccds, there are 28824 singleton. \n"
     ]
    }
   ],
   "source": [
    "print(\"Among %d hg19.ccdsInfo.ccds, there are %d singleton. \"%(len(ens[ens.ccdsInfo_ccds != 'n/a'].ccdsInfo_ccds), len(set(ens[ens.ccdsInfo_ccds != 'n/a'].ccdsInfo_ccds))))"
   ]
  }
 ],
 "metadata": {
  "kernelspec": {
   "display_name": "Python 3 (ipykernel)",
   "language": "python",
   "name": "python3"
  },
  "language_info": {
   "codemirror_mode": {
    "name": "ipython",
    "version": 3
   },
   "file_extension": ".py",
   "mimetype": "text/x-python",
   "name": "python",
   "nbconvert_exporter": "python",
   "pygments_lexer": "ipython3",
   "version": "3.10.6"
  }
 },
 "nbformat": 4,
 "nbformat_minor": 2
}
