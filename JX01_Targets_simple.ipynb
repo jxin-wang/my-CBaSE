{
 "cells": [
  {
   "cell_type": "code",
   "execution_count": 1,
   "metadata": {},
   "outputs": [],
   "source": [
    "import numpy as np\n",
    "import pandas as pd\n",
    "import gffpandas.gffpandas as gffpd"
   ]
  },
  {
   "cell_type": "code",
   "execution_count": 2,
   "metadata": {},
   "outputs": [],
   "source": [
    "## GRCh37, gencode, Release 44 \n",
    "## Comprehensive gene annotation\n",
    "## https://ftp.ebi.ac.uk/pub/databases/gencode/Gencode_human/release_44/GRCh37_mapping/gencode.v44lift37.annotation.gtf.gz\n",
    "## https://ftp.ebi.ac.uk/pub/databases/gencode/Gencode_human/release_44/GRCh37_mapping/gencode.v44lift37.annotation.gff3.gz\n",
    "gencode_df = gffpd.read_gff3(\"gencode.v44lift37.annotation.gff3\").df"
   ]
  },
  {
   "cell_type": "code",
   "execution_count": 3,
   "metadata": {},
   "outputs": [],
   "source": [
    "## HGNC: HUGO Gene Nomenclature Committee\n",
    "## https://www.genenames.org/download/archive/#!/#tocAnchor-1-2\n",
    "## https://ftp.ebi.ac.uk/pub/databases/genenames/hgnc/tsv/hgnc_complete_set.txt\n",
    "hgnc_df        = pd.read_csv(\"hgnc_complete_set.txt\", sep = \"\\t\", header=0, keep_default_na=False)\n",
    "hgnc_symbol_df = hgnc_df[[\"hgnc_id\", \"symbol\", \"name\", \"alias_symbol\", \"alias_name\", \"prev_symbol\", \"prev_name\"]]"
   ]
  },
  {
   "cell_type": "code",
   "execution_count": 4,
   "metadata": {},
   "outputs": [],
   "source": [
    "## list of gene names extracted from condon_by_gene.txt.gz\n",
    "cbase_gene_df = pd.read_table(\"gene_list.txt\", header = None, names = [\"xxx\", \"gene\"])"
   ]
  },
  {
   "cell_type": "code",
   "execution_count": 5,
   "metadata": {},
   "outputs": [],
   "source": [
    "def get_gencode_attr_value(x, key):\n",
    "    for pair in x.split(\";\"):\n",
    "        (k,v) = pair.split(\"=\")\n",
    "        if k == key:\n",
    "            return v"
   ]
  },
  {
   "cell_type": "code",
   "execution_count": 6,
   "metadata": {},
   "outputs": [],
   "source": [
    "gencode_df = gencode_df[gencode_df.type == \"exon\"]\n",
    "gencode_df[\"gene_name\"] = gencode_df.attributes.apply(lambda x: get_gencode_attr_value(x, \"gene_name\"))\n",
    "gencode_df[\"exon_number\"]  = gencode_df.attributes.apply(lambda x: get_gencode_attr_value(x, \"exon_number\"))\n",
    "gencode_df[\"exon_id\"]      = gencode_df.attributes.apply(lambda x: get_gencode_attr_value(x, \"ID\"))\n",
    "gencode_df[\"exon_group_id\"]= gencode_df[\"exon_id\"].apply(lambda x: x.split(\":\")[1])"
   ]
  },
  {
   "cell_type": "code",
   "execution_count": 7,
   "metadata": {},
   "outputs": [],
   "source": [
    "import warnings\n",
    "\n",
    "# [\"hgnc_id\", \"symbol\",\"name\",\"alias_symbol\",\"alias_name\",\"prev_symbol\",\"prev_name\"]\n",
    "\n",
    "def is_symbol(gene):\n",
    "    rec = hgnc_symbol_df[hgnc_symbol_df.symbol == gene]\n",
    "    if len(rec) > 0 :\n",
    "        return True\n",
    "    return False\n",
    "\n",
    "def convert2symbol(gene):\n",
    "    for symbol in [\"alias_symbol\",\"prev_symbol\",\"name\",\"alias_name\",\"prev_name\"]:\n",
    "        rec = hgnc_symbol_df[hgnc_symbol_df[symbol].apply(lambda x: True if x.split(\"|\").count(gene) > 0 else False)]\n",
    "        if len(rec) > 0 :\n",
    "            return rec.symbol.iloc[0]\n",
    "            \n",
    "    warnings.warn(\"Symbol %s is not matched in HGNC!\"%gene, ResourceWarning)\n",
    "    return None"
   ]
  },
  {
   "cell_type": "code",
   "execution_count": 8,
   "metadata": {},
   "outputs": [],
   "source": [
    "def assemble_into_bed_format(chm:str, start:int, start_ext:int, end:int, end_ext:int, group_size:int, \n",
    "                             index:int, name:str, score:str, strand:str):\n",
    "    ## bed format: \n",
    "    ## Chromosome: (e.g. chr3, chrY, chr2_random) or scaffold (e.g. scaffold10671) name\n",
    "    ## chromStart: Start coordinate on the chromosome or scaffold for the sequence considered (the first base on the chromosome is numbered 0)\n",
    "    ## chromEnd:   End coordinate on the chromosome or scaffold for the sequence considered. This position is non-inclusive, unlike chromStart.\n",
    "    ## group_size: total number of exons of the transcription\n",
    "    ## index: index number of exons in the transcription\n",
    "    ## name: Name of the line in the BED file\n",
    "    ## score: Score between 0 and 1000\n",
    "    ## strand: DNA strand orientation (positive [\"+\"] or negative [\"-\"] or \".\" if no strand)\n",
    "    return [chm.replace(\"chr\",\"\"), start, start_ext, end, end_ext, group_size, index, name, score, strand]\n",
    "\n",
    "def assemble_target_region_by(gene_name):\n",
    "    gene_exons_df = gencode_df[gencode_df.gene_name == gene_name]\n",
    "    if len(gene_exons_df) > 0 :\n",
    "        # chose the group which has max number of exons\n",
    "        exon_group_id  = gene_exons_df.groupby(\"exon_group_id\").size().idxmax()\n",
    "        exon_group_size= gene_exons_df.groupby(\"exon_group_id\").size().max()\n",
    "        gene_exons_df  = gene_exons_df[gene_exons_df.exon_group_id == exon_group_id]\n",
    "        \n",
    "        # name: \"gene_name:exons group size:exon number\"\n",
    "        return pd.DataFrame([assemble_into_bed_format(row.seq_id,row.start,row.start,row.end,row.end,exon_group_size,int(row.exon_number),\n",
    "                                    \"%s:%d:%d\"%(row.gene_name,exon_group_size,int(row.exon_number)),row.score,row.strand) \n",
    "                                    for ind,row in gene_exons_df.iterrows()],\n",
    "                             columns = [\"Chromosome\", \"chromStart\", \"chromStart_ext\", \"chromEnd\", \"chromEnd_ext\", \n",
    "                                        \"exon_group_size\", \"exon_number\", \"gene_name\", \"score\", \"strand\"])\n",
    "        \n",
    "    else:\n",
    "        return pd.DataFrame([], columns = [\"Chromosome\", \"chromStart\", \"chromStart_ext\", \"chromEnd\", \"chromEnd_ext\", \n",
    "                                           \"exon_group_size\", \"exon_number\", \"gene_name\", \"score\", \"strand\"])\n",
    "    \n",
    "def write_bed_dataframe(fd, bed_df):\n",
    "    for ind,row in bed_df.iterrows():\n",
    "        fd.write(\"%s\\t%d\\t%d\\t%s\\t%s\\t%s\\n\"%(row.Chromosome, row.chromStart_ext, row.chromEnd_ext, row.gene_name, row.score, row.strand))\n"
   ]
  },
  {
   "cell_type": "code",
   "execution_count": 9,
   "metadata": {},
   "outputs": [],
   "source": [
    "gene_missmatch_list = []\n",
    "\n",
    "def ext_chromStart_splice_sites(x):\n",
    "    if x.exon_number == 1:\n",
    "        return x.chromStart - 1\n",
    "    else:\n",
    "        # extend the start to splice sites if it is NOT the first codon\n",
    "        return x.chromStart - 1 - 2\n",
    "    \n",
    "def ext_chromEnd_splice_sites(x):\n",
    "    if x.exon_number == x.exon_group_size:\n",
    "        return x.chromEnd + 1\n",
    "    else:\n",
    "        # extend the end to splice sites if it is NOT the last codon\n",
    "        return x.chromEnd + 1 + 2\n",
    "\n",
    "with open(\"genes.bed\", \"w\") as fd:\n",
    "    for gene_name in cbase_gene_df.gene:\n",
    "    \n",
    "        bed_df = assemble_target_region_by(gene_name)\n",
    "        bed_df[\"chromStart_ext\"] = bed_df.apply(ext_chromStart_splice_sites, axis = 1)\n",
    "        bed_df[\"chromEnd_ext\"]   = bed_df.apply(ext_chromEnd_splice_sites, axis = 1)\n",
    "        \n",
    "        if len(bed_df) > 0:\n",
    "            write_bed_dataframe(fd, bed_df)\n",
    "            continue\n",
    "            \n",
    "        if not is_symbol(gene_name): \n",
    "            # convert gene name to stardard symbol\n",
    "            symbol = convert2symbol(gene_name)\n",
    "            bed_df   = assemble_target_region_by(symbol)\n",
    "            if len(bed_df) > 0:\n",
    "                write_bed_dataframe(fd, bed_df)\n",
    "                continue\n",
    "        \n",
    "        # gene_name in genocode is not standard symbol\n",
    "        # TODO: match all the possible symbols\n",
    "        # TODO: raise warning and correct HGNC(HUGO Gene Nomenclature Committee)\n",
    "        # warnings.warn(\"gene name [%s] is mismatched in HGNC!\\n\"%gene_name)\n",
    "        gene_missmatch_list.append(gene_name)"
   ]
  },
  {
   "cell_type": "markdown",
   "metadata": {},
   "source": [
    "#### execute the following command line on the server: \n",
    "\n",
    "```\n",
    "[j_wang@flamingo-lg-01 Workspace]$ bedtools getfasta -fi /mnt/beegfs/userdata/a_ivashkin/references/genome_data/gatk/human_g1k_v37.fasta -bed genes.bed -name -tab -fo gencode_codons.tsv\n",
    "```"
   ]
  },
  {
   "cell_type": "code",
   "execution_count": 10,
   "metadata": {},
   "outputs": [],
   "source": [
    "import os\n",
    "\n",
    "# os.system('bedtools getfasta -fi /mnt/beegfs/userdata/a_ivashkin/references/genome_data/gatk/human_g1k_v37.fasta -bed genes.bed -name -tab -fo gencode_codons.tsv')"
   ]
  },
  {
   "cell_type": "code",
   "execution_count": 11,
   "metadata": {},
   "outputs": [],
   "source": [
    "triplets = [\"AAA\", \"AAC\", \"AAG\", \"AAT\", \"CAA\", \"CAC\", \"CAG\", \"CAT\",\n",
    "            \"GAA\", \"GAC\", \"GAG\", \"GAT\", \"TAA\", \"TAC\", \"TAG\", \"TAT\", \n",
    "            \"ACA\", \"ACC\", \"ACG\", \"ACT\", \"CCA\", \"CCC\", \"CCG\", \"CCT\", \n",
    "            \"GCA\", \"GCC\", \"GCG\", \"GCT\", \"TCA\", \"TCC\", \"TCG\", \"TCT\", \n",
    "            \"AGA\", \"AGC\", \"AGG\", \"AGT\", \"CGA\", \"CGC\", \"CGG\", \"CGT\", \n",
    "            \"GGA\", \"GGC\", \"GGG\", \"GGT\", \"TGA\", \"TGC\", \"TGG\", \"TGT\", \n",
    "            \"ATA\", \"ATC\", \"ATG\", \"ATT\", \"CTA\", \"CTC\", \"CTG\", \"CTT\", \n",
    "            \"GTA\", \"GTC\", \"GTG\", \"GTT\", \"TTA\", \"TTC\", \"TTG\", \"TTT\"]"
   ]
  },
  {
   "cell_type": "code",
   "execution_count": 12,
   "metadata": {},
   "outputs": [],
   "source": [
    "codons_df = pd.read_csv(\"gencode_codons.tsv\", header=None, names=[\"gene_code\",\"exons_seq\"], sep='\\t')"
   ]
  },
  {
   "cell_type": "code",
   "execution_count": 13,
   "metadata": {},
   "outputs": [],
   "source": [
    "codons_df[\"gene_name\"]       = codons_df.gene_code.apply(lambda x: x.split(\":\")[0])\n",
    "codons_df[\"exon_group_size\"] = codons_df.gene_code.apply(lambda x: x.split(\":\")[1])\n",
    "codons_df[\"exon_group_id\"]   = codons_df.gene_code.apply(lambda x: x.split(\":\")[2])"
   ]
  },
  {
   "cell_type": "code",
   "execution_count": 14,
   "metadata": {},
   "outputs": [
    {
     "ename": "TypeError",
     "evalue": "string indices must be integers",
     "output_type": "error",
     "traceback": [
      "\u001b[0;31m---------------------------------------------------------------------------\u001b[0m",
      "\u001b[0;31mTypeError\u001b[0m                                 Traceback (most recent call last)",
      "Cell \u001b[0;32mIn[14], line 65\u001b[0m\n\u001b[1;32m     63\u001b[0m \u001b[38;5;28;01mfor\u001b[39;00m name,group \u001b[38;5;129;01min\u001b[39;00m codons_df\u001b[38;5;241m.\u001b[39mgroupby(\u001b[38;5;124m\"\u001b[39m\u001b[38;5;124mgene_name\u001b[39m\u001b[38;5;124m\"\u001b[39m):\n\u001b[1;32m     64\u001b[0m     splicing_sites \u001b[38;5;241m=\u001b[39m get_splicing_sites_context(group)\n\u001b[0;32m---> 65\u001b[0m     exons          \u001b[38;5;241m=\u001b[39m \u001b[43mget_exons_context\u001b[49m\u001b[43m(\u001b[49m\u001b[43mgroup\u001b[49m\u001b[43m)\u001b[49m\n\u001b[1;32m     67\u001b[0m     fd\u001b[38;5;241m.\u001b[39mwrite(\u001b[38;5;124m\"\u001b[39m\u001b[38;5;124mgene\u001b[39m\u001b[38;5;130;01m\\t\u001b[39;00m\u001b[38;5;132;01m%s\u001b[39;00m\u001b[38;5;130;01m\\n\u001b[39;00m\u001b[38;5;124m\"\u001b[39m\u001b[38;5;241m%\u001b[39mname)\n\u001b[1;32m     69\u001b[0m     \u001b[38;5;28;01mfor\u001b[39;00m ss \u001b[38;5;129;01min\u001b[39;00m splicing_sites:\n",
      "Cell \u001b[0;32mIn[14], line 51\u001b[0m, in \u001b[0;36mget_exons_context\u001b[0;34m(gene_group)\u001b[0m\n\u001b[1;32m     49\u001b[0m     \u001b[38;5;28;01melse\u001b[39;00m:\n\u001b[1;32m     50\u001b[0m         exon_seq \u001b[38;5;241m=\u001b[39m row\u001b[38;5;241m.\u001b[39mexons_seq[\u001b[38;5;241m2\u001b[39m:\u001b[38;5;241m-\u001b[39m\u001b[38;5;241m2\u001b[39m]\n\u001b[0;32m---> 51\u001b[0m         exons \u001b[38;5;241m=\u001b[39m exons \u001b[38;5;241m+\u001b[39m [ triplets\u001b[38;5;241m.\u001b[39mindex(exon_seq[i,i\u001b[38;5;241m+\u001b[39m\u001b[38;5;241m3\u001b[39m]) \u001b[38;5;28;01mfor\u001b[39;00m i \u001b[38;5;129;01min\u001b[39;00m \u001b[38;5;28mrange\u001b[39m(\u001b[38;5;28mlen\u001b[39m(exon_seq)\u001b[38;5;241m-\u001b[39m\u001b[38;5;241m2\u001b[39m) ]\n\u001b[1;32m     53\u001b[0m \u001b[38;5;28;01mif\u001b[39;00m (\u001b[38;5;28mlen\u001b[39m(exons_seq)) \u001b[38;5;241m%\u001b[39m \u001b[38;5;241m3\u001b[39m \u001b[38;5;241m!=\u001b[39m \u001b[38;5;241m0\u001b[39m:\n\u001b[1;32m     54\u001b[0m     \u001b[38;5;28;01mraise\u001b[39;00m \u001b[38;5;167;01mValueError\u001b[39;00m(\u001b[38;5;124m\"\u001b[39m\u001b[38;5;132;01m%s\u001b[39;00m\u001b[38;5;124m has only \u001b[39m\u001b[38;5;132;01m%d\u001b[39;00m\u001b[38;5;124m nucleotide!\u001b[39m\u001b[38;5;124m\"\u001b[39m\u001b[38;5;241m%\u001b[39m(exons_seq[\u001b[38;5;241m1\u001b[39m:\u001b[38;5;241m-\u001b[39m\u001b[38;5;241m1\u001b[39m], \u001b[38;5;28mlen\u001b[39m(exons_seq)))\n",
      "Cell \u001b[0;32mIn[14], line 51\u001b[0m, in \u001b[0;36m<listcomp>\u001b[0;34m(.0)\u001b[0m\n\u001b[1;32m     49\u001b[0m     \u001b[38;5;28;01melse\u001b[39;00m:\n\u001b[1;32m     50\u001b[0m         exon_seq \u001b[38;5;241m=\u001b[39m row\u001b[38;5;241m.\u001b[39mexons_seq[\u001b[38;5;241m2\u001b[39m:\u001b[38;5;241m-\u001b[39m\u001b[38;5;241m2\u001b[39m]\n\u001b[0;32m---> 51\u001b[0m         exons \u001b[38;5;241m=\u001b[39m exons \u001b[38;5;241m+\u001b[39m [ triplets\u001b[38;5;241m.\u001b[39mindex(\u001b[43mexon_seq\u001b[49m\u001b[43m[\u001b[49m\u001b[43mi\u001b[49m\u001b[43m,\u001b[49m\u001b[43mi\u001b[49m\u001b[38;5;241;43m+\u001b[39;49m\u001b[38;5;241;43m3\u001b[39;49m\u001b[43m]\u001b[49m) \u001b[38;5;28;01mfor\u001b[39;00m i \u001b[38;5;129;01min\u001b[39;00m \u001b[38;5;28mrange\u001b[39m(\u001b[38;5;28mlen\u001b[39m(exon_seq)\u001b[38;5;241m-\u001b[39m\u001b[38;5;241m2\u001b[39m) ]\n\u001b[1;32m     53\u001b[0m \u001b[38;5;28;01mif\u001b[39;00m (\u001b[38;5;28mlen\u001b[39m(exons_seq)) \u001b[38;5;241m%\u001b[39m \u001b[38;5;241m3\u001b[39m \u001b[38;5;241m!=\u001b[39m \u001b[38;5;241m0\u001b[39m:\n\u001b[1;32m     54\u001b[0m     \u001b[38;5;28;01mraise\u001b[39;00m \u001b[38;5;167;01mValueError\u001b[39;00m(\u001b[38;5;124m\"\u001b[39m\u001b[38;5;132;01m%s\u001b[39;00m\u001b[38;5;124m has only \u001b[39m\u001b[38;5;132;01m%d\u001b[39;00m\u001b[38;5;124m nucleotide!\u001b[39m\u001b[38;5;124m\"\u001b[39m\u001b[38;5;241m%\u001b[39m(exons_seq[\u001b[38;5;241m1\u001b[39m:\u001b[38;5;241m-\u001b[39m\u001b[38;5;241m1\u001b[39m], \u001b[38;5;28mlen\u001b[39m(exons_seq)))\n",
      "\u001b[0;31mTypeError\u001b[0m: string indices must be integers"
     ]
    }
   ],
   "source": [
    "## problem: splice sites may be located in a codon. \n",
    "## solution: store splice sites and exons seperately \n",
    "\n",
    "def get_splice_sites_context(gene_group): \n",
    "    \n",
    "    splice_sites = []\n",
    "    \n",
    "    for ind, row in gene_group.sort_values(['exon_group_id'],ascending=True).iterrows(): \n",
    "        if row.exon_group_id == 1:\n",
    "            # splice site of first exon \n",
    "            splice_site_context_1 = triplets.index(row.exons_seq[-5:-2])\n",
    "            splice_site_context_2 = triplets.index(row.exons_seq[-4:-1])\n",
    "            splice_sites.append([splice_site_context_1, splice_site_context_2])\n",
    "            \n",
    "        elif row.exon_group_id == row.exon_group_size:\n",
    "            # splice site of last exon \n",
    "            splice_site_context_1 = triplets.index(row.exons_seq[0:3])\n",
    "            splice_site_context_2 = triplets.index(row.exons_seq[1:4])\n",
    "            splice_sites.append([splice_site_context_1, splice_site_context_2])\n",
    "        \n",
    "        else:\n",
    "            # splice site on the left of exon\n",
    "            splice_site_context_1 = triplets.index(row.exons_seq[0:3])\n",
    "            splice_site_context_2 = triplets.index(row.exons_seq[1:4])\n",
    "            splice_sites.append([splice_site_context_1, splice_site_context_2])\n",
    "            \n",
    "            # splice site on the right of exon\n",
    "            splice_site_context_1 = triplets.index(row.exons_seq[-5:-2])\n",
    "            splice_site_context_2 = triplets.index(row.exons_seq[-4:-1])\n",
    "            splice_sites.append([splice_site_context_1, splice_site_context_2])\n",
    "            \n",
    "    return splice_sites\n",
    "    \n",
    "def get_exons_context(gene_group): \n",
    "    \n",
    "    exons = []\n",
    "    \n",
    "    for ind, row in gene_group.sort_values(['exon_group_id'],ascending=True).iterrows():\n",
    "        if row.exon_group_id == 1 :\n",
    "            # first exon\n",
    "            exon_seq = row.exons_seq[:-2]\n",
    "            exons = exons + [ triplets.index(exon_seq[i,i+3]) for i in range(len(exon_seq)-2) ]\n",
    "            \n",
    "        elif row.exon_group_id == row.exon_group_size :\n",
    "            # last exon \n",
    "            exon_seq = row.exons_seq[2:]\n",
    "            exons = exons + [ triplets.index(exon_seq[i,i+3]) for i in range(len(exon_seq)-2) ]\n",
    "            \n",
    "        else:\n",
    "            exon_seq = row.exons_seq[2:-2]\n",
    "            exons = exons + [ triplets.index(exon_seq[i,i+3]) for i in range(len(exon_seq)-2) ]\n",
    "    \n",
    "    if (len(exons_seq)) % 3 != 0:\n",
    "        raise ValueError(\"%s has only %d nucleotide!\"%(exons_seq[1:-1], len(exons_seq)))\n",
    "        \n",
    "    exons = [[triplets.index(exons[i  ,i+3]), triplets.index(exons[i+1,i+4]), triplets.index(exons[i+2,i+5])]\n",
    "                for i in range(0,len(exons_seq),3)]\n",
    "    \n",
    "    return exons\n",
    "\n",
    "with open(\"gencode_codons_by_gene.txt\", \"w\") as fd:\n",
    "    \n",
    "    for name,group in codons_df.groupby(\"gene_name\"):\n",
    "        splice_sites = get_splice_sites_context(group)\n",
    "        exons          = get_exons_context(group)\n",
    "        \n",
    "        fd.write(\"gene\\t%s\\n\"%name)\n",
    "        \n",
    "        for ss in splice_sites:\n",
    "            fd.write(\"%d\\t%d\\n\"%(ss[0],ss[1]))\n",
    "            \n",
    "        for ex in exons:\n",
    "            fd.write(\"%d\\t%d\\t%d\\n\"%(ex[0],ex[1],ex[2]))\n",
    "            "
   ]
  },
  {
   "cell_type": "code",
   "execution_count": 16,
   "metadata": {},
   "outputs": [
    {
     "name": "stdout",
     "output_type": "stream",
     "text": [
      "179272 gene_code                             A1BG:8:1::19:58864769-58864861\n",
      "exons_seq          CCCACAGCAAGAGAAAGACCACGAGCATGGACATGATGGTCGCGCT...\n",
      "gene_name                                                       A1BG\n",
      "exon_group_size                                                    8\n",
      "exon_group_id                                                      1\n",
      "Name: 179272, dtype: object\n",
      "179273 gene_code                     A1BG:8:2::19:58864655-58864696\n",
      "exons_seq          ACATATGGCTGCTTCTGTCACTGGGCCCCAGGTGACACCTG\n",
      "gene_name                                               A1BG\n",
      "exon_group_size                                            8\n",
      "exon_group_id                                              2\n",
      "Name: 179273, dtype: object\n",
      "179274 gene_code                             A1BG:8:3::19:58864291-58864566\n",
      "exons_seq          ACTTGGCCCTGTCAGCTCCAGGAGCTTGCTCAGCTGGGTCCATCCT...\n",
      "gene_name                                                       A1BG\n",
      "exon_group_size                                                    8\n",
      "exon_group_id                                                      3\n",
      "Name: 179274, dtype: object\n",
      "179275 gene_code                             A1BG:8:4::19:58863646-58863924\n",
      "exons_seq          ACCGAGCTCCTCAATGGTCACAGTAGCGCTGGGCTCAGAGAGGGCG...\n",
      "gene_name                                                       A1BG\n",
      "exon_group_size                                                    8\n",
      "exon_group_id                                                      4\n",
      "Name: 179275, dtype: object\n",
      "179276 gene_code                             A1BG:8:5::19:58862754-58863056\n",
      "exons_seq          ACCATCGCTCAGAATCAGCTCGACCGGCGCGCTGTCCCCGGACCAG...\n",
      "gene_name                                                       A1BG\n",
      "exon_group_size                                                    8\n",
      "exon_group_id                                                      5\n",
      "Name: 179276, dtype: object\n",
      "179277 gene_code                             A1BG:8:6::19:58861733-58862020\n",
      "exons_seq          ACCGTCCACGTGCAGCTCCAAGCGCTCGCTGGGCGCGGAGCCCCCG...\n",
      "gene_name                                                       A1BG\n",
      "exon_group_size                                                    8\n",
      "exon_group_id                                                      6\n",
      "Name: 179277, dtype: object\n",
      "179278 gene_code                             A1BG:8:7::19:58858716-58859009\n",
      "exons_seq          ACCTGCCACCAGGAGCTCCACAGGGTCGCTGAGCTCCGATTCGAAG...\n",
      "gene_name                                                       A1BG\n",
      "exon_group_size                                                    8\n",
      "exon_group_id                                                      7\n",
      "Name: 179278, dtype: object\n",
      "179279 gene_code                             A1BG:8:8::19:58856546-58858396\n",
      "exons_seq          GAAAACAACCCAATATTTTAAAGTGTGCAAAATATATAAACAGACA...\n",
      "gene_name                                                       A1BG\n",
      "exon_group_size                                                    8\n",
      "exon_group_id                                                      8\n",
      "Name: 179279, dtype: object\n"
     ]
    }
   ],
   "source": [
    "for name,group in codons_df.groupby(\"gene_name\"):\n",
    "    for idx, row in group.sort_values(['exon_group_id'],ascending=True).iterrows():\n",
    "        print(idx, row)\n",
    "        \n",
    "    break"
   ]
  }
 ],
 "metadata": {
  "kernelspec": {
   "display_name": "Python 3 (ipykernel)",
   "language": "python",
   "name": "python3"
  },
  "language_info": {
   "codemirror_mode": {
    "name": "ipython",
    "version": 3
   },
   "file_extension": ".py",
   "mimetype": "text/x-python",
   "name": "python",
   "nbconvert_exporter": "python",
   "pygments_lexer": "ipython3",
   "version": "3.10.6"
  }
 },
 "nbformat": 4,
 "nbformat_minor": 2
}
